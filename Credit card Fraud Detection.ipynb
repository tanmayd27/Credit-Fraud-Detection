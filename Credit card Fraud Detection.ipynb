{
 "cells": [
  {
   "cell_type": "code",
   "execution_count": 1,
   "metadata": {},
   "outputs": [
    {
     "name": "stdout",
     "output_type": "stream",
     "text": [
      "Pandas Version : Pandas 0.25.1\n",
      "Numpy Version : Numpy 1.16.5\n",
      "Matplotlib Version : Matplotlib 3.1.1\n",
      "Seaborn Version : Seaborn 0.9.0\n"
     ]
    }
   ],
   "source": [
    "# Libraries\n",
    "\n",
    "import pandas as pd\n",
    "import numpy as np\n",
    "import matplotlib.pyplot as plt\n",
    "import seaborn as sns\n",
    "import datetime\n",
    "import math\n",
    "import matplotlib \n",
    "\n",
    "# Print Versions for sharing Projects\n",
    "\n",
    "print(f\"Pandas Version : Pandas {pd.__version__}\")\n",
    "print(f\"Numpy Version : Numpy {np.__version__}\")\n",
    "print(f\"Matplotlib Version : Matplotlib {matplotlib.__version__}\")\n",
    "print(f\"Seaborn Version : Seaborn {sns.__version__}\")\n",
    "\n",
    "# Magic Functions for In-Notebook Display\n",
    "\n",
    "%matplotlib inline"
   ]
  },
  {
   "cell_type": "code",
   "execution_count": 2,
   "metadata": {},
   "outputs": [],
   "source": [
    "import os\n",
    "os.chdir('D:/Class/ML Algorithms')\n",
    "path_data = os.getcwd()\n",
    "df = pd.read_csv('creditcard.csv')"
   ]
  },
  {
   "cell_type": "code",
   "execution_count": 3,
   "metadata": {},
   "outputs": [
    {
     "data": {
      "text/plain": [
       "'D:\\\\Class\\\\ML Algorithms'"
      ]
     },
     "execution_count": 3,
     "metadata": {},
     "output_type": "execute_result"
    }
   ],
   "source": [
    "path_data"
   ]
  },
  {
   "cell_type": "code",
   "execution_count": 4,
   "metadata": {},
   "outputs": [
    {
     "data": {
      "text/html": [
       "<div>\n",
       "<style scoped>\n",
       "    .dataframe tbody tr th:only-of-type {\n",
       "        vertical-align: middle;\n",
       "    }\n",
       "\n",
       "    .dataframe tbody tr th {\n",
       "        vertical-align: top;\n",
       "    }\n",
       "\n",
       "    .dataframe thead th {\n",
       "        text-align: right;\n",
       "    }\n",
       "</style>\n",
       "<table border=\"1\" class=\"dataframe\">\n",
       "  <thead>\n",
       "    <tr style=\"text-align: right;\">\n",
       "      <th></th>\n",
       "      <th>Time</th>\n",
       "      <th>V1</th>\n",
       "      <th>V2</th>\n",
       "      <th>V3</th>\n",
       "      <th>V4</th>\n",
       "      <th>V5</th>\n",
       "      <th>V6</th>\n",
       "      <th>V7</th>\n",
       "      <th>V8</th>\n",
       "      <th>V9</th>\n",
       "      <th>...</th>\n",
       "      <th>V21</th>\n",
       "      <th>V22</th>\n",
       "      <th>V23</th>\n",
       "      <th>V24</th>\n",
       "      <th>V25</th>\n",
       "      <th>V26</th>\n",
       "      <th>V27</th>\n",
       "      <th>V28</th>\n",
       "      <th>Amount</th>\n",
       "      <th>Class</th>\n",
       "    </tr>\n",
       "  </thead>\n",
       "  <tbody>\n",
       "    <tr>\n",
       "      <td>0</td>\n",
       "      <td>0.0</td>\n",
       "      <td>-1.359807</td>\n",
       "      <td>-0.072781</td>\n",
       "      <td>2.536347</td>\n",
       "      <td>1.378155</td>\n",
       "      <td>-0.338321</td>\n",
       "      <td>0.462388</td>\n",
       "      <td>0.239599</td>\n",
       "      <td>0.098698</td>\n",
       "      <td>0.363787</td>\n",
       "      <td>...</td>\n",
       "      <td>-0.018307</td>\n",
       "      <td>0.277838</td>\n",
       "      <td>-0.110474</td>\n",
       "      <td>0.066928</td>\n",
       "      <td>0.128539</td>\n",
       "      <td>-0.189115</td>\n",
       "      <td>0.133558</td>\n",
       "      <td>-0.021053</td>\n",
       "      <td>149.62</td>\n",
       "      <td>0</td>\n",
       "    </tr>\n",
       "    <tr>\n",
       "      <td>1</td>\n",
       "      <td>0.0</td>\n",
       "      <td>1.191857</td>\n",
       "      <td>0.266151</td>\n",
       "      <td>0.166480</td>\n",
       "      <td>0.448154</td>\n",
       "      <td>0.060018</td>\n",
       "      <td>-0.082361</td>\n",
       "      <td>-0.078803</td>\n",
       "      <td>0.085102</td>\n",
       "      <td>-0.255425</td>\n",
       "      <td>...</td>\n",
       "      <td>-0.225775</td>\n",
       "      <td>-0.638672</td>\n",
       "      <td>0.101288</td>\n",
       "      <td>-0.339846</td>\n",
       "      <td>0.167170</td>\n",
       "      <td>0.125895</td>\n",
       "      <td>-0.008983</td>\n",
       "      <td>0.014724</td>\n",
       "      <td>2.69</td>\n",
       "      <td>0</td>\n",
       "    </tr>\n",
       "    <tr>\n",
       "      <td>2</td>\n",
       "      <td>1.0</td>\n",
       "      <td>-1.358354</td>\n",
       "      <td>-1.340163</td>\n",
       "      <td>1.773209</td>\n",
       "      <td>0.379780</td>\n",
       "      <td>-0.503198</td>\n",
       "      <td>1.800499</td>\n",
       "      <td>0.791461</td>\n",
       "      <td>0.247676</td>\n",
       "      <td>-1.514654</td>\n",
       "      <td>...</td>\n",
       "      <td>0.247998</td>\n",
       "      <td>0.771679</td>\n",
       "      <td>0.909412</td>\n",
       "      <td>-0.689281</td>\n",
       "      <td>-0.327642</td>\n",
       "      <td>-0.139097</td>\n",
       "      <td>-0.055353</td>\n",
       "      <td>-0.059752</td>\n",
       "      <td>378.66</td>\n",
       "      <td>0</td>\n",
       "    </tr>\n",
       "    <tr>\n",
       "      <td>3</td>\n",
       "      <td>1.0</td>\n",
       "      <td>-0.966272</td>\n",
       "      <td>-0.185226</td>\n",
       "      <td>1.792993</td>\n",
       "      <td>-0.863291</td>\n",
       "      <td>-0.010309</td>\n",
       "      <td>1.247203</td>\n",
       "      <td>0.237609</td>\n",
       "      <td>0.377436</td>\n",
       "      <td>-1.387024</td>\n",
       "      <td>...</td>\n",
       "      <td>-0.108300</td>\n",
       "      <td>0.005274</td>\n",
       "      <td>-0.190321</td>\n",
       "      <td>-1.175575</td>\n",
       "      <td>0.647376</td>\n",
       "      <td>-0.221929</td>\n",
       "      <td>0.062723</td>\n",
       "      <td>0.061458</td>\n",
       "      <td>123.50</td>\n",
       "      <td>0</td>\n",
       "    </tr>\n",
       "    <tr>\n",
       "      <td>4</td>\n",
       "      <td>2.0</td>\n",
       "      <td>-1.158233</td>\n",
       "      <td>0.877737</td>\n",
       "      <td>1.548718</td>\n",
       "      <td>0.403034</td>\n",
       "      <td>-0.407193</td>\n",
       "      <td>0.095921</td>\n",
       "      <td>0.592941</td>\n",
       "      <td>-0.270533</td>\n",
       "      <td>0.817739</td>\n",
       "      <td>...</td>\n",
       "      <td>-0.009431</td>\n",
       "      <td>0.798278</td>\n",
       "      <td>-0.137458</td>\n",
       "      <td>0.141267</td>\n",
       "      <td>-0.206010</td>\n",
       "      <td>0.502292</td>\n",
       "      <td>0.219422</td>\n",
       "      <td>0.215153</td>\n",
       "      <td>69.99</td>\n",
       "      <td>0</td>\n",
       "    </tr>\n",
       "  </tbody>\n",
       "</table>\n",
       "<p>5 rows × 31 columns</p>\n",
       "</div>"
      ],
      "text/plain": [
       "   Time        V1        V2        V3        V4        V5        V6        V7  \\\n",
       "0   0.0 -1.359807 -0.072781  2.536347  1.378155 -0.338321  0.462388  0.239599   \n",
       "1   0.0  1.191857  0.266151  0.166480  0.448154  0.060018 -0.082361 -0.078803   \n",
       "2   1.0 -1.358354 -1.340163  1.773209  0.379780 -0.503198  1.800499  0.791461   \n",
       "3   1.0 -0.966272 -0.185226  1.792993 -0.863291 -0.010309  1.247203  0.237609   \n",
       "4   2.0 -1.158233  0.877737  1.548718  0.403034 -0.407193  0.095921  0.592941   \n",
       "\n",
       "         V8        V9  ...       V21       V22       V23       V24       V25  \\\n",
       "0  0.098698  0.363787  ... -0.018307  0.277838 -0.110474  0.066928  0.128539   \n",
       "1  0.085102 -0.255425  ... -0.225775 -0.638672  0.101288 -0.339846  0.167170   \n",
       "2  0.247676 -1.514654  ...  0.247998  0.771679  0.909412 -0.689281 -0.327642   \n",
       "3  0.377436 -1.387024  ... -0.108300  0.005274 -0.190321 -1.175575  0.647376   \n",
       "4 -0.270533  0.817739  ... -0.009431  0.798278 -0.137458  0.141267 -0.206010   \n",
       "\n",
       "        V26       V27       V28  Amount  Class  \n",
       "0 -0.189115  0.133558 -0.021053  149.62      0  \n",
       "1  0.125895 -0.008983  0.014724    2.69      0  \n",
       "2 -0.139097 -0.055353 -0.059752  378.66      0  \n",
       "3 -0.221929  0.062723  0.061458  123.50      0  \n",
       "4  0.502292  0.219422  0.215153   69.99      0  \n",
       "\n",
       "[5 rows x 31 columns]"
      ]
     },
     "execution_count": 4,
     "metadata": {},
     "output_type": "execute_result"
    }
   ],
   "source": [
    "df.head()"
   ]
  },
  {
   "cell_type": "code",
   "execution_count": 5,
   "metadata": {},
   "outputs": [
    {
     "data": {
      "text/html": [
       "<div>\n",
       "<style scoped>\n",
       "    .dataframe tbody tr th:only-of-type {\n",
       "        vertical-align: middle;\n",
       "    }\n",
       "\n",
       "    .dataframe tbody tr th {\n",
       "        vertical-align: top;\n",
       "    }\n",
       "\n",
       "    .dataframe thead th {\n",
       "        text-align: right;\n",
       "    }\n",
       "</style>\n",
       "<table border=\"1\" class=\"dataframe\">\n",
       "  <thead>\n",
       "    <tr style=\"text-align: right;\">\n",
       "      <th></th>\n",
       "      <th>Time</th>\n",
       "      <th>V1</th>\n",
       "      <th>V2</th>\n",
       "      <th>V3</th>\n",
       "      <th>V4</th>\n",
       "      <th>V5</th>\n",
       "      <th>V6</th>\n",
       "      <th>V7</th>\n",
       "      <th>V8</th>\n",
       "      <th>V9</th>\n",
       "      <th>...</th>\n",
       "      <th>V21</th>\n",
       "      <th>V22</th>\n",
       "      <th>V23</th>\n",
       "      <th>V24</th>\n",
       "      <th>V25</th>\n",
       "      <th>V26</th>\n",
       "      <th>V27</th>\n",
       "      <th>V28</th>\n",
       "      <th>Amount</th>\n",
       "      <th>Class</th>\n",
       "    </tr>\n",
       "  </thead>\n",
       "  <tbody>\n",
       "    <tr>\n",
       "      <td>284802</td>\n",
       "      <td>172786.0</td>\n",
       "      <td>-11.881118</td>\n",
       "      <td>10.071785</td>\n",
       "      <td>-9.834783</td>\n",
       "      <td>-2.066656</td>\n",
       "      <td>-5.364473</td>\n",
       "      <td>-2.606837</td>\n",
       "      <td>-4.918215</td>\n",
       "      <td>7.305334</td>\n",
       "      <td>1.914428</td>\n",
       "      <td>...</td>\n",
       "      <td>0.213454</td>\n",
       "      <td>0.111864</td>\n",
       "      <td>1.014480</td>\n",
       "      <td>-0.509348</td>\n",
       "      <td>1.436807</td>\n",
       "      <td>0.250034</td>\n",
       "      <td>0.943651</td>\n",
       "      <td>0.823731</td>\n",
       "      <td>0.77</td>\n",
       "      <td>0</td>\n",
       "    </tr>\n",
       "    <tr>\n",
       "      <td>284803</td>\n",
       "      <td>172787.0</td>\n",
       "      <td>-0.732789</td>\n",
       "      <td>-0.055080</td>\n",
       "      <td>2.035030</td>\n",
       "      <td>-0.738589</td>\n",
       "      <td>0.868229</td>\n",
       "      <td>1.058415</td>\n",
       "      <td>0.024330</td>\n",
       "      <td>0.294869</td>\n",
       "      <td>0.584800</td>\n",
       "      <td>...</td>\n",
       "      <td>0.214205</td>\n",
       "      <td>0.924384</td>\n",
       "      <td>0.012463</td>\n",
       "      <td>-1.016226</td>\n",
       "      <td>-0.606624</td>\n",
       "      <td>-0.395255</td>\n",
       "      <td>0.068472</td>\n",
       "      <td>-0.053527</td>\n",
       "      <td>24.79</td>\n",
       "      <td>0</td>\n",
       "    </tr>\n",
       "    <tr>\n",
       "      <td>284804</td>\n",
       "      <td>172788.0</td>\n",
       "      <td>1.919565</td>\n",
       "      <td>-0.301254</td>\n",
       "      <td>-3.249640</td>\n",
       "      <td>-0.557828</td>\n",
       "      <td>2.630515</td>\n",
       "      <td>3.031260</td>\n",
       "      <td>-0.296827</td>\n",
       "      <td>0.708417</td>\n",
       "      <td>0.432454</td>\n",
       "      <td>...</td>\n",
       "      <td>0.232045</td>\n",
       "      <td>0.578229</td>\n",
       "      <td>-0.037501</td>\n",
       "      <td>0.640134</td>\n",
       "      <td>0.265745</td>\n",
       "      <td>-0.087371</td>\n",
       "      <td>0.004455</td>\n",
       "      <td>-0.026561</td>\n",
       "      <td>67.88</td>\n",
       "      <td>0</td>\n",
       "    </tr>\n",
       "    <tr>\n",
       "      <td>284805</td>\n",
       "      <td>172788.0</td>\n",
       "      <td>-0.240440</td>\n",
       "      <td>0.530483</td>\n",
       "      <td>0.702510</td>\n",
       "      <td>0.689799</td>\n",
       "      <td>-0.377961</td>\n",
       "      <td>0.623708</td>\n",
       "      <td>-0.686180</td>\n",
       "      <td>0.679145</td>\n",
       "      <td>0.392087</td>\n",
       "      <td>...</td>\n",
       "      <td>0.265245</td>\n",
       "      <td>0.800049</td>\n",
       "      <td>-0.163298</td>\n",
       "      <td>0.123205</td>\n",
       "      <td>-0.569159</td>\n",
       "      <td>0.546668</td>\n",
       "      <td>0.108821</td>\n",
       "      <td>0.104533</td>\n",
       "      <td>10.00</td>\n",
       "      <td>0</td>\n",
       "    </tr>\n",
       "    <tr>\n",
       "      <td>284806</td>\n",
       "      <td>172792.0</td>\n",
       "      <td>-0.533413</td>\n",
       "      <td>-0.189733</td>\n",
       "      <td>0.703337</td>\n",
       "      <td>-0.506271</td>\n",
       "      <td>-0.012546</td>\n",
       "      <td>-0.649617</td>\n",
       "      <td>1.577006</td>\n",
       "      <td>-0.414650</td>\n",
       "      <td>0.486180</td>\n",
       "      <td>...</td>\n",
       "      <td>0.261057</td>\n",
       "      <td>0.643078</td>\n",
       "      <td>0.376777</td>\n",
       "      <td>0.008797</td>\n",
       "      <td>-0.473649</td>\n",
       "      <td>-0.818267</td>\n",
       "      <td>-0.002415</td>\n",
       "      <td>0.013649</td>\n",
       "      <td>217.00</td>\n",
       "      <td>0</td>\n",
       "    </tr>\n",
       "  </tbody>\n",
       "</table>\n",
       "<p>5 rows × 31 columns</p>\n",
       "</div>"
      ],
      "text/plain": [
       "            Time         V1         V2        V3        V4        V5  \\\n",
       "284802  172786.0 -11.881118  10.071785 -9.834783 -2.066656 -5.364473   \n",
       "284803  172787.0  -0.732789  -0.055080  2.035030 -0.738589  0.868229   \n",
       "284804  172788.0   1.919565  -0.301254 -3.249640 -0.557828  2.630515   \n",
       "284805  172788.0  -0.240440   0.530483  0.702510  0.689799 -0.377961   \n",
       "284806  172792.0  -0.533413  -0.189733  0.703337 -0.506271 -0.012546   \n",
       "\n",
       "              V6        V7        V8        V9  ...       V21       V22  \\\n",
       "284802 -2.606837 -4.918215  7.305334  1.914428  ...  0.213454  0.111864   \n",
       "284803  1.058415  0.024330  0.294869  0.584800  ...  0.214205  0.924384   \n",
       "284804  3.031260 -0.296827  0.708417  0.432454  ...  0.232045  0.578229   \n",
       "284805  0.623708 -0.686180  0.679145  0.392087  ...  0.265245  0.800049   \n",
       "284806 -0.649617  1.577006 -0.414650  0.486180  ...  0.261057  0.643078   \n",
       "\n",
       "             V23       V24       V25       V26       V27       V28  Amount  \\\n",
       "284802  1.014480 -0.509348  1.436807  0.250034  0.943651  0.823731    0.77   \n",
       "284803  0.012463 -1.016226 -0.606624 -0.395255  0.068472 -0.053527   24.79   \n",
       "284804 -0.037501  0.640134  0.265745 -0.087371  0.004455 -0.026561   67.88   \n",
       "284805 -0.163298  0.123205 -0.569159  0.546668  0.108821  0.104533   10.00   \n",
       "284806  0.376777  0.008797 -0.473649 -0.818267 -0.002415  0.013649  217.00   \n",
       "\n",
       "        Class  \n",
       "284802      0  \n",
       "284803      0  \n",
       "284804      0  \n",
       "284805      0  \n",
       "284806      0  \n",
       "\n",
       "[5 rows x 31 columns]"
      ]
     },
     "execution_count": 5,
     "metadata": {},
     "output_type": "execute_result"
    }
   ],
   "source": [
    "df.tail()"
   ]
  },
  {
   "cell_type": "code",
   "execution_count": 6,
   "metadata": {},
   "outputs": [
    {
     "data": {
      "text/plain": [
       "(284807, 31)"
      ]
     },
     "execution_count": 6,
     "metadata": {},
     "output_type": "execute_result"
    }
   ],
   "source": [
    "df.shape"
   ]
  },
  {
   "cell_type": "markdown",
   "metadata": {},
   "source": [
    "### Notebook Shortcuts \n",
    "\n",
    "- Create a new cell - Esc+B\n",
    "- Delete a new cell - Esc+X\n",
    "- Creating a Markdown Cell - Esc+M"
   ]
  },
  {
   "cell_type": "code",
   "execution_count": 7,
   "metadata": {},
   "outputs": [
    {
     "data": {
      "text/plain": [
       "array([0, 1], dtype=int64)"
      ]
     },
     "execution_count": 7,
     "metadata": {},
     "output_type": "execute_result"
    }
   ],
   "source": [
    "df.Class.unique()      # Target Variable"
   ]
  },
  {
   "cell_type": "code",
   "execution_count": 8,
   "metadata": {},
   "outputs": [
    {
     "data": {
      "text/plain": [
       "dtype('float64')"
      ]
     },
     "execution_count": 8,
     "metadata": {},
     "output_type": "execute_result"
    }
   ],
   "source": [
    "df.Time.dtype"
   ]
  },
  {
   "cell_type": "code",
   "execution_count": 9,
   "metadata": {},
   "outputs": [
    {
     "name": "stdout",
     "output_type": "stream",
     "text": [
      "<class 'pandas.core.frame.DataFrame'>\n",
      "RangeIndex: 284807 entries, 0 to 284806\n",
      "Data columns (total 31 columns):\n",
      "Time      284807 non-null float64\n",
      "V1        284807 non-null float64\n",
      "V2        284807 non-null float64\n",
      "V3        284807 non-null float64\n",
      "V4        284807 non-null float64\n",
      "V5        284807 non-null float64\n",
      "V6        284807 non-null float64\n",
      "V7        284807 non-null float64\n",
      "V8        284807 non-null float64\n",
      "V9        284807 non-null float64\n",
      "V10       284807 non-null float64\n",
      "V11       284807 non-null float64\n",
      "V12       284807 non-null float64\n",
      "V13       284807 non-null float64\n",
      "V14       284807 non-null float64\n",
      "V15       284807 non-null float64\n",
      "V16       284807 non-null float64\n",
      "V17       284807 non-null float64\n",
      "V18       284807 non-null float64\n",
      "V19       284807 non-null float64\n",
      "V20       284807 non-null float64\n",
      "V21       284807 non-null float64\n",
      "V22       284807 non-null float64\n",
      "V23       284807 non-null float64\n",
      "V24       284807 non-null float64\n",
      "V25       284807 non-null float64\n",
      "V26       284807 non-null float64\n",
      "V27       284807 non-null float64\n",
      "V28       284807 non-null float64\n",
      "Amount    284807 non-null float64\n",
      "Class     284807 non-null int64\n",
      "dtypes: float64(30), int64(1)\n",
      "memory usage: 67.4 MB\n"
     ]
    }
   ],
   "source": [
    "df.info()"
   ]
  },
  {
   "cell_type": "code",
   "execution_count": 10,
   "metadata": {},
   "outputs": [
    {
     "data": {
      "text/html": [
       "<div>\n",
       "<style scoped>\n",
       "    .dataframe tbody tr th:only-of-type {\n",
       "        vertical-align: middle;\n",
       "    }\n",
       "\n",
       "    .dataframe tbody tr th {\n",
       "        vertical-align: top;\n",
       "    }\n",
       "\n",
       "    .dataframe thead th {\n",
       "        text-align: right;\n",
       "    }\n",
       "</style>\n",
       "<table border=\"1\" class=\"dataframe\">\n",
       "  <thead>\n",
       "    <tr style=\"text-align: right;\">\n",
       "      <th></th>\n",
       "      <th>Time</th>\n",
       "      <th>V1</th>\n",
       "      <th>V2</th>\n",
       "      <th>V3</th>\n",
       "      <th>V4</th>\n",
       "      <th>V5</th>\n",
       "      <th>V6</th>\n",
       "      <th>V7</th>\n",
       "      <th>V8</th>\n",
       "      <th>V9</th>\n",
       "      <th>...</th>\n",
       "      <th>V21</th>\n",
       "      <th>V22</th>\n",
       "      <th>V23</th>\n",
       "      <th>V24</th>\n",
       "      <th>V25</th>\n",
       "      <th>V26</th>\n",
       "      <th>V27</th>\n",
       "      <th>V28</th>\n",
       "      <th>Amount</th>\n",
       "      <th>Class</th>\n",
       "    </tr>\n",
       "  </thead>\n",
       "  <tbody>\n",
       "    <tr>\n",
       "      <td>count</td>\n",
       "      <td>284807.000000</td>\n",
       "      <td>2.848070e+05</td>\n",
       "      <td>2.848070e+05</td>\n",
       "      <td>2.848070e+05</td>\n",
       "      <td>2.848070e+05</td>\n",
       "      <td>2.848070e+05</td>\n",
       "      <td>2.848070e+05</td>\n",
       "      <td>2.848070e+05</td>\n",
       "      <td>2.848070e+05</td>\n",
       "      <td>2.848070e+05</td>\n",
       "      <td>...</td>\n",
       "      <td>2.848070e+05</td>\n",
       "      <td>2.848070e+05</td>\n",
       "      <td>2.848070e+05</td>\n",
       "      <td>2.848070e+05</td>\n",
       "      <td>2.848070e+05</td>\n",
       "      <td>2.848070e+05</td>\n",
       "      <td>2.848070e+05</td>\n",
       "      <td>2.848070e+05</td>\n",
       "      <td>284807.000000</td>\n",
       "      <td>284807.000000</td>\n",
       "    </tr>\n",
       "    <tr>\n",
       "      <td>mean</td>\n",
       "      <td>94813.859575</td>\n",
       "      <td>3.919560e-15</td>\n",
       "      <td>5.688174e-16</td>\n",
       "      <td>-8.769071e-15</td>\n",
       "      <td>2.782312e-15</td>\n",
       "      <td>-1.552563e-15</td>\n",
       "      <td>2.010663e-15</td>\n",
       "      <td>-1.694249e-15</td>\n",
       "      <td>-1.927028e-16</td>\n",
       "      <td>-3.137024e-15</td>\n",
       "      <td>...</td>\n",
       "      <td>1.537294e-16</td>\n",
       "      <td>7.959909e-16</td>\n",
       "      <td>5.367590e-16</td>\n",
       "      <td>4.458112e-15</td>\n",
       "      <td>1.453003e-15</td>\n",
       "      <td>1.699104e-15</td>\n",
       "      <td>-3.660161e-16</td>\n",
       "      <td>-1.206049e-16</td>\n",
       "      <td>88.349619</td>\n",
       "      <td>0.001727</td>\n",
       "    </tr>\n",
       "    <tr>\n",
       "      <td>std</td>\n",
       "      <td>47488.145955</td>\n",
       "      <td>1.958696e+00</td>\n",
       "      <td>1.651309e+00</td>\n",
       "      <td>1.516255e+00</td>\n",
       "      <td>1.415869e+00</td>\n",
       "      <td>1.380247e+00</td>\n",
       "      <td>1.332271e+00</td>\n",
       "      <td>1.237094e+00</td>\n",
       "      <td>1.194353e+00</td>\n",
       "      <td>1.098632e+00</td>\n",
       "      <td>...</td>\n",
       "      <td>7.345240e-01</td>\n",
       "      <td>7.257016e-01</td>\n",
       "      <td>6.244603e-01</td>\n",
       "      <td>6.056471e-01</td>\n",
       "      <td>5.212781e-01</td>\n",
       "      <td>4.822270e-01</td>\n",
       "      <td>4.036325e-01</td>\n",
       "      <td>3.300833e-01</td>\n",
       "      <td>250.120109</td>\n",
       "      <td>0.041527</td>\n",
       "    </tr>\n",
       "    <tr>\n",
       "      <td>min</td>\n",
       "      <td>0.000000</td>\n",
       "      <td>-5.640751e+01</td>\n",
       "      <td>-7.271573e+01</td>\n",
       "      <td>-4.832559e+01</td>\n",
       "      <td>-5.683171e+00</td>\n",
       "      <td>-1.137433e+02</td>\n",
       "      <td>-2.616051e+01</td>\n",
       "      <td>-4.355724e+01</td>\n",
       "      <td>-7.321672e+01</td>\n",
       "      <td>-1.343407e+01</td>\n",
       "      <td>...</td>\n",
       "      <td>-3.483038e+01</td>\n",
       "      <td>-1.093314e+01</td>\n",
       "      <td>-4.480774e+01</td>\n",
       "      <td>-2.836627e+00</td>\n",
       "      <td>-1.029540e+01</td>\n",
       "      <td>-2.604551e+00</td>\n",
       "      <td>-2.256568e+01</td>\n",
       "      <td>-1.543008e+01</td>\n",
       "      <td>0.000000</td>\n",
       "      <td>0.000000</td>\n",
       "    </tr>\n",
       "    <tr>\n",
       "      <td>25%</td>\n",
       "      <td>54201.500000</td>\n",
       "      <td>-9.203734e-01</td>\n",
       "      <td>-5.985499e-01</td>\n",
       "      <td>-8.903648e-01</td>\n",
       "      <td>-8.486401e-01</td>\n",
       "      <td>-6.915971e-01</td>\n",
       "      <td>-7.682956e-01</td>\n",
       "      <td>-5.540759e-01</td>\n",
       "      <td>-2.086297e-01</td>\n",
       "      <td>-6.430976e-01</td>\n",
       "      <td>...</td>\n",
       "      <td>-2.283949e-01</td>\n",
       "      <td>-5.423504e-01</td>\n",
       "      <td>-1.618463e-01</td>\n",
       "      <td>-3.545861e-01</td>\n",
       "      <td>-3.171451e-01</td>\n",
       "      <td>-3.269839e-01</td>\n",
       "      <td>-7.083953e-02</td>\n",
       "      <td>-5.295979e-02</td>\n",
       "      <td>5.600000</td>\n",
       "      <td>0.000000</td>\n",
       "    </tr>\n",
       "    <tr>\n",
       "      <td>50%</td>\n",
       "      <td>84692.000000</td>\n",
       "      <td>1.810880e-02</td>\n",
       "      <td>6.548556e-02</td>\n",
       "      <td>1.798463e-01</td>\n",
       "      <td>-1.984653e-02</td>\n",
       "      <td>-5.433583e-02</td>\n",
       "      <td>-2.741871e-01</td>\n",
       "      <td>4.010308e-02</td>\n",
       "      <td>2.235804e-02</td>\n",
       "      <td>-5.142873e-02</td>\n",
       "      <td>...</td>\n",
       "      <td>-2.945017e-02</td>\n",
       "      <td>6.781943e-03</td>\n",
       "      <td>-1.119293e-02</td>\n",
       "      <td>4.097606e-02</td>\n",
       "      <td>1.659350e-02</td>\n",
       "      <td>-5.213911e-02</td>\n",
       "      <td>1.342146e-03</td>\n",
       "      <td>1.124383e-02</td>\n",
       "      <td>22.000000</td>\n",
       "      <td>0.000000</td>\n",
       "    </tr>\n",
       "    <tr>\n",
       "      <td>75%</td>\n",
       "      <td>139320.500000</td>\n",
       "      <td>1.315642e+00</td>\n",
       "      <td>8.037239e-01</td>\n",
       "      <td>1.027196e+00</td>\n",
       "      <td>7.433413e-01</td>\n",
       "      <td>6.119264e-01</td>\n",
       "      <td>3.985649e-01</td>\n",
       "      <td>5.704361e-01</td>\n",
       "      <td>3.273459e-01</td>\n",
       "      <td>5.971390e-01</td>\n",
       "      <td>...</td>\n",
       "      <td>1.863772e-01</td>\n",
       "      <td>5.285536e-01</td>\n",
       "      <td>1.476421e-01</td>\n",
       "      <td>4.395266e-01</td>\n",
       "      <td>3.507156e-01</td>\n",
       "      <td>2.409522e-01</td>\n",
       "      <td>9.104512e-02</td>\n",
       "      <td>7.827995e-02</td>\n",
       "      <td>77.165000</td>\n",
       "      <td>0.000000</td>\n",
       "    </tr>\n",
       "    <tr>\n",
       "      <td>max</td>\n",
       "      <td>172792.000000</td>\n",
       "      <td>2.454930e+00</td>\n",
       "      <td>2.205773e+01</td>\n",
       "      <td>9.382558e+00</td>\n",
       "      <td>1.687534e+01</td>\n",
       "      <td>3.480167e+01</td>\n",
       "      <td>7.330163e+01</td>\n",
       "      <td>1.205895e+02</td>\n",
       "      <td>2.000721e+01</td>\n",
       "      <td>1.559499e+01</td>\n",
       "      <td>...</td>\n",
       "      <td>2.720284e+01</td>\n",
       "      <td>1.050309e+01</td>\n",
       "      <td>2.252841e+01</td>\n",
       "      <td>4.584549e+00</td>\n",
       "      <td>7.519589e+00</td>\n",
       "      <td>3.517346e+00</td>\n",
       "      <td>3.161220e+01</td>\n",
       "      <td>3.384781e+01</td>\n",
       "      <td>25691.160000</td>\n",
       "      <td>1.000000</td>\n",
       "    </tr>\n",
       "  </tbody>\n",
       "</table>\n",
       "<p>8 rows × 31 columns</p>\n",
       "</div>"
      ],
      "text/plain": [
       "                Time            V1            V2            V3            V4  \\\n",
       "count  284807.000000  2.848070e+05  2.848070e+05  2.848070e+05  2.848070e+05   \n",
       "mean    94813.859575  3.919560e-15  5.688174e-16 -8.769071e-15  2.782312e-15   \n",
       "std     47488.145955  1.958696e+00  1.651309e+00  1.516255e+00  1.415869e+00   \n",
       "min         0.000000 -5.640751e+01 -7.271573e+01 -4.832559e+01 -5.683171e+00   \n",
       "25%     54201.500000 -9.203734e-01 -5.985499e-01 -8.903648e-01 -8.486401e-01   \n",
       "50%     84692.000000  1.810880e-02  6.548556e-02  1.798463e-01 -1.984653e-02   \n",
       "75%    139320.500000  1.315642e+00  8.037239e-01  1.027196e+00  7.433413e-01   \n",
       "max    172792.000000  2.454930e+00  2.205773e+01  9.382558e+00  1.687534e+01   \n",
       "\n",
       "                 V5            V6            V7            V8            V9  \\\n",
       "count  2.848070e+05  2.848070e+05  2.848070e+05  2.848070e+05  2.848070e+05   \n",
       "mean  -1.552563e-15  2.010663e-15 -1.694249e-15 -1.927028e-16 -3.137024e-15   \n",
       "std    1.380247e+00  1.332271e+00  1.237094e+00  1.194353e+00  1.098632e+00   \n",
       "min   -1.137433e+02 -2.616051e+01 -4.355724e+01 -7.321672e+01 -1.343407e+01   \n",
       "25%   -6.915971e-01 -7.682956e-01 -5.540759e-01 -2.086297e-01 -6.430976e-01   \n",
       "50%   -5.433583e-02 -2.741871e-01  4.010308e-02  2.235804e-02 -5.142873e-02   \n",
       "75%    6.119264e-01  3.985649e-01  5.704361e-01  3.273459e-01  5.971390e-01   \n",
       "max    3.480167e+01  7.330163e+01  1.205895e+02  2.000721e+01  1.559499e+01   \n",
       "\n",
       "       ...           V21           V22           V23           V24  \\\n",
       "count  ...  2.848070e+05  2.848070e+05  2.848070e+05  2.848070e+05   \n",
       "mean   ...  1.537294e-16  7.959909e-16  5.367590e-16  4.458112e-15   \n",
       "std    ...  7.345240e-01  7.257016e-01  6.244603e-01  6.056471e-01   \n",
       "min    ... -3.483038e+01 -1.093314e+01 -4.480774e+01 -2.836627e+00   \n",
       "25%    ... -2.283949e-01 -5.423504e-01 -1.618463e-01 -3.545861e-01   \n",
       "50%    ... -2.945017e-02  6.781943e-03 -1.119293e-02  4.097606e-02   \n",
       "75%    ...  1.863772e-01  5.285536e-01  1.476421e-01  4.395266e-01   \n",
       "max    ...  2.720284e+01  1.050309e+01  2.252841e+01  4.584549e+00   \n",
       "\n",
       "                V25           V26           V27           V28         Amount  \\\n",
       "count  2.848070e+05  2.848070e+05  2.848070e+05  2.848070e+05  284807.000000   \n",
       "mean   1.453003e-15  1.699104e-15 -3.660161e-16 -1.206049e-16      88.349619   \n",
       "std    5.212781e-01  4.822270e-01  4.036325e-01  3.300833e-01     250.120109   \n",
       "min   -1.029540e+01 -2.604551e+00 -2.256568e+01 -1.543008e+01       0.000000   \n",
       "25%   -3.171451e-01 -3.269839e-01 -7.083953e-02 -5.295979e-02       5.600000   \n",
       "50%    1.659350e-02 -5.213911e-02  1.342146e-03  1.124383e-02      22.000000   \n",
       "75%    3.507156e-01  2.409522e-01  9.104512e-02  7.827995e-02      77.165000   \n",
       "max    7.519589e+00  3.517346e+00  3.161220e+01  3.384781e+01   25691.160000   \n",
       "\n",
       "               Class  \n",
       "count  284807.000000  \n",
       "mean        0.001727  \n",
       "std         0.041527  \n",
       "min         0.000000  \n",
       "25%         0.000000  \n",
       "50%         0.000000  \n",
       "75%         0.000000  \n",
       "max         1.000000  \n",
       "\n",
       "[8 rows x 31 columns]"
      ]
     },
     "execution_count": 10,
     "metadata": {},
     "output_type": "execute_result"
    }
   ],
   "source": [
    "df.describe()"
   ]
  },
  {
   "cell_type": "code",
   "execution_count": 11,
   "metadata": {},
   "outputs": [
    {
     "data": {
      "text/html": [
       "<div>\n",
       "<style scoped>\n",
       "    .dataframe tbody tr th:only-of-type {\n",
       "        vertical-align: middle;\n",
       "    }\n",
       "\n",
       "    .dataframe tbody tr th {\n",
       "        vertical-align: top;\n",
       "    }\n",
       "\n",
       "    .dataframe thead th {\n",
       "        text-align: right;\n",
       "    }\n",
       "</style>\n",
       "<table border=\"1\" class=\"dataframe\">\n",
       "  <thead>\n",
       "    <tr style=\"text-align: right;\">\n",
       "      <th></th>\n",
       "      <th>Amount</th>\n",
       "      <th>Class</th>\n",
       "      <th>Time</th>\n",
       "    </tr>\n",
       "  </thead>\n",
       "  <tbody>\n",
       "    <tr>\n",
       "      <td>count</td>\n",
       "      <td>284807.000000</td>\n",
       "      <td>284807.000000</td>\n",
       "      <td>284807.000000</td>\n",
       "    </tr>\n",
       "    <tr>\n",
       "      <td>mean</td>\n",
       "      <td>88.349619</td>\n",
       "      <td>0.001727</td>\n",
       "      <td>94813.859575</td>\n",
       "    </tr>\n",
       "    <tr>\n",
       "      <td>std</td>\n",
       "      <td>250.120109</td>\n",
       "      <td>0.041527</td>\n",
       "      <td>47488.145955</td>\n",
       "    </tr>\n",
       "    <tr>\n",
       "      <td>min</td>\n",
       "      <td>0.000000</td>\n",
       "      <td>0.000000</td>\n",
       "      <td>0.000000</td>\n",
       "    </tr>\n",
       "    <tr>\n",
       "      <td>25%</td>\n",
       "      <td>5.600000</td>\n",
       "      <td>0.000000</td>\n",
       "      <td>54201.500000</td>\n",
       "    </tr>\n",
       "    <tr>\n",
       "      <td>50%</td>\n",
       "      <td>22.000000</td>\n",
       "      <td>0.000000</td>\n",
       "      <td>84692.000000</td>\n",
       "    </tr>\n",
       "    <tr>\n",
       "      <td>75%</td>\n",
       "      <td>77.165000</td>\n",
       "      <td>0.000000</td>\n",
       "      <td>139320.500000</td>\n",
       "    </tr>\n",
       "    <tr>\n",
       "      <td>max</td>\n",
       "      <td>25691.160000</td>\n",
       "      <td>1.000000</td>\n",
       "      <td>172792.000000</td>\n",
       "    </tr>\n",
       "  </tbody>\n",
       "</table>\n",
       "</div>"
      ],
      "text/plain": [
       "              Amount          Class           Time\n",
       "count  284807.000000  284807.000000  284807.000000\n",
       "mean       88.349619       0.001727   94813.859575\n",
       "std       250.120109       0.041527   47488.145955\n",
       "min         0.000000       0.000000       0.000000\n",
       "25%         5.600000       0.000000   54201.500000\n",
       "50%        22.000000       0.000000   84692.000000\n",
       "75%        77.165000       0.000000  139320.500000\n",
       "max     25691.160000       1.000000  172792.000000"
      ]
     },
     "execution_count": 11,
     "metadata": {},
     "output_type": "execute_result"
    }
   ],
   "source": [
    "df[['Amount' , 'Class' , 'Time']].describe()"
   ]
  },
  {
   "cell_type": "code",
   "execution_count": 12,
   "metadata": {},
   "outputs": [
    {
     "data": {
      "text/html": [
       "<div>\n",
       "<style scoped>\n",
       "    .dataframe tbody tr th:only-of-type {\n",
       "        vertical-align: middle;\n",
       "    }\n",
       "\n",
       "    .dataframe tbody tr th {\n",
       "        vertical-align: top;\n",
       "    }\n",
       "\n",
       "    .dataframe thead th {\n",
       "        text-align: right;\n",
       "    }\n",
       "</style>\n",
       "<table border=\"1\" class=\"dataframe\">\n",
       "  <thead>\n",
       "    <tr style=\"text-align: right;\">\n",
       "      <th></th>\n",
       "      <th>Time</th>\n",
       "      <th>V1</th>\n",
       "      <th>V2</th>\n",
       "      <th>V3</th>\n",
       "      <th>V4</th>\n",
       "      <th>V5</th>\n",
       "      <th>V6</th>\n",
       "      <th>V7</th>\n",
       "      <th>V8</th>\n",
       "      <th>V9</th>\n",
       "      <th>...</th>\n",
       "      <th>V21</th>\n",
       "      <th>V22</th>\n",
       "      <th>V23</th>\n",
       "      <th>V24</th>\n",
       "      <th>V25</th>\n",
       "      <th>V26</th>\n",
       "      <th>V27</th>\n",
       "      <th>V28</th>\n",
       "      <th>Amount</th>\n",
       "      <th>Class</th>\n",
       "    </tr>\n",
       "  </thead>\n",
       "  <tbody>\n",
       "    <tr>\n",
       "      <td>count</td>\n",
       "      <td>284807.000000</td>\n",
       "      <td>2.848070e+05</td>\n",
       "      <td>2.848070e+05</td>\n",
       "      <td>2.848070e+05</td>\n",
       "      <td>2.848070e+05</td>\n",
       "      <td>2.848070e+05</td>\n",
       "      <td>2.848070e+05</td>\n",
       "      <td>2.848070e+05</td>\n",
       "      <td>2.848070e+05</td>\n",
       "      <td>2.848070e+05</td>\n",
       "      <td>...</td>\n",
       "      <td>2.848070e+05</td>\n",
       "      <td>2.848070e+05</td>\n",
       "      <td>2.848070e+05</td>\n",
       "      <td>2.848070e+05</td>\n",
       "      <td>2.848070e+05</td>\n",
       "      <td>2.848070e+05</td>\n",
       "      <td>2.848070e+05</td>\n",
       "      <td>2.848070e+05</td>\n",
       "      <td>284807.000000</td>\n",
       "      <td>284807.000000</td>\n",
       "    </tr>\n",
       "    <tr>\n",
       "      <td>mean</td>\n",
       "      <td>94813.859575</td>\n",
       "      <td>3.919560e-15</td>\n",
       "      <td>5.688174e-16</td>\n",
       "      <td>-8.769071e-15</td>\n",
       "      <td>2.782312e-15</td>\n",
       "      <td>-1.552563e-15</td>\n",
       "      <td>2.010663e-15</td>\n",
       "      <td>-1.694249e-15</td>\n",
       "      <td>-1.927028e-16</td>\n",
       "      <td>-3.137024e-15</td>\n",
       "      <td>...</td>\n",
       "      <td>1.537294e-16</td>\n",
       "      <td>7.959909e-16</td>\n",
       "      <td>5.367590e-16</td>\n",
       "      <td>4.458112e-15</td>\n",
       "      <td>1.453003e-15</td>\n",
       "      <td>1.699104e-15</td>\n",
       "      <td>-3.660161e-16</td>\n",
       "      <td>-1.206049e-16</td>\n",
       "      <td>88.349619</td>\n",
       "      <td>0.001727</td>\n",
       "    </tr>\n",
       "    <tr>\n",
       "      <td>std</td>\n",
       "      <td>47488.145955</td>\n",
       "      <td>1.958696e+00</td>\n",
       "      <td>1.651309e+00</td>\n",
       "      <td>1.516255e+00</td>\n",
       "      <td>1.415869e+00</td>\n",
       "      <td>1.380247e+00</td>\n",
       "      <td>1.332271e+00</td>\n",
       "      <td>1.237094e+00</td>\n",
       "      <td>1.194353e+00</td>\n",
       "      <td>1.098632e+00</td>\n",
       "      <td>...</td>\n",
       "      <td>7.345240e-01</td>\n",
       "      <td>7.257016e-01</td>\n",
       "      <td>6.244603e-01</td>\n",
       "      <td>6.056471e-01</td>\n",
       "      <td>5.212781e-01</td>\n",
       "      <td>4.822270e-01</td>\n",
       "      <td>4.036325e-01</td>\n",
       "      <td>3.300833e-01</td>\n",
       "      <td>250.120109</td>\n",
       "      <td>0.041527</td>\n",
       "    </tr>\n",
       "    <tr>\n",
       "      <td>min</td>\n",
       "      <td>0.000000</td>\n",
       "      <td>-5.640751e+01</td>\n",
       "      <td>-7.271573e+01</td>\n",
       "      <td>-4.832559e+01</td>\n",
       "      <td>-5.683171e+00</td>\n",
       "      <td>-1.137433e+02</td>\n",
       "      <td>-2.616051e+01</td>\n",
       "      <td>-4.355724e+01</td>\n",
       "      <td>-7.321672e+01</td>\n",
       "      <td>-1.343407e+01</td>\n",
       "      <td>...</td>\n",
       "      <td>-3.483038e+01</td>\n",
       "      <td>-1.093314e+01</td>\n",
       "      <td>-4.480774e+01</td>\n",
       "      <td>-2.836627e+00</td>\n",
       "      <td>-1.029540e+01</td>\n",
       "      <td>-2.604551e+00</td>\n",
       "      <td>-2.256568e+01</td>\n",
       "      <td>-1.543008e+01</td>\n",
       "      <td>0.000000</td>\n",
       "      <td>0.000000</td>\n",
       "    </tr>\n",
       "    <tr>\n",
       "      <td>25%</td>\n",
       "      <td>54201.500000</td>\n",
       "      <td>-9.203734e-01</td>\n",
       "      <td>-5.985499e-01</td>\n",
       "      <td>-8.903648e-01</td>\n",
       "      <td>-8.486401e-01</td>\n",
       "      <td>-6.915971e-01</td>\n",
       "      <td>-7.682956e-01</td>\n",
       "      <td>-5.540759e-01</td>\n",
       "      <td>-2.086297e-01</td>\n",
       "      <td>-6.430976e-01</td>\n",
       "      <td>...</td>\n",
       "      <td>-2.283949e-01</td>\n",
       "      <td>-5.423504e-01</td>\n",
       "      <td>-1.618463e-01</td>\n",
       "      <td>-3.545861e-01</td>\n",
       "      <td>-3.171451e-01</td>\n",
       "      <td>-3.269839e-01</td>\n",
       "      <td>-7.083953e-02</td>\n",
       "      <td>-5.295979e-02</td>\n",
       "      <td>5.600000</td>\n",
       "      <td>0.000000</td>\n",
       "    </tr>\n",
       "    <tr>\n",
       "      <td>50%</td>\n",
       "      <td>84692.000000</td>\n",
       "      <td>1.810880e-02</td>\n",
       "      <td>6.548556e-02</td>\n",
       "      <td>1.798463e-01</td>\n",
       "      <td>-1.984653e-02</td>\n",
       "      <td>-5.433583e-02</td>\n",
       "      <td>-2.741871e-01</td>\n",
       "      <td>4.010308e-02</td>\n",
       "      <td>2.235804e-02</td>\n",
       "      <td>-5.142873e-02</td>\n",
       "      <td>...</td>\n",
       "      <td>-2.945017e-02</td>\n",
       "      <td>6.781943e-03</td>\n",
       "      <td>-1.119293e-02</td>\n",
       "      <td>4.097606e-02</td>\n",
       "      <td>1.659350e-02</td>\n",
       "      <td>-5.213911e-02</td>\n",
       "      <td>1.342146e-03</td>\n",
       "      <td>1.124383e-02</td>\n",
       "      <td>22.000000</td>\n",
       "      <td>0.000000</td>\n",
       "    </tr>\n",
       "    <tr>\n",
       "      <td>75%</td>\n",
       "      <td>139320.500000</td>\n",
       "      <td>1.315642e+00</td>\n",
       "      <td>8.037239e-01</td>\n",
       "      <td>1.027196e+00</td>\n",
       "      <td>7.433413e-01</td>\n",
       "      <td>6.119264e-01</td>\n",
       "      <td>3.985649e-01</td>\n",
       "      <td>5.704361e-01</td>\n",
       "      <td>3.273459e-01</td>\n",
       "      <td>5.971390e-01</td>\n",
       "      <td>...</td>\n",
       "      <td>1.863772e-01</td>\n",
       "      <td>5.285536e-01</td>\n",
       "      <td>1.476421e-01</td>\n",
       "      <td>4.395266e-01</td>\n",
       "      <td>3.507156e-01</td>\n",
       "      <td>2.409522e-01</td>\n",
       "      <td>9.104512e-02</td>\n",
       "      <td>7.827995e-02</td>\n",
       "      <td>77.165000</td>\n",
       "      <td>0.000000</td>\n",
       "    </tr>\n",
       "    <tr>\n",
       "      <td>max</td>\n",
       "      <td>172792.000000</td>\n",
       "      <td>2.454930e+00</td>\n",
       "      <td>2.205773e+01</td>\n",
       "      <td>9.382558e+00</td>\n",
       "      <td>1.687534e+01</td>\n",
       "      <td>3.480167e+01</td>\n",
       "      <td>7.330163e+01</td>\n",
       "      <td>1.205895e+02</td>\n",
       "      <td>2.000721e+01</td>\n",
       "      <td>1.559499e+01</td>\n",
       "      <td>...</td>\n",
       "      <td>2.720284e+01</td>\n",
       "      <td>1.050309e+01</td>\n",
       "      <td>2.252841e+01</td>\n",
       "      <td>4.584549e+00</td>\n",
       "      <td>7.519589e+00</td>\n",
       "      <td>3.517346e+00</td>\n",
       "      <td>3.161220e+01</td>\n",
       "      <td>3.384781e+01</td>\n",
       "      <td>25691.160000</td>\n",
       "      <td>1.000000</td>\n",
       "    </tr>\n",
       "  </tbody>\n",
       "</table>\n",
       "<p>8 rows × 31 columns</p>\n",
       "</div>"
      ],
      "text/plain": [
       "                Time            V1            V2            V3            V4  \\\n",
       "count  284807.000000  2.848070e+05  2.848070e+05  2.848070e+05  2.848070e+05   \n",
       "mean    94813.859575  3.919560e-15  5.688174e-16 -8.769071e-15  2.782312e-15   \n",
       "std     47488.145955  1.958696e+00  1.651309e+00  1.516255e+00  1.415869e+00   \n",
       "min         0.000000 -5.640751e+01 -7.271573e+01 -4.832559e+01 -5.683171e+00   \n",
       "25%     54201.500000 -9.203734e-01 -5.985499e-01 -8.903648e-01 -8.486401e-01   \n",
       "50%     84692.000000  1.810880e-02  6.548556e-02  1.798463e-01 -1.984653e-02   \n",
       "75%    139320.500000  1.315642e+00  8.037239e-01  1.027196e+00  7.433413e-01   \n",
       "max    172792.000000  2.454930e+00  2.205773e+01  9.382558e+00  1.687534e+01   \n",
       "\n",
       "                 V5            V6            V7            V8            V9  \\\n",
       "count  2.848070e+05  2.848070e+05  2.848070e+05  2.848070e+05  2.848070e+05   \n",
       "mean  -1.552563e-15  2.010663e-15 -1.694249e-15 -1.927028e-16 -3.137024e-15   \n",
       "std    1.380247e+00  1.332271e+00  1.237094e+00  1.194353e+00  1.098632e+00   \n",
       "min   -1.137433e+02 -2.616051e+01 -4.355724e+01 -7.321672e+01 -1.343407e+01   \n",
       "25%   -6.915971e-01 -7.682956e-01 -5.540759e-01 -2.086297e-01 -6.430976e-01   \n",
       "50%   -5.433583e-02 -2.741871e-01  4.010308e-02  2.235804e-02 -5.142873e-02   \n",
       "75%    6.119264e-01  3.985649e-01  5.704361e-01  3.273459e-01  5.971390e-01   \n",
       "max    3.480167e+01  7.330163e+01  1.205895e+02  2.000721e+01  1.559499e+01   \n",
       "\n",
       "       ...           V21           V22           V23           V24  \\\n",
       "count  ...  2.848070e+05  2.848070e+05  2.848070e+05  2.848070e+05   \n",
       "mean   ...  1.537294e-16  7.959909e-16  5.367590e-16  4.458112e-15   \n",
       "std    ...  7.345240e-01  7.257016e-01  6.244603e-01  6.056471e-01   \n",
       "min    ... -3.483038e+01 -1.093314e+01 -4.480774e+01 -2.836627e+00   \n",
       "25%    ... -2.283949e-01 -5.423504e-01 -1.618463e-01 -3.545861e-01   \n",
       "50%    ... -2.945017e-02  6.781943e-03 -1.119293e-02  4.097606e-02   \n",
       "75%    ...  1.863772e-01  5.285536e-01  1.476421e-01  4.395266e-01   \n",
       "max    ...  2.720284e+01  1.050309e+01  2.252841e+01  4.584549e+00   \n",
       "\n",
       "                V25           V26           V27           V28         Amount  \\\n",
       "count  2.848070e+05  2.848070e+05  2.848070e+05  2.848070e+05  284807.000000   \n",
       "mean   1.453003e-15  1.699104e-15 -3.660161e-16 -1.206049e-16      88.349619   \n",
       "std    5.212781e-01  4.822270e-01  4.036325e-01  3.300833e-01     250.120109   \n",
       "min   -1.029540e+01 -2.604551e+00 -2.256568e+01 -1.543008e+01       0.000000   \n",
       "25%   -3.171451e-01 -3.269839e-01 -7.083953e-02 -5.295979e-02       5.600000   \n",
       "50%    1.659350e-02 -5.213911e-02  1.342146e-03  1.124383e-02      22.000000   \n",
       "75%    3.507156e-01  2.409522e-01  9.104512e-02  7.827995e-02      77.165000   \n",
       "max    7.519589e+00  3.517346e+00  3.161220e+01  3.384781e+01   25691.160000   \n",
       "\n",
       "               Class  \n",
       "count  284807.000000  \n",
       "mean        0.001727  \n",
       "std         0.041527  \n",
       "min         0.000000  \n",
       "25%         0.000000  \n",
       "50%         0.000000  \n",
       "75%         0.000000  \n",
       "max         1.000000  \n",
       "\n",
       "[8 rows x 31 columns]"
      ]
     },
     "execution_count": 12,
     "metadata": {},
     "output_type": "execute_result"
    }
   ],
   "source": [
    "df.describe(include = 'all') # include = 'int64' , 'float64'"
   ]
  },
  {
   "cell_type": "markdown",
   "metadata": {},
   "source": [
    "# Observations - \n",
    "1. Time column is not in standard measures , probably in seconds , but max of time is not equal to the length of the dataframe,\n",
    "   so there sure are some transactions at the same time\n",
    "2. Amount Min is 0 , must observe that for some errors or outliers\n",
    "3. Unscaled amount with high possible skewness , based on min , max and mean\n",
    "4. Class Imbalance Issue surely Exists"
   ]
  },
  {
   "cell_type": "code",
   "execution_count": 13,
   "metadata": {},
   "outputs": [
    {
     "data": {
      "text/plain": [
       "Index(['Time', 'V1', 'V2', 'V3', 'V4', 'V5', 'V6', 'V7', 'V8', 'V9', 'V10',\n",
       "       'V11', 'V12', 'V13', 'V14', 'V15', 'V16', 'V17', 'V18', 'V19', 'V20',\n",
       "       'V21', 'V22', 'V23', 'V24', 'V25', 'V26', 'V27', 'V28', 'Amount',\n",
       "       'Class'],\n",
       "      dtype='object')"
      ]
     },
     "execution_count": 13,
     "metadata": {},
     "output_type": "execute_result"
    }
   ],
   "source": [
    "df.columns"
   ]
  },
  {
   "cell_type": "code",
   "execution_count": 14,
   "metadata": {},
   "outputs": [
    {
     "name": "stdout",
     "output_type": "stream",
     "text": [
      "0.0\n",
      "172792.0\n"
     ]
    }
   ],
   "source": [
    "print(df['Time'].min())\n",
    "print(df['Time'].max())"
   ]
  },
  {
   "cell_type": "code",
   "execution_count": 15,
   "metadata": {},
   "outputs": [
    {
     "name": "stdout",
     "output_type": "stream",
     "text": [
      "0.0\n",
      "47.99777777777778\n"
     ]
    }
   ],
   "source": [
    "# Important to know the time span of the data -\n",
    "print(df['Time'].min() / (60*60))\n",
    "print(df['Time'].max() / (60*60)) # ~48 hours , so 2 days ! , better picture "
   ]
  },
  {
   "cell_type": "code",
   "execution_count": 16,
   "metadata": {},
   "outputs": [
    {
     "name": "stdout",
     "output_type": "stream",
     "text": [
      "0.0\n",
      "172792.0\n"
     ]
    }
   ],
   "source": [
    "print(df['Time'].min())\n",
    "print(df['Time'].max())"
   ]
  },
  {
   "cell_type": "code",
   "execution_count": 17,
   "metadata": {},
   "outputs": [],
   "source": [
    "df['hour'] = df['Time']/(60*60)"
   ]
  },
  {
   "cell_type": "code",
   "execution_count": 18,
   "metadata": {},
   "outputs": [
    {
     "data": {
      "text/plain": [
       "count    284807.000000\n",
       "mean         26.337183\n",
       "std          13.191152\n",
       "min           0.000000\n",
       "25%          15.055972\n",
       "50%          23.525556\n",
       "75%          38.700139\n",
       "max          47.997778\n",
       "Name: hour, dtype: float64"
      ]
     },
     "execution_count": 18,
     "metadata": {},
     "output_type": "execute_result"
    }
   ],
   "source": [
    "df['hour'].describe()"
   ]
  },
  {
   "cell_type": "markdown",
   "metadata": {},
   "source": [
    "# Checking for outliers"
   ]
  },
  {
   "cell_type": "code",
   "execution_count": 19,
   "metadata": {},
   "outputs": [
    {
     "name": "stdout",
     "output_type": "stream",
     "text": [
      "0\n"
     ]
    }
   ],
   "source": [
    "# 3 ways\n",
    "print(df.isnull().any().sum())"
   ]
  },
  {
   "cell_type": "code",
   "execution_count": 20,
   "metadata": {},
   "outputs": [
    {
     "name": "stdout",
     "output_type": "stream",
     "text": [
      "Time      0\n",
      "V1        0\n",
      "V2        0\n",
      "V3        0\n",
      "V4        0\n",
      "V5        0\n",
      "V6        0\n",
      "V7        0\n",
      "V8        0\n",
      "V9        0\n",
      "V10       0\n",
      "V11       0\n",
      "V12       0\n",
      "V13       0\n",
      "V14       0\n",
      "V15       0\n",
      "V16       0\n",
      "V17       0\n",
      "V18       0\n",
      "V19       0\n",
      "V20       0\n",
      "V21       0\n",
      "V22       0\n",
      "V23       0\n",
      "V24       0\n",
      "V25       0\n",
      "V26       0\n",
      "V27       0\n",
      "V28       0\n",
      "Amount    0\n",
      "Class     0\n",
      "hour      0\n",
      "dtype: int64\n"
     ]
    }
   ],
   "source": [
    "print(df.isnull().sum())"
   ]
  },
  {
   "cell_type": "code",
   "execution_count": 21,
   "metadata": {},
   "outputs": [
    {
     "name": "stdout",
     "output_type": "stream",
     "text": [
      "False\n"
     ]
    }
   ],
   "source": [
    "print(df.isnull().values.any()) # df['col_name']"
   ]
  },
  {
   "cell_type": "markdown",
   "metadata": {},
   "source": [
    "# Checking for Duplicate Values"
   ]
  },
  {
   "cell_type": "code",
   "execution_count": 22,
   "metadata": {},
   "outputs": [
    {
     "data": {
      "text/plain": [
       "(284807, 32)"
      ]
     },
     "execution_count": 22,
     "metadata": {},
     "output_type": "execute_result"
    }
   ],
   "source": [
    "df.shape"
   ]
  },
  {
   "cell_type": "code",
   "execution_count": 23,
   "metadata": {},
   "outputs": [
    {
     "data": {
      "text/plain": [
       "False    283726\n",
       "True       1081\n",
       "dtype: int64"
      ]
     },
     "execution_count": 23,
     "metadata": {},
     "output_type": "execute_result"
    }
   ],
   "source": [
    "df.duplicated().value_counts()"
   ]
  },
  {
   "cell_type": "code",
   "execution_count": 24,
   "metadata": {},
   "outputs": [
    {
     "name": "stdout",
     "output_type": "stream",
     "text": [
      "283726\n"
     ]
    }
   ],
   "source": [
    "print(len(df.drop_duplicates())) # Length of dataframe > Length after drop_duplicates()"
   ]
  },
  {
   "cell_type": "code",
   "execution_count": 25,
   "metadata": {},
   "outputs": [
    {
     "data": {
      "text/plain": [
       "False    283726\n",
       "True       1081\n",
       "dtype: int64"
      ]
     },
     "execution_count": 25,
     "metadata": {},
     "output_type": "execute_result"
    }
   ],
   "source": [
    "df.duplicated().value_counts()"
   ]
  },
  {
   "cell_type": "code",
   "execution_count": 26,
   "metadata": {},
   "outputs": [
    {
     "data": {
      "text/plain": [
       "0.00379555277784605"
      ]
     },
     "execution_count": 26,
     "metadata": {},
     "output_type": "execute_result"
    }
   ],
   "source": [
    "1081/284807"
   ]
  },
  {
   "cell_type": "code",
   "execution_count": 27,
   "metadata": {},
   "outputs": [],
   "source": [
    "# Removing the Duplicate Values\n",
    "df.drop_duplicates(inplace = True)"
   ]
  },
  {
   "cell_type": "code",
   "execution_count": 28,
   "metadata": {},
   "outputs": [
    {
     "data": {
      "text/plain": [
       "False    283726\n",
       "dtype: int64"
      ]
     },
     "execution_count": 28,
     "metadata": {},
     "output_type": "execute_result"
    }
   ],
   "source": [
    "df.duplicated().value_counts()"
   ]
  },
  {
   "cell_type": "code",
   "execution_count": null,
   "metadata": {},
   "outputs": [],
   "source": []
  },
  {
   "cell_type": "markdown",
   "metadata": {},
   "source": [
    "## Resetting index"
   ]
  },
  {
   "cell_type": "code",
   "execution_count": 29,
   "metadata": {},
   "outputs": [
    {
     "data": {
      "text/html": [
       "<div>\n",
       "<style scoped>\n",
       "    .dataframe tbody tr th:only-of-type {\n",
       "        vertical-align: middle;\n",
       "    }\n",
       "\n",
       "    .dataframe tbody tr th {\n",
       "        vertical-align: top;\n",
       "    }\n",
       "\n",
       "    .dataframe thead th {\n",
       "        text-align: right;\n",
       "    }\n",
       "</style>\n",
       "<table border=\"1\" class=\"dataframe\">\n",
       "  <thead>\n",
       "    <tr style=\"text-align: right;\">\n",
       "      <th></th>\n",
       "      <th>Time</th>\n",
       "      <th>V1</th>\n",
       "      <th>V2</th>\n",
       "      <th>V3</th>\n",
       "      <th>V4</th>\n",
       "      <th>V5</th>\n",
       "      <th>V6</th>\n",
       "      <th>V7</th>\n",
       "      <th>V8</th>\n",
       "      <th>V9</th>\n",
       "      <th>...</th>\n",
       "      <th>V22</th>\n",
       "      <th>V23</th>\n",
       "      <th>V24</th>\n",
       "      <th>V25</th>\n",
       "      <th>V26</th>\n",
       "      <th>V27</th>\n",
       "      <th>V28</th>\n",
       "      <th>Amount</th>\n",
       "      <th>Class</th>\n",
       "      <th>hour</th>\n",
       "    </tr>\n",
       "  </thead>\n",
       "  <tbody>\n",
       "    <tr>\n",
       "      <td>0</td>\n",
       "      <td>0.0</td>\n",
       "      <td>-1.359807</td>\n",
       "      <td>-0.072781</td>\n",
       "      <td>2.536347</td>\n",
       "      <td>1.378155</td>\n",
       "      <td>-0.338321</td>\n",
       "      <td>0.462388</td>\n",
       "      <td>0.239599</td>\n",
       "      <td>0.098698</td>\n",
       "      <td>0.363787</td>\n",
       "      <td>...</td>\n",
       "      <td>0.277838</td>\n",
       "      <td>-0.110474</td>\n",
       "      <td>0.066928</td>\n",
       "      <td>0.128539</td>\n",
       "      <td>-0.189115</td>\n",
       "      <td>0.133558</td>\n",
       "      <td>-0.021053</td>\n",
       "      <td>149.62</td>\n",
       "      <td>0</td>\n",
       "      <td>0.000000</td>\n",
       "    </tr>\n",
       "    <tr>\n",
       "      <td>1</td>\n",
       "      <td>0.0</td>\n",
       "      <td>1.191857</td>\n",
       "      <td>0.266151</td>\n",
       "      <td>0.166480</td>\n",
       "      <td>0.448154</td>\n",
       "      <td>0.060018</td>\n",
       "      <td>-0.082361</td>\n",
       "      <td>-0.078803</td>\n",
       "      <td>0.085102</td>\n",
       "      <td>-0.255425</td>\n",
       "      <td>...</td>\n",
       "      <td>-0.638672</td>\n",
       "      <td>0.101288</td>\n",
       "      <td>-0.339846</td>\n",
       "      <td>0.167170</td>\n",
       "      <td>0.125895</td>\n",
       "      <td>-0.008983</td>\n",
       "      <td>0.014724</td>\n",
       "      <td>2.69</td>\n",
       "      <td>0</td>\n",
       "      <td>0.000000</td>\n",
       "    </tr>\n",
       "    <tr>\n",
       "      <td>2</td>\n",
       "      <td>1.0</td>\n",
       "      <td>-1.358354</td>\n",
       "      <td>-1.340163</td>\n",
       "      <td>1.773209</td>\n",
       "      <td>0.379780</td>\n",
       "      <td>-0.503198</td>\n",
       "      <td>1.800499</td>\n",
       "      <td>0.791461</td>\n",
       "      <td>0.247676</td>\n",
       "      <td>-1.514654</td>\n",
       "      <td>...</td>\n",
       "      <td>0.771679</td>\n",
       "      <td>0.909412</td>\n",
       "      <td>-0.689281</td>\n",
       "      <td>-0.327642</td>\n",
       "      <td>-0.139097</td>\n",
       "      <td>-0.055353</td>\n",
       "      <td>-0.059752</td>\n",
       "      <td>378.66</td>\n",
       "      <td>0</td>\n",
       "      <td>0.000278</td>\n",
       "    </tr>\n",
       "    <tr>\n",
       "      <td>3</td>\n",
       "      <td>1.0</td>\n",
       "      <td>-0.966272</td>\n",
       "      <td>-0.185226</td>\n",
       "      <td>1.792993</td>\n",
       "      <td>-0.863291</td>\n",
       "      <td>-0.010309</td>\n",
       "      <td>1.247203</td>\n",
       "      <td>0.237609</td>\n",
       "      <td>0.377436</td>\n",
       "      <td>-1.387024</td>\n",
       "      <td>...</td>\n",
       "      <td>0.005274</td>\n",
       "      <td>-0.190321</td>\n",
       "      <td>-1.175575</td>\n",
       "      <td>0.647376</td>\n",
       "      <td>-0.221929</td>\n",
       "      <td>0.062723</td>\n",
       "      <td>0.061458</td>\n",
       "      <td>123.50</td>\n",
       "      <td>0</td>\n",
       "      <td>0.000278</td>\n",
       "    </tr>\n",
       "    <tr>\n",
       "      <td>4</td>\n",
       "      <td>2.0</td>\n",
       "      <td>-1.158233</td>\n",
       "      <td>0.877737</td>\n",
       "      <td>1.548718</td>\n",
       "      <td>0.403034</td>\n",
       "      <td>-0.407193</td>\n",
       "      <td>0.095921</td>\n",
       "      <td>0.592941</td>\n",
       "      <td>-0.270533</td>\n",
       "      <td>0.817739</td>\n",
       "      <td>...</td>\n",
       "      <td>0.798278</td>\n",
       "      <td>-0.137458</td>\n",
       "      <td>0.141267</td>\n",
       "      <td>-0.206010</td>\n",
       "      <td>0.502292</td>\n",
       "      <td>0.219422</td>\n",
       "      <td>0.215153</td>\n",
       "      <td>69.99</td>\n",
       "      <td>0</td>\n",
       "      <td>0.000556</td>\n",
       "    </tr>\n",
       "    <tr>\n",
       "      <td>5</td>\n",
       "      <td>2.0</td>\n",
       "      <td>-0.425966</td>\n",
       "      <td>0.960523</td>\n",
       "      <td>1.141109</td>\n",
       "      <td>-0.168252</td>\n",
       "      <td>0.420987</td>\n",
       "      <td>-0.029728</td>\n",
       "      <td>0.476201</td>\n",
       "      <td>0.260314</td>\n",
       "      <td>-0.568671</td>\n",
       "      <td>...</td>\n",
       "      <td>-0.559825</td>\n",
       "      <td>-0.026398</td>\n",
       "      <td>-0.371427</td>\n",
       "      <td>-0.232794</td>\n",
       "      <td>0.105915</td>\n",
       "      <td>0.253844</td>\n",
       "      <td>0.081080</td>\n",
       "      <td>3.67</td>\n",
       "      <td>0</td>\n",
       "      <td>0.000556</td>\n",
       "    </tr>\n",
       "    <tr>\n",
       "      <td>6</td>\n",
       "      <td>4.0</td>\n",
       "      <td>1.229658</td>\n",
       "      <td>0.141004</td>\n",
       "      <td>0.045371</td>\n",
       "      <td>1.202613</td>\n",
       "      <td>0.191881</td>\n",
       "      <td>0.272708</td>\n",
       "      <td>-0.005159</td>\n",
       "      <td>0.081213</td>\n",
       "      <td>0.464960</td>\n",
       "      <td>...</td>\n",
       "      <td>-0.270710</td>\n",
       "      <td>-0.154104</td>\n",
       "      <td>-0.780055</td>\n",
       "      <td>0.750137</td>\n",
       "      <td>-0.257237</td>\n",
       "      <td>0.034507</td>\n",
       "      <td>0.005168</td>\n",
       "      <td>4.99</td>\n",
       "      <td>0</td>\n",
       "      <td>0.001111</td>\n",
       "    </tr>\n",
       "    <tr>\n",
       "      <td>7</td>\n",
       "      <td>7.0</td>\n",
       "      <td>-0.644269</td>\n",
       "      <td>1.417964</td>\n",
       "      <td>1.074380</td>\n",
       "      <td>-0.492199</td>\n",
       "      <td>0.948934</td>\n",
       "      <td>0.428118</td>\n",
       "      <td>1.120631</td>\n",
       "      <td>-3.807864</td>\n",
       "      <td>0.615375</td>\n",
       "      <td>...</td>\n",
       "      <td>-1.015455</td>\n",
       "      <td>0.057504</td>\n",
       "      <td>-0.649709</td>\n",
       "      <td>-0.415267</td>\n",
       "      <td>-0.051634</td>\n",
       "      <td>-1.206921</td>\n",
       "      <td>-1.085339</td>\n",
       "      <td>40.80</td>\n",
       "      <td>0</td>\n",
       "      <td>0.001944</td>\n",
       "    </tr>\n",
       "    <tr>\n",
       "      <td>8</td>\n",
       "      <td>7.0</td>\n",
       "      <td>-0.894286</td>\n",
       "      <td>0.286157</td>\n",
       "      <td>-0.113192</td>\n",
       "      <td>-0.271526</td>\n",
       "      <td>2.669599</td>\n",
       "      <td>3.721818</td>\n",
       "      <td>0.370145</td>\n",
       "      <td>0.851084</td>\n",
       "      <td>-0.392048</td>\n",
       "      <td>...</td>\n",
       "      <td>-0.268092</td>\n",
       "      <td>-0.204233</td>\n",
       "      <td>1.011592</td>\n",
       "      <td>0.373205</td>\n",
       "      <td>-0.384157</td>\n",
       "      <td>0.011747</td>\n",
       "      <td>0.142404</td>\n",
       "      <td>93.20</td>\n",
       "      <td>0</td>\n",
       "      <td>0.001944</td>\n",
       "    </tr>\n",
       "    <tr>\n",
       "      <td>9</td>\n",
       "      <td>9.0</td>\n",
       "      <td>-0.338262</td>\n",
       "      <td>1.119593</td>\n",
       "      <td>1.044367</td>\n",
       "      <td>-0.222187</td>\n",
       "      <td>0.499361</td>\n",
       "      <td>-0.246761</td>\n",
       "      <td>0.651583</td>\n",
       "      <td>0.069539</td>\n",
       "      <td>-0.736727</td>\n",
       "      <td>...</td>\n",
       "      <td>-0.633753</td>\n",
       "      <td>-0.120794</td>\n",
       "      <td>-0.385050</td>\n",
       "      <td>-0.069733</td>\n",
       "      <td>0.094199</td>\n",
       "      <td>0.246219</td>\n",
       "      <td>0.083076</td>\n",
       "      <td>3.68</td>\n",
       "      <td>0</td>\n",
       "      <td>0.002500</td>\n",
       "    </tr>\n",
       "    <tr>\n",
       "      <td>10</td>\n",
       "      <td>10.0</td>\n",
       "      <td>1.449044</td>\n",
       "      <td>-1.176339</td>\n",
       "      <td>0.913860</td>\n",
       "      <td>-1.375667</td>\n",
       "      <td>-1.971383</td>\n",
       "      <td>-0.629152</td>\n",
       "      <td>-1.423236</td>\n",
       "      <td>0.048456</td>\n",
       "      <td>-1.720408</td>\n",
       "      <td>...</td>\n",
       "      <td>0.313894</td>\n",
       "      <td>0.027740</td>\n",
       "      <td>0.500512</td>\n",
       "      <td>0.251367</td>\n",
       "      <td>-0.129478</td>\n",
       "      <td>0.042850</td>\n",
       "      <td>0.016253</td>\n",
       "      <td>7.80</td>\n",
       "      <td>0</td>\n",
       "      <td>0.002778</td>\n",
       "    </tr>\n",
       "    <tr>\n",
       "      <td>11</td>\n",
       "      <td>10.0</td>\n",
       "      <td>0.384978</td>\n",
       "      <td>0.616109</td>\n",
       "      <td>-0.874300</td>\n",
       "      <td>-0.094019</td>\n",
       "      <td>2.924584</td>\n",
       "      <td>3.317027</td>\n",
       "      <td>0.470455</td>\n",
       "      <td>0.538247</td>\n",
       "      <td>-0.558895</td>\n",
       "      <td>...</td>\n",
       "      <td>0.238422</td>\n",
       "      <td>0.009130</td>\n",
       "      <td>0.996710</td>\n",
       "      <td>-0.767315</td>\n",
       "      <td>-0.492208</td>\n",
       "      <td>0.042472</td>\n",
       "      <td>-0.054337</td>\n",
       "      <td>9.99</td>\n",
       "      <td>0</td>\n",
       "      <td>0.002778</td>\n",
       "    </tr>\n",
       "    <tr>\n",
       "      <td>12</td>\n",
       "      <td>10.0</td>\n",
       "      <td>1.249999</td>\n",
       "      <td>-1.221637</td>\n",
       "      <td>0.383930</td>\n",
       "      <td>-1.234899</td>\n",
       "      <td>-1.485419</td>\n",
       "      <td>-0.753230</td>\n",
       "      <td>-0.689405</td>\n",
       "      <td>-0.227487</td>\n",
       "      <td>-2.094011</td>\n",
       "      <td>...</td>\n",
       "      <td>-0.483285</td>\n",
       "      <td>0.084668</td>\n",
       "      <td>0.392831</td>\n",
       "      <td>0.161135</td>\n",
       "      <td>-0.354990</td>\n",
       "      <td>0.026416</td>\n",
       "      <td>0.042422</td>\n",
       "      <td>121.50</td>\n",
       "      <td>0</td>\n",
       "      <td>0.002778</td>\n",
       "    </tr>\n",
       "    <tr>\n",
       "      <td>13</td>\n",
       "      <td>11.0</td>\n",
       "      <td>1.069374</td>\n",
       "      <td>0.287722</td>\n",
       "      <td>0.828613</td>\n",
       "      <td>2.712520</td>\n",
       "      <td>-0.178398</td>\n",
       "      <td>0.337544</td>\n",
       "      <td>-0.096717</td>\n",
       "      <td>0.115982</td>\n",
       "      <td>-0.221083</td>\n",
       "      <td>...</td>\n",
       "      <td>0.074412</td>\n",
       "      <td>-0.071407</td>\n",
       "      <td>0.104744</td>\n",
       "      <td>0.548265</td>\n",
       "      <td>0.104094</td>\n",
       "      <td>0.021491</td>\n",
       "      <td>0.021293</td>\n",
       "      <td>27.50</td>\n",
       "      <td>0</td>\n",
       "      <td>0.003056</td>\n",
       "    </tr>\n",
       "    <tr>\n",
       "      <td>14</td>\n",
       "      <td>12.0</td>\n",
       "      <td>-2.791855</td>\n",
       "      <td>-0.327771</td>\n",
       "      <td>1.641750</td>\n",
       "      <td>1.767473</td>\n",
       "      <td>-0.136588</td>\n",
       "      <td>0.807596</td>\n",
       "      <td>-0.422911</td>\n",
       "      <td>-1.907107</td>\n",
       "      <td>0.755713</td>\n",
       "      <td>...</td>\n",
       "      <td>0.222182</td>\n",
       "      <td>1.020586</td>\n",
       "      <td>0.028317</td>\n",
       "      <td>-0.232746</td>\n",
       "      <td>-0.235557</td>\n",
       "      <td>-0.164778</td>\n",
       "      <td>-0.030154</td>\n",
       "      <td>58.80</td>\n",
       "      <td>0</td>\n",
       "      <td>0.003333</td>\n",
       "    </tr>\n",
       "    <tr>\n",
       "      <td>15</td>\n",
       "      <td>12.0</td>\n",
       "      <td>-0.752417</td>\n",
       "      <td>0.345485</td>\n",
       "      <td>2.057323</td>\n",
       "      <td>-1.468643</td>\n",
       "      <td>-1.158394</td>\n",
       "      <td>-0.077850</td>\n",
       "      <td>-0.608581</td>\n",
       "      <td>0.003603</td>\n",
       "      <td>-0.436167</td>\n",
       "      <td>...</td>\n",
       "      <td>1.353650</td>\n",
       "      <td>-0.256573</td>\n",
       "      <td>-0.065084</td>\n",
       "      <td>-0.039124</td>\n",
       "      <td>-0.087086</td>\n",
       "      <td>-0.180998</td>\n",
       "      <td>0.129394</td>\n",
       "      <td>15.99</td>\n",
       "      <td>0</td>\n",
       "      <td>0.003333</td>\n",
       "    </tr>\n",
       "    <tr>\n",
       "      <td>16</td>\n",
       "      <td>12.0</td>\n",
       "      <td>1.103215</td>\n",
       "      <td>-0.040296</td>\n",
       "      <td>1.267332</td>\n",
       "      <td>1.289091</td>\n",
       "      <td>-0.735997</td>\n",
       "      <td>0.288069</td>\n",
       "      <td>-0.586057</td>\n",
       "      <td>0.189380</td>\n",
       "      <td>0.782333</td>\n",
       "      <td>...</td>\n",
       "      <td>0.196002</td>\n",
       "      <td>0.013802</td>\n",
       "      <td>0.103758</td>\n",
       "      <td>0.364298</td>\n",
       "      <td>-0.382261</td>\n",
       "      <td>0.092809</td>\n",
       "      <td>0.037051</td>\n",
       "      <td>12.99</td>\n",
       "      <td>0</td>\n",
       "      <td>0.003333</td>\n",
       "    </tr>\n",
       "    <tr>\n",
       "      <td>17</td>\n",
       "      <td>13.0</td>\n",
       "      <td>-0.436905</td>\n",
       "      <td>0.918966</td>\n",
       "      <td>0.924591</td>\n",
       "      <td>-0.727219</td>\n",
       "      <td>0.915679</td>\n",
       "      <td>-0.127867</td>\n",
       "      <td>0.707642</td>\n",
       "      <td>0.087962</td>\n",
       "      <td>-0.665271</td>\n",
       "      <td>...</td>\n",
       "      <td>-0.672638</td>\n",
       "      <td>-0.156858</td>\n",
       "      <td>-0.888386</td>\n",
       "      <td>-0.342413</td>\n",
       "      <td>-0.049027</td>\n",
       "      <td>0.079692</td>\n",
       "      <td>0.131024</td>\n",
       "      <td>0.89</td>\n",
       "      <td>0</td>\n",
       "      <td>0.003611</td>\n",
       "    </tr>\n",
       "    <tr>\n",
       "      <td>18</td>\n",
       "      <td>14.0</td>\n",
       "      <td>-5.401258</td>\n",
       "      <td>-5.450148</td>\n",
       "      <td>1.186305</td>\n",
       "      <td>1.736239</td>\n",
       "      <td>3.049106</td>\n",
       "      <td>-1.763406</td>\n",
       "      <td>-1.559738</td>\n",
       "      <td>0.160842</td>\n",
       "      <td>1.233090</td>\n",
       "      <td>...</td>\n",
       "      <td>0.984460</td>\n",
       "      <td>2.458589</td>\n",
       "      <td>0.042119</td>\n",
       "      <td>-0.481631</td>\n",
       "      <td>-0.621272</td>\n",
       "      <td>0.392053</td>\n",
       "      <td>0.949594</td>\n",
       "      <td>46.80</td>\n",
       "      <td>0</td>\n",
       "      <td>0.003889</td>\n",
       "    </tr>\n",
       "    <tr>\n",
       "      <td>19</td>\n",
       "      <td>15.0</td>\n",
       "      <td>1.492936</td>\n",
       "      <td>-1.029346</td>\n",
       "      <td>0.454795</td>\n",
       "      <td>-1.438026</td>\n",
       "      <td>-1.555434</td>\n",
       "      <td>-0.720961</td>\n",
       "      <td>-1.080664</td>\n",
       "      <td>-0.053127</td>\n",
       "      <td>-1.978682</td>\n",
       "      <td>...</td>\n",
       "      <td>-0.175074</td>\n",
       "      <td>0.040002</td>\n",
       "      <td>0.295814</td>\n",
       "      <td>0.332931</td>\n",
       "      <td>-0.220385</td>\n",
       "      <td>0.022298</td>\n",
       "      <td>0.007602</td>\n",
       "      <td>5.00</td>\n",
       "      <td>0</td>\n",
       "      <td>0.004167</td>\n",
       "    </tr>\n",
       "  </tbody>\n",
       "</table>\n",
       "<p>20 rows × 32 columns</p>\n",
       "</div>"
      ],
      "text/plain": [
       "    Time        V1        V2        V3        V4        V5        V6  \\\n",
       "0    0.0 -1.359807 -0.072781  2.536347  1.378155 -0.338321  0.462388   \n",
       "1    0.0  1.191857  0.266151  0.166480  0.448154  0.060018 -0.082361   \n",
       "2    1.0 -1.358354 -1.340163  1.773209  0.379780 -0.503198  1.800499   \n",
       "3    1.0 -0.966272 -0.185226  1.792993 -0.863291 -0.010309  1.247203   \n",
       "4    2.0 -1.158233  0.877737  1.548718  0.403034 -0.407193  0.095921   \n",
       "5    2.0 -0.425966  0.960523  1.141109 -0.168252  0.420987 -0.029728   \n",
       "6    4.0  1.229658  0.141004  0.045371  1.202613  0.191881  0.272708   \n",
       "7    7.0 -0.644269  1.417964  1.074380 -0.492199  0.948934  0.428118   \n",
       "8    7.0 -0.894286  0.286157 -0.113192 -0.271526  2.669599  3.721818   \n",
       "9    9.0 -0.338262  1.119593  1.044367 -0.222187  0.499361 -0.246761   \n",
       "10  10.0  1.449044 -1.176339  0.913860 -1.375667 -1.971383 -0.629152   \n",
       "11  10.0  0.384978  0.616109 -0.874300 -0.094019  2.924584  3.317027   \n",
       "12  10.0  1.249999 -1.221637  0.383930 -1.234899 -1.485419 -0.753230   \n",
       "13  11.0  1.069374  0.287722  0.828613  2.712520 -0.178398  0.337544   \n",
       "14  12.0 -2.791855 -0.327771  1.641750  1.767473 -0.136588  0.807596   \n",
       "15  12.0 -0.752417  0.345485  2.057323 -1.468643 -1.158394 -0.077850   \n",
       "16  12.0  1.103215 -0.040296  1.267332  1.289091 -0.735997  0.288069   \n",
       "17  13.0 -0.436905  0.918966  0.924591 -0.727219  0.915679 -0.127867   \n",
       "18  14.0 -5.401258 -5.450148  1.186305  1.736239  3.049106 -1.763406   \n",
       "19  15.0  1.492936 -1.029346  0.454795 -1.438026 -1.555434 -0.720961   \n",
       "\n",
       "          V7        V8        V9  ...       V22       V23       V24       V25  \\\n",
       "0   0.239599  0.098698  0.363787  ...  0.277838 -0.110474  0.066928  0.128539   \n",
       "1  -0.078803  0.085102 -0.255425  ... -0.638672  0.101288 -0.339846  0.167170   \n",
       "2   0.791461  0.247676 -1.514654  ...  0.771679  0.909412 -0.689281 -0.327642   \n",
       "3   0.237609  0.377436 -1.387024  ...  0.005274 -0.190321 -1.175575  0.647376   \n",
       "4   0.592941 -0.270533  0.817739  ...  0.798278 -0.137458  0.141267 -0.206010   \n",
       "5   0.476201  0.260314 -0.568671  ... -0.559825 -0.026398 -0.371427 -0.232794   \n",
       "6  -0.005159  0.081213  0.464960  ... -0.270710 -0.154104 -0.780055  0.750137   \n",
       "7   1.120631 -3.807864  0.615375  ... -1.015455  0.057504 -0.649709 -0.415267   \n",
       "8   0.370145  0.851084 -0.392048  ... -0.268092 -0.204233  1.011592  0.373205   \n",
       "9   0.651583  0.069539 -0.736727  ... -0.633753 -0.120794 -0.385050 -0.069733   \n",
       "10 -1.423236  0.048456 -1.720408  ...  0.313894  0.027740  0.500512  0.251367   \n",
       "11  0.470455  0.538247 -0.558895  ...  0.238422  0.009130  0.996710 -0.767315   \n",
       "12 -0.689405 -0.227487 -2.094011  ... -0.483285  0.084668  0.392831  0.161135   \n",
       "13 -0.096717  0.115982 -0.221083  ...  0.074412 -0.071407  0.104744  0.548265   \n",
       "14 -0.422911 -1.907107  0.755713  ...  0.222182  1.020586  0.028317 -0.232746   \n",
       "15 -0.608581  0.003603 -0.436167  ...  1.353650 -0.256573 -0.065084 -0.039124   \n",
       "16 -0.586057  0.189380  0.782333  ...  0.196002  0.013802  0.103758  0.364298   \n",
       "17  0.707642  0.087962 -0.665271  ... -0.672638 -0.156858 -0.888386 -0.342413   \n",
       "18 -1.559738  0.160842  1.233090  ...  0.984460  2.458589  0.042119 -0.481631   \n",
       "19 -1.080664 -0.053127 -1.978682  ... -0.175074  0.040002  0.295814  0.332931   \n",
       "\n",
       "         V26       V27       V28  Amount  Class      hour  \n",
       "0  -0.189115  0.133558 -0.021053  149.62      0  0.000000  \n",
       "1   0.125895 -0.008983  0.014724    2.69      0  0.000000  \n",
       "2  -0.139097 -0.055353 -0.059752  378.66      0  0.000278  \n",
       "3  -0.221929  0.062723  0.061458  123.50      0  0.000278  \n",
       "4   0.502292  0.219422  0.215153   69.99      0  0.000556  \n",
       "5   0.105915  0.253844  0.081080    3.67      0  0.000556  \n",
       "6  -0.257237  0.034507  0.005168    4.99      0  0.001111  \n",
       "7  -0.051634 -1.206921 -1.085339   40.80      0  0.001944  \n",
       "8  -0.384157  0.011747  0.142404   93.20      0  0.001944  \n",
       "9   0.094199  0.246219  0.083076    3.68      0  0.002500  \n",
       "10 -0.129478  0.042850  0.016253    7.80      0  0.002778  \n",
       "11 -0.492208  0.042472 -0.054337    9.99      0  0.002778  \n",
       "12 -0.354990  0.026416  0.042422  121.50      0  0.002778  \n",
       "13  0.104094  0.021491  0.021293   27.50      0  0.003056  \n",
       "14 -0.235557 -0.164778 -0.030154   58.80      0  0.003333  \n",
       "15 -0.087086 -0.180998  0.129394   15.99      0  0.003333  \n",
       "16 -0.382261  0.092809  0.037051   12.99      0  0.003333  \n",
       "17 -0.049027  0.079692  0.131024    0.89      0  0.003611  \n",
       "18 -0.621272  0.392053  0.949594   46.80      0  0.003889  \n",
       "19 -0.220385  0.022298  0.007602    5.00      0  0.004167  \n",
       "\n",
       "[20 rows x 32 columns]"
      ]
     },
     "execution_count": 29,
     "metadata": {},
     "output_type": "execute_result"
    }
   ],
   "source": [
    "df.reset_index(inplace = True , drop = True)\n",
    "df.head(20)"
   ]
  },
  {
   "cell_type": "code",
   "execution_count": 30,
   "metadata": {},
   "outputs": [
    {
     "data": {
      "text/plain": [
       "Index(['Time', 'V1', 'V2', 'V3', 'V4', 'V5', 'V6', 'V7', 'V8', 'V9', 'V10',\n",
       "       'V11', 'V12', 'V13', 'V14', 'V15', 'V16', 'V17', 'V18', 'V19', 'V20',\n",
       "       'V21', 'V22', 'V23', 'V24', 'V25', 'V26', 'V27', 'V28', 'Amount',\n",
       "       'Class', 'hour'],\n",
       "      dtype='object')"
      ]
     },
     "execution_count": 30,
     "metadata": {},
     "output_type": "execute_result"
    }
   ],
   "source": [
    "df.columns"
   ]
  },
  {
   "cell_type": "code",
   "execution_count": 31,
   "metadata": {},
   "outputs": [],
   "source": [
    "# Converting all column names to lower case # Task -3\n",
    "df.columns = df.columns.str.lower() #.upper() "
   ]
  },
  {
   "cell_type": "code",
   "execution_count": 32,
   "metadata": {},
   "outputs": [
    {
     "data": {
      "text/plain": [
       "Index(['time', 'v1', 'v2', 'v3', 'v4', 'v5', 'v6', 'v7', 'v8', 'v9', 'v10',\n",
       "       'v11', 'v12', 'v13', 'v14', 'v15', 'v16', 'v17', 'v18', 'v19', 'v20',\n",
       "       'v21', 'v22', 'v23', 'v24', 'v25', 'v26', 'v27', 'v28', 'amount',\n",
       "       'class', 'hour'],\n",
       "      dtype='object')"
      ]
     },
     "execution_count": 32,
     "metadata": {},
     "output_type": "execute_result"
    }
   ],
   "source": [
    "df.columns"
   ]
  },
  {
   "cell_type": "markdown",
   "metadata": {},
   "source": [
    "# Amount Column"
   ]
  },
  {
   "cell_type": "code",
   "execution_count": 33,
   "metadata": {},
   "outputs": [],
   "source": [
    "import warnings\n",
    "warnings.filterwarnings('ignore')"
   ]
  },
  {
   "cell_type": "code",
   "execution_count": 34,
   "metadata": {},
   "outputs": [
    {
     "data": {
      "image/png": "[encoded data removed]",
      "text/plain": [
       "<Figure size 432x288 with 1 Axes>"
      ]
     },
     "metadata": {
      "needs_background": "light"
     },
     "output_type": "display_data"
    }
   ],
   "source": [
    "plt.figsize = (100,100)\n",
    "sns.distplot(df['amount'])\n",
    "plt.show()"
   ]
  },
  {
   "cell_type": "code",
   "execution_count": 35,
   "metadata": {},
   "outputs": [
    {
     "data": {
      "text/plain": [
       "0.00       1808\n",
       "11.50      1739\n",
       "4.49       1579\n",
       "5.00       1564\n",
       "0.77       1443\n",
       "           ... \n",
       "362.97        1\n",
       "241.71        1\n",
       "462.78        1\n",
       "337.41        1\n",
       "1080.06       1\n",
       "Name: amount, Length: 32755, dtype: int64"
      ]
     },
     "execution_count": 35,
     "metadata": {},
     "output_type": "execute_result"
    }
   ],
   "source": [
    "pd.Series(df['amount'].value_counts())[0:]"
   ]
  },
  {
   "cell_type": "markdown",
   "metadata": {},
   "source": [
    "# Time Column"
   ]
  },
  {
   "cell_type": "code",
   "execution_count": 36,
   "metadata": {},
   "outputs": [
    {
     "data": {
      "image/png": "[encoded data removed]",
      "text/plain": [
       "<Figure size 432x288 with 1 Axes>"
      ]
     },
     "metadata": {
      "needs_background": "light"
     },
     "output_type": "display_data"
    }
   ],
   "source": [
    "plt.figsize = (20,20)\n",
    "sns.distplot(df['hour'])\n",
    "plt.show()"
   ]
  },
  {
   "cell_type": "markdown",
   "metadata": {},
   "source": [
    "# Class Cloumn"
   ]
  },
  {
   "cell_type": "code",
   "execution_count": 37,
   "metadata": {},
   "outputs": [
    {
     "data": {
      "image/png": "[encoded data removed]",
      "text/plain": [
       "<Figure size 432x288 with 1 Axes>"
      ]
     },
     "metadata": {
      "needs_background": "light"
     },
     "output_type": "display_data"
    }
   ],
   "source": [
    "plt.figsize = (20,20)\n",
    "sns.countplot(df['class']) # Highly Skewed , Imbalanced Data\n",
    "plt.title('Class Values Distribution')\n",
    "plt.show()"
   ]
  },
  {
   "cell_type": "code",
   "execution_count": 38,
   "metadata": {},
   "outputs": [
    {
     "data": {
      "text/plain": [
       "<matplotlib.axes._subplots.AxesSubplot at 0x200da3ed5c8>"
      ]
     },
     "execution_count": 38,
     "metadata": {},
     "output_type": "execute_result"
    },
    {
     "data": {
      "image/png": "[encoded data removed]",
      "text/plain": [
       "<Figure size 432x288 with 1 Axes>"
      ]
     },
     "metadata": {},
     "output_type": "display_data"
    }
   ],
   "source": [
    "df['class'].value_counts().plot(kind = 'pie') # Different Style"
   ]
  },
  {
   "cell_type": "code",
   "execution_count": 39,
   "metadata": {},
   "outputs": [
    {
     "data": {
      "text/plain": [
       "0.001667101358352777"
      ]
     },
     "execution_count": 39,
     "metadata": {},
     "output_type": "execute_result"
    }
   ],
   "source": [
    "df['class'].sum()/len(df['class'])"
   ]
  },
  {
   "cell_type": "code",
   "execution_count": 40,
   "metadata": {},
   "outputs": [
    {
     "data": {
      "text/plain": [
       "([<matplotlib.patches.Wedge at 0x200da916288>,\n",
       "  <matplotlib.patches.Wedge at 0x200da916e88>],\n",
       " [Text(-1.1999835424914616, 0.006284723513625731, 'Genuine '),\n",
       "  Text(1.1999835428684147, -0.006284651539043478, 'Fraud ')],\n",
       " [Text(-2.499965713523878, 0.013093173986720275, '99.833%'),\n",
       "  Text(2.4999657143091976, -0.013093024039673912, '0.167%')])"
      ]
     },
     "execution_count": 40,
     "metadata": {},
     "output_type": "execute_result"
    },
    {
     "data": {
      "image/png": "[encoded data removed]",
      "text/plain": [
       "<Figure size 432x288 with 1 Axes>"
      ]
     },
     "metadata": {},
     "output_type": "display_data"
    }
   ],
   "source": [
    "labels = ['Genuine ','Fraud ']\n",
    "plt.pie(df['class'].value_counts(), labels=labels, autopct='%0.3f%%' , pctdistance=2.5, labeldistance=1.2)"
   ]
  },
  {
   "cell_type": "code",
   "execution_count": 41,
   "metadata": {},
   "outputs": [
    {
     "data": {
      "text/plain": [
       "0    283253\n",
       "1       473\n",
       "Name: class, dtype: int64"
      ]
     },
     "execution_count": 41,
     "metadata": {},
     "output_type": "execute_result"
    }
   ],
   "source": [
    "df['class'].value_counts()\n",
    "# Class 0 is Legitimate , Genuine Transactions\n",
    "# Class 1 represents Fraudulent Transactions"
   ]
  },
  {
   "cell_type": "markdown",
   "metadata": {},
   "source": [
    "# Visualising Data for detecting any particular Pattern or Anomaly using Histogram Plots"
   ]
  },
  {
   "cell_type": "code",
   "execution_count": 42,
   "metadata": {},
   "outputs": [
    {
     "data": {
      "image/png": "[encoded data removed]",
      "text/plain": [
       "<Figure size 1800x1800 with 36 Axes>"
      ]
     },
     "metadata": {
      "needs_background": "light"
     },
     "output_type": "display_data"
    }
   ],
   "source": [
    "df.hist(figsize = (25,25))\n",
    "plt.show()"
   ]
  },
  {
   "cell_type": "code",
   "execution_count": 43,
   "metadata": {},
   "outputs": [
    {
     "data": {
      "text/html": [
       "<div>\n",
       "<style scoped>\n",
       "    .dataframe tbody tr th:only-of-type {\n",
       "        vertical-align: middle;\n",
       "    }\n",
       "\n",
       "    .dataframe tbody tr th {\n",
       "        vertical-align: top;\n",
       "    }\n",
       "\n",
       "    .dataframe thead th {\n",
       "        text-align: right;\n",
       "    }\n",
       "</style>\n",
       "<table border=\"1\" class=\"dataframe\">\n",
       "  <thead>\n",
       "    <tr style=\"text-align: right;\">\n",
       "      <th></th>\n",
       "      <th>time</th>\n",
       "      <th>v1</th>\n",
       "      <th>v2</th>\n",
       "      <th>v3</th>\n",
       "      <th>v4</th>\n",
       "      <th>v5</th>\n",
       "      <th>v6</th>\n",
       "      <th>v7</th>\n",
       "      <th>v8</th>\n",
       "      <th>v9</th>\n",
       "      <th>...</th>\n",
       "      <th>v22</th>\n",
       "      <th>v23</th>\n",
       "      <th>v24</th>\n",
       "      <th>v25</th>\n",
       "      <th>v26</th>\n",
       "      <th>v27</th>\n",
       "      <th>v28</th>\n",
       "      <th>amount</th>\n",
       "      <th>class</th>\n",
       "      <th>hour</th>\n",
       "    </tr>\n",
       "  </thead>\n",
       "  <tbody>\n",
       "    <tr>\n",
       "      <td>time</td>\n",
       "      <td>1.000000</td>\n",
       "      <td>0.117927</td>\n",
       "      <td>-0.010556</td>\n",
       "      <td>-0.422054</td>\n",
       "      <td>-0.105845</td>\n",
       "      <td>0.173223</td>\n",
       "      <td>-0.063279</td>\n",
       "      <td>0.085335</td>\n",
       "      <td>-0.038203</td>\n",
       "      <td>-0.007861</td>\n",
       "      <td>...</td>\n",
       "      <td>0.143727</td>\n",
       "      <td>0.051474</td>\n",
       "      <td>-0.015954</td>\n",
       "      <td>-0.233262</td>\n",
       "      <td>-0.041818</td>\n",
       "      <td>-0.005171</td>\n",
       "      <td>-0.009305</td>\n",
       "      <td>-0.010559</td>\n",
       "      <td>-0.012359</td>\n",
       "      <td>1.000000</td>\n",
       "    </tr>\n",
       "    <tr>\n",
       "      <td>v1</td>\n",
       "      <td>0.117927</td>\n",
       "      <td>1.000000</td>\n",
       "      <td>0.006875</td>\n",
       "      <td>-0.008112</td>\n",
       "      <td>0.002257</td>\n",
       "      <td>-0.007036</td>\n",
       "      <td>0.000413</td>\n",
       "      <td>-0.009173</td>\n",
       "      <td>-0.001168</td>\n",
       "      <td>0.001828</td>\n",
       "      <td>...</td>\n",
       "      <td>-0.001436</td>\n",
       "      <td>-0.001330</td>\n",
       "      <td>-0.000723</td>\n",
       "      <td>-0.000222</td>\n",
       "      <td>-0.000684</td>\n",
       "      <td>-0.015706</td>\n",
       "      <td>-0.004861</td>\n",
       "      <td>-0.230105</td>\n",
       "      <td>-0.094486</td>\n",
       "      <td>0.117927</td>\n",
       "    </tr>\n",
       "    <tr>\n",
       "      <td>v2</td>\n",
       "      <td>-0.010556</td>\n",
       "      <td>0.006875</td>\n",
       "      <td>1.000000</td>\n",
       "      <td>0.005278</td>\n",
       "      <td>-0.001495</td>\n",
       "      <td>0.005210</td>\n",
       "      <td>-0.000594</td>\n",
       "      <td>0.007425</td>\n",
       "      <td>0.002899</td>\n",
       "      <td>-0.000274</td>\n",
       "      <td>...</td>\n",
       "      <td>0.001237</td>\n",
       "      <td>-0.003855</td>\n",
       "      <td>0.000701</td>\n",
       "      <td>-0.001569</td>\n",
       "      <td>0.000253</td>\n",
       "      <td>0.007555</td>\n",
       "      <td>0.001611</td>\n",
       "      <td>-0.533428</td>\n",
       "      <td>0.084624</td>\n",
       "      <td>-0.010556</td>\n",
       "    </tr>\n",
       "    <tr>\n",
       "      <td>v3</td>\n",
       "      <td>-0.422054</td>\n",
       "      <td>-0.008112</td>\n",
       "      <td>0.005278</td>\n",
       "      <td>1.000000</td>\n",
       "      <td>0.002829</td>\n",
       "      <td>-0.006879</td>\n",
       "      <td>-0.001511</td>\n",
       "      <td>-0.011721</td>\n",
       "      <td>-0.001815</td>\n",
       "      <td>-0.003579</td>\n",
       "      <td>...</td>\n",
       "      <td>-0.000275</td>\n",
       "      <td>0.000449</td>\n",
       "      <td>-0.000072</td>\n",
       "      <td>0.000425</td>\n",
       "      <td>-0.000094</td>\n",
       "      <td>-0.007051</td>\n",
       "      <td>-0.000134</td>\n",
       "      <td>-0.212410</td>\n",
       "      <td>-0.182322</td>\n",
       "      <td>-0.422054</td>\n",
       "    </tr>\n",
       "    <tr>\n",
       "      <td>v4</td>\n",
       "      <td>-0.105845</td>\n",
       "      <td>0.002257</td>\n",
       "      <td>-0.001495</td>\n",
       "      <td>0.002829</td>\n",
       "      <td>1.000000</td>\n",
       "      <td>0.001744</td>\n",
       "      <td>-0.000880</td>\n",
       "      <td>0.004657</td>\n",
       "      <td>0.000890</td>\n",
       "      <td>0.002154</td>\n",
       "      <td>...</td>\n",
       "      <td>0.000115</td>\n",
       "      <td>0.000732</td>\n",
       "      <td>-0.000120</td>\n",
       "      <td>0.000162</td>\n",
       "      <td>0.000777</td>\n",
       "      <td>0.001322</td>\n",
       "      <td>0.000231</td>\n",
       "      <td>0.099514</td>\n",
       "      <td>0.129326</td>\n",
       "      <td>-0.105845</td>\n",
       "    </tr>\n",
       "    <tr>\n",
       "      <td>v5</td>\n",
       "      <td>0.173223</td>\n",
       "      <td>-0.007036</td>\n",
       "      <td>0.005210</td>\n",
       "      <td>-0.006879</td>\n",
       "      <td>0.001744</td>\n",
       "      <td>1.000000</td>\n",
       "      <td>-0.000938</td>\n",
       "      <td>-0.008709</td>\n",
       "      <td>0.001430</td>\n",
       "      <td>-0.001213</td>\n",
       "      <td>...</td>\n",
       "      <td>-0.000559</td>\n",
       "      <td>0.001183</td>\n",
       "      <td>0.000198</td>\n",
       "      <td>0.000069</td>\n",
       "      <td>0.000390</td>\n",
       "      <td>-0.005798</td>\n",
       "      <td>-0.000820</td>\n",
       "      <td>-0.387685</td>\n",
       "      <td>-0.087812</td>\n",
       "      <td>0.173223</td>\n",
       "    </tr>\n",
       "    <tr>\n",
       "      <td>v6</td>\n",
       "      <td>-0.063279</td>\n",
       "      <td>0.000413</td>\n",
       "      <td>-0.000594</td>\n",
       "      <td>-0.001511</td>\n",
       "      <td>-0.000880</td>\n",
       "      <td>-0.000938</td>\n",
       "      <td>1.000000</td>\n",
       "      <td>0.000436</td>\n",
       "      <td>0.003036</td>\n",
       "      <td>-0.000734</td>\n",
       "      <td>...</td>\n",
       "      <td>0.001104</td>\n",
       "      <td>-0.000755</td>\n",
       "      <td>0.001202</td>\n",
       "      <td>0.000697</td>\n",
       "      <td>-0.000028</td>\n",
       "      <td>0.000289</td>\n",
       "      <td>0.000925</td>\n",
       "      <td>0.216389</td>\n",
       "      <td>-0.043915</td>\n",
       "      <td>-0.063279</td>\n",
       "    </tr>\n",
       "    <tr>\n",
       "      <td>v7</td>\n",
       "      <td>0.085335</td>\n",
       "      <td>-0.009173</td>\n",
       "      <td>0.007425</td>\n",
       "      <td>-0.011721</td>\n",
       "      <td>0.004657</td>\n",
       "      <td>-0.008709</td>\n",
       "      <td>0.000436</td>\n",
       "      <td>1.000000</td>\n",
       "      <td>-0.006419</td>\n",
       "      <td>-0.004921</td>\n",
       "      <td>...</td>\n",
       "      <td>-0.002280</td>\n",
       "      <td>0.003303</td>\n",
       "      <td>-0.000384</td>\n",
       "      <td>-0.000072</td>\n",
       "      <td>0.000624</td>\n",
       "      <td>-0.004537</td>\n",
       "      <td>0.001657</td>\n",
       "      <td>0.400408</td>\n",
       "      <td>-0.172347</td>\n",
       "      <td>0.085335</td>\n",
       "    </tr>\n",
       "    <tr>\n",
       "      <td>v8</td>\n",
       "      <td>-0.038203</td>\n",
       "      <td>-0.001168</td>\n",
       "      <td>0.002899</td>\n",
       "      <td>-0.001815</td>\n",
       "      <td>0.000890</td>\n",
       "      <td>0.001430</td>\n",
       "      <td>0.003036</td>\n",
       "      <td>-0.006419</td>\n",
       "      <td>1.000000</td>\n",
       "      <td>0.001038</td>\n",
       "      <td>...</td>\n",
       "      <td>-0.006156</td>\n",
       "      <td>0.004994</td>\n",
       "      <td>0.000113</td>\n",
       "      <td>0.000011</td>\n",
       "      <td>-0.001407</td>\n",
       "      <td>0.000613</td>\n",
       "      <td>-0.000099</td>\n",
       "      <td>-0.104662</td>\n",
       "      <td>0.033068</td>\n",
       "      <td>-0.038203</td>\n",
       "    </tr>\n",
       "    <tr>\n",
       "      <td>v9</td>\n",
       "      <td>-0.007861</td>\n",
       "      <td>0.001828</td>\n",
       "      <td>-0.000274</td>\n",
       "      <td>-0.003579</td>\n",
       "      <td>0.002154</td>\n",
       "      <td>-0.001213</td>\n",
       "      <td>-0.000734</td>\n",
       "      <td>-0.004921</td>\n",
       "      <td>0.001038</td>\n",
       "      <td>1.000000</td>\n",
       "      <td>...</td>\n",
       "      <td>0.000785</td>\n",
       "      <td>0.000677</td>\n",
       "      <td>-0.000103</td>\n",
       "      <td>-0.000275</td>\n",
       "      <td>0.001253</td>\n",
       "      <td>0.008221</td>\n",
       "      <td>0.005591</td>\n",
       "      <td>-0.044123</td>\n",
       "      <td>-0.094021</td>\n",
       "      <td>-0.007861</td>\n",
       "    </tr>\n",
       "    <tr>\n",
       "      <td>v10</td>\n",
       "      <td>0.031068</td>\n",
       "      <td>0.000815</td>\n",
       "      <td>0.000620</td>\n",
       "      <td>-0.009632</td>\n",
       "      <td>0.002753</td>\n",
       "      <td>-0.006050</td>\n",
       "      <td>-0.002180</td>\n",
       "      <td>-0.013617</td>\n",
       "      <td>0.000481</td>\n",
       "      <td>-0.012613</td>\n",
       "      <td>...</td>\n",
       "      <td>-0.000481</td>\n",
       "      <td>0.001917</td>\n",
       "      <td>0.000154</td>\n",
       "      <td>-0.000565</td>\n",
       "      <td>0.001089</td>\n",
       "      <td>0.010769</td>\n",
       "      <td>0.009159</td>\n",
       "      <td>-0.102255</td>\n",
       "      <td>-0.206971</td>\n",
       "      <td>0.031068</td>\n",
       "    </tr>\n",
       "    <tr>\n",
       "      <td>v11</td>\n",
       "      <td>-0.248536</td>\n",
       "      <td>0.001028</td>\n",
       "      <td>-0.000633</td>\n",
       "      <td>0.002339</td>\n",
       "      <td>-0.001223</td>\n",
       "      <td>0.000411</td>\n",
       "      <td>-0.000211</td>\n",
       "      <td>0.002454</td>\n",
       "      <td>0.004688</td>\n",
       "      <td>-0.000217</td>\n",
       "      <td>...</td>\n",
       "      <td>-0.000150</td>\n",
       "      <td>-0.000037</td>\n",
       "      <td>0.000080</td>\n",
       "      <td>0.000047</td>\n",
       "      <td>-0.000204</td>\n",
       "      <td>0.001987</td>\n",
       "      <td>0.002562</td>\n",
       "      <td>-0.000015</td>\n",
       "      <td>0.149067</td>\n",
       "      <td>-0.248536</td>\n",
       "    </tr>\n",
       "    <tr>\n",
       "      <td>v12</td>\n",
       "      <td>0.125500</td>\n",
       "      <td>-0.001524</td>\n",
       "      <td>0.002266</td>\n",
       "      <td>-0.005900</td>\n",
       "      <td>0.003366</td>\n",
       "      <td>-0.002342</td>\n",
       "      <td>-0.001185</td>\n",
       "      <td>-0.006153</td>\n",
       "      <td>-0.004414</td>\n",
       "      <td>-0.002385</td>\n",
       "      <td>...</td>\n",
       "      <td>0.000151</td>\n",
       "      <td>0.000486</td>\n",
       "      <td>0.000588</td>\n",
       "      <td>-0.000181</td>\n",
       "      <td>-0.000138</td>\n",
       "      <td>-0.000929</td>\n",
       "      <td>-0.000613</td>\n",
       "      <td>-0.009254</td>\n",
       "      <td>-0.250711</td>\n",
       "      <td>0.125500</td>\n",
       "    </tr>\n",
       "    <tr>\n",
       "      <td>v13</td>\n",
       "      <td>-0.065958</td>\n",
       "      <td>-0.000568</td>\n",
       "      <td>0.000680</td>\n",
       "      <td>0.000113</td>\n",
       "      <td>0.000177</td>\n",
       "      <td>0.000019</td>\n",
       "      <td>0.000397</td>\n",
       "      <td>-0.000170</td>\n",
       "      <td>-0.001381</td>\n",
       "      <td>0.000745</td>\n",
       "      <td>...</td>\n",
       "      <td>0.000016</td>\n",
       "      <td>0.000252</td>\n",
       "      <td>-0.000049</td>\n",
       "      <td>0.000248</td>\n",
       "      <td>-0.000101</td>\n",
       "      <td>-0.001577</td>\n",
       "      <td>-0.000604</td>\n",
       "      <td>0.005209</td>\n",
       "      <td>-0.003897</td>\n",
       "      <td>-0.065958</td>\n",
       "    </tr>\n",
       "    <tr>\n",
       "      <td>v14</td>\n",
       "      <td>-0.100316</td>\n",
       "      <td>-0.002663</td>\n",
       "      <td>0.002711</td>\n",
       "      <td>-0.003027</td>\n",
       "      <td>0.002801</td>\n",
       "      <td>-0.001000</td>\n",
       "      <td>0.000184</td>\n",
       "      <td>-0.003816</td>\n",
       "      <td>-0.008387</td>\n",
       "      <td>0.001981</td>\n",
       "      <td>...</td>\n",
       "      <td>-0.001906</td>\n",
       "      <td>0.000666</td>\n",
       "      <td>-0.000026</td>\n",
       "      <td>0.000155</td>\n",
       "      <td>-0.000702</td>\n",
       "      <td>-0.004556</td>\n",
       "      <td>-0.004664</td>\n",
       "      <td>0.034122</td>\n",
       "      <td>-0.293375</td>\n",
       "      <td>-0.100316</td>\n",
       "    </tr>\n",
       "    <tr>\n",
       "      <td>v15</td>\n",
       "      <td>-0.184392</td>\n",
       "      <td>-0.000602</td>\n",
       "      <td>0.001538</td>\n",
       "      <td>-0.001230</td>\n",
       "      <td>0.000572</td>\n",
       "      <td>-0.001171</td>\n",
       "      <td>-0.000470</td>\n",
       "      <td>-0.001394</td>\n",
       "      <td>0.001044</td>\n",
       "      <td>-0.000283</td>\n",
       "      <td>...</td>\n",
       "      <td>-0.001197</td>\n",
       "      <td>0.000969</td>\n",
       "      <td>0.000113</td>\n",
       "      <td>0.000445</td>\n",
       "      <td>-0.002034</td>\n",
       "      <td>-0.000641</td>\n",
       "      <td>0.000858</td>\n",
       "      <td>-0.003265</td>\n",
       "      <td>-0.003300</td>\n",
       "      <td>-0.184392</td>\n",
       "    </tr>\n",
       "    <tr>\n",
       "      <td>v16</td>\n",
       "      <td>0.011286</td>\n",
       "      <td>-0.003345</td>\n",
       "      <td>0.004013</td>\n",
       "      <td>-0.004430</td>\n",
       "      <td>0.003346</td>\n",
       "      <td>-0.002373</td>\n",
       "      <td>0.000122</td>\n",
       "      <td>-0.005944</td>\n",
       "      <td>-0.004376</td>\n",
       "      <td>-0.000086</td>\n",
       "      <td>...</td>\n",
       "      <td>-0.000820</td>\n",
       "      <td>0.001209</td>\n",
       "      <td>-0.000482</td>\n",
       "      <td>0.000215</td>\n",
       "      <td>-0.001245</td>\n",
       "      <td>-0.003974</td>\n",
       "      <td>-0.001629</td>\n",
       "      <td>-0.004488</td>\n",
       "      <td>-0.187186</td>\n",
       "      <td>0.011286</td>\n",
       "    </tr>\n",
       "    <tr>\n",
       "      <td>v17</td>\n",
       "      <td>-0.073819</td>\n",
       "      <td>-0.003491</td>\n",
       "      <td>0.003244</td>\n",
       "      <td>-0.008159</td>\n",
       "      <td>0.003655</td>\n",
       "      <td>-0.004466</td>\n",
       "      <td>-0.001716</td>\n",
       "      <td>-0.008794</td>\n",
       "      <td>-0.005576</td>\n",
       "      <td>-0.002318</td>\n",
       "      <td>...</td>\n",
       "      <td>-0.000162</td>\n",
       "      <td>0.000667</td>\n",
       "      <td>0.001006</td>\n",
       "      <td>-0.000685</td>\n",
       "      <td>0.000157</td>\n",
       "      <td>-0.003421</td>\n",
       "      <td>-0.002703</td>\n",
       "      <td>0.007730</td>\n",
       "      <td>-0.313498</td>\n",
       "      <td>-0.073819</td>\n",
       "    </tr>\n",
       "    <tr>\n",
       "      <td>v18</td>\n",
       "      <td>0.090305</td>\n",
       "      <td>-0.003535</td>\n",
       "      <td>0.002477</td>\n",
       "      <td>-0.003495</td>\n",
       "      <td>0.002325</td>\n",
       "      <td>-0.002685</td>\n",
       "      <td>0.000541</td>\n",
       "      <td>-0.004279</td>\n",
       "      <td>-0.001323</td>\n",
       "      <td>-0.000373</td>\n",
       "      <td>...</td>\n",
       "      <td>-0.000533</td>\n",
       "      <td>0.000240</td>\n",
       "      <td>-0.000710</td>\n",
       "      <td>-0.000559</td>\n",
       "      <td>-0.000596</td>\n",
       "      <td>-0.004231</td>\n",
       "      <td>-0.001256</td>\n",
       "      <td>0.035775</td>\n",
       "      <td>-0.105340</td>\n",
       "      <td>0.090305</td>\n",
       "    </tr>\n",
       "    <tr>\n",
       "      <td>v19</td>\n",
       "      <td>0.029537</td>\n",
       "      <td>0.000919</td>\n",
       "      <td>-0.000358</td>\n",
       "      <td>-0.000016</td>\n",
       "      <td>-0.000560</td>\n",
       "      <td>0.000436</td>\n",
       "      <td>0.000106</td>\n",
       "      <td>0.000846</td>\n",
       "      <td>-0.000626</td>\n",
       "      <td>0.000247</td>\n",
       "      <td>...</td>\n",
       "      <td>0.001342</td>\n",
       "      <td>0.000381</td>\n",
       "      <td>-0.000112</td>\n",
       "      <td>-0.000084</td>\n",
       "      <td>0.000856</td>\n",
       "      <td>-0.000544</td>\n",
       "      <td>0.000353</td>\n",
       "      <td>-0.055994</td>\n",
       "      <td>0.033631</td>\n",
       "      <td>0.029537</td>\n",
       "    </tr>\n",
       "    <tr>\n",
       "      <td>v20</td>\n",
       "      <td>-0.051022</td>\n",
       "      <td>-0.001393</td>\n",
       "      <td>-0.001287</td>\n",
       "      <td>-0.002269</td>\n",
       "      <td>0.000318</td>\n",
       "      <td>-0.001185</td>\n",
       "      <td>-0.000181</td>\n",
       "      <td>-0.001192</td>\n",
       "      <td>0.000271</td>\n",
       "      <td>-0.001838</td>\n",
       "      <td>...</td>\n",
       "      <td>-0.001617</td>\n",
       "      <td>-0.001094</td>\n",
       "      <td>-0.000303</td>\n",
       "      <td>-0.000643</td>\n",
       "      <td>-0.000310</td>\n",
       "      <td>-0.000049</td>\n",
       "      <td>0.002671</td>\n",
       "      <td>0.340729</td>\n",
       "      <td>0.021486</td>\n",
       "      <td>-0.051022</td>\n",
       "    </tr>\n",
       "    <tr>\n",
       "      <td>v21</td>\n",
       "      <td>0.045913</td>\n",
       "      <td>0.002818</td>\n",
       "      <td>-0.004897</td>\n",
       "      <td>0.003500</td>\n",
       "      <td>-0.001034</td>\n",
       "      <td>0.001622</td>\n",
       "      <td>-0.002134</td>\n",
       "      <td>0.009010</td>\n",
       "      <td>0.018892</td>\n",
       "      <td>0.000679</td>\n",
       "      <td>...</td>\n",
       "      <td>0.009645</td>\n",
       "      <td>-0.006391</td>\n",
       "      <td>0.001210</td>\n",
       "      <td>-0.000872</td>\n",
       "      <td>-0.000874</td>\n",
       "      <td>-0.005216</td>\n",
       "      <td>-0.004436</td>\n",
       "      <td>0.108058</td>\n",
       "      <td>0.026357</td>\n",
       "      <td>0.045913</td>\n",
       "    </tr>\n",
       "    <tr>\n",
       "      <td>v22</td>\n",
       "      <td>0.143727</td>\n",
       "      <td>-0.001436</td>\n",
       "      <td>0.001237</td>\n",
       "      <td>-0.000275</td>\n",
       "      <td>0.000115</td>\n",
       "      <td>-0.000559</td>\n",
       "      <td>0.001104</td>\n",
       "      <td>-0.002280</td>\n",
       "      <td>-0.006156</td>\n",
       "      <td>0.000785</td>\n",
       "      <td>...</td>\n",
       "      <td>1.000000</td>\n",
       "      <td>0.001929</td>\n",
       "      <td>-0.000031</td>\n",
       "      <td>0.000197</td>\n",
       "      <td>-0.001495</td>\n",
       "      <td>0.003037</td>\n",
       "      <td>0.001392</td>\n",
       "      <td>-0.064965</td>\n",
       "      <td>0.004887</td>\n",
       "      <td>0.143727</td>\n",
       "    </tr>\n",
       "    <tr>\n",
       "      <td>v23</td>\n",
       "      <td>0.051474</td>\n",
       "      <td>-0.001330</td>\n",
       "      <td>-0.003855</td>\n",
       "      <td>0.000449</td>\n",
       "      <td>0.000732</td>\n",
       "      <td>0.001183</td>\n",
       "      <td>-0.000755</td>\n",
       "      <td>0.003303</td>\n",
       "      <td>0.004994</td>\n",
       "      <td>0.000677</td>\n",
       "      <td>...</td>\n",
       "      <td>0.001929</td>\n",
       "      <td>1.000000</td>\n",
       "      <td>0.000273</td>\n",
       "      <td>-0.000532</td>\n",
       "      <td>-0.000185</td>\n",
       "      <td>-0.002028</td>\n",
       "      <td>-0.003224</td>\n",
       "      <td>-0.112833</td>\n",
       "      <td>-0.006333</td>\n",
       "      <td>0.051474</td>\n",
       "    </tr>\n",
       "    <tr>\n",
       "      <td>v24</td>\n",
       "      <td>-0.015954</td>\n",
       "      <td>-0.000723</td>\n",
       "      <td>0.000701</td>\n",
       "      <td>-0.000072</td>\n",
       "      <td>-0.000120</td>\n",
       "      <td>0.000198</td>\n",
       "      <td>0.001202</td>\n",
       "      <td>-0.000384</td>\n",
       "      <td>0.000113</td>\n",
       "      <td>-0.000103</td>\n",
       "      <td>...</td>\n",
       "      <td>-0.000031</td>\n",
       "      <td>0.000273</td>\n",
       "      <td>1.000000</td>\n",
       "      <td>-0.000188</td>\n",
       "      <td>0.000568</td>\n",
       "      <td>-0.000885</td>\n",
       "      <td>0.000322</td>\n",
       "      <td>0.005055</td>\n",
       "      <td>-0.007210</td>\n",
       "      <td>-0.015954</td>\n",
       "    </tr>\n",
       "    <tr>\n",
       "      <td>v25</td>\n",
       "      <td>-0.233262</td>\n",
       "      <td>-0.000222</td>\n",
       "      <td>-0.001569</td>\n",
       "      <td>0.000425</td>\n",
       "      <td>0.000162</td>\n",
       "      <td>0.000069</td>\n",
       "      <td>0.000697</td>\n",
       "      <td>-0.000072</td>\n",
       "      <td>0.000011</td>\n",
       "      <td>-0.000275</td>\n",
       "      <td>...</td>\n",
       "      <td>0.000197</td>\n",
       "      <td>-0.000532</td>\n",
       "      <td>-0.000188</td>\n",
       "      <td>1.000000</td>\n",
       "      <td>0.000048</td>\n",
       "      <td>-0.001339</td>\n",
       "      <td>-0.000565</td>\n",
       "      <td>-0.047596</td>\n",
       "      <td>0.003202</td>\n",
       "      <td>-0.233262</td>\n",
       "    </tr>\n",
       "    <tr>\n",
       "      <td>v26</td>\n",
       "      <td>-0.041818</td>\n",
       "      <td>-0.000684</td>\n",
       "      <td>0.000253</td>\n",
       "      <td>-0.000094</td>\n",
       "      <td>0.000777</td>\n",
       "      <td>0.000390</td>\n",
       "      <td>-0.000028</td>\n",
       "      <td>0.000624</td>\n",
       "      <td>-0.001407</td>\n",
       "      <td>0.001253</td>\n",
       "      <td>...</td>\n",
       "      <td>-0.001495</td>\n",
       "      <td>-0.000185</td>\n",
       "      <td>0.000568</td>\n",
       "      <td>0.000048</td>\n",
       "      <td>1.000000</td>\n",
       "      <td>-0.003294</td>\n",
       "      <td>-0.000999</td>\n",
       "      <td>-0.003425</td>\n",
       "      <td>0.004265</td>\n",
       "      <td>-0.041818</td>\n",
       "    </tr>\n",
       "    <tr>\n",
       "      <td>v27</td>\n",
       "      <td>-0.005171</td>\n",
       "      <td>-0.015706</td>\n",
       "      <td>0.007555</td>\n",
       "      <td>-0.007051</td>\n",
       "      <td>0.001322</td>\n",
       "      <td>-0.005798</td>\n",
       "      <td>0.000289</td>\n",
       "      <td>-0.004537</td>\n",
       "      <td>0.000613</td>\n",
       "      <td>0.008221</td>\n",
       "      <td>...</td>\n",
       "      <td>0.003037</td>\n",
       "      <td>-0.002028</td>\n",
       "      <td>-0.000885</td>\n",
       "      <td>-0.001339</td>\n",
       "      <td>-0.003294</td>\n",
       "      <td>1.000000</td>\n",
       "      <td>-0.013950</td>\n",
       "      <td>0.027922</td>\n",
       "      <td>0.021892</td>\n",
       "      <td>-0.005171</td>\n",
       "    </tr>\n",
       "    <tr>\n",
       "      <td>v28</td>\n",
       "      <td>-0.009305</td>\n",
       "      <td>-0.004861</td>\n",
       "      <td>0.001611</td>\n",
       "      <td>-0.000134</td>\n",
       "      <td>0.000231</td>\n",
       "      <td>-0.000820</td>\n",
       "      <td>0.000925</td>\n",
       "      <td>0.001657</td>\n",
       "      <td>-0.000099</td>\n",
       "      <td>0.005591</td>\n",
       "      <td>...</td>\n",
       "      <td>0.001392</td>\n",
       "      <td>-0.003224</td>\n",
       "      <td>0.000322</td>\n",
       "      <td>-0.000565</td>\n",
       "      <td>-0.000999</td>\n",
       "      <td>-0.013950</td>\n",
       "      <td>1.000000</td>\n",
       "      <td>0.010143</td>\n",
       "      <td>0.009682</td>\n",
       "      <td>-0.009305</td>\n",
       "    </tr>\n",
       "    <tr>\n",
       "      <td>amount</td>\n",
       "      <td>-0.010559</td>\n",
       "      <td>-0.230105</td>\n",
       "      <td>-0.533428</td>\n",
       "      <td>-0.212410</td>\n",
       "      <td>0.099514</td>\n",
       "      <td>-0.387685</td>\n",
       "      <td>0.216389</td>\n",
       "      <td>0.400408</td>\n",
       "      <td>-0.104662</td>\n",
       "      <td>-0.044123</td>\n",
       "      <td>...</td>\n",
       "      <td>-0.064965</td>\n",
       "      <td>-0.112833</td>\n",
       "      <td>0.005055</td>\n",
       "      <td>-0.047596</td>\n",
       "      <td>-0.003425</td>\n",
       "      <td>0.027922</td>\n",
       "      <td>0.010143</td>\n",
       "      <td>1.000000</td>\n",
       "      <td>0.005777</td>\n",
       "      <td>-0.010559</td>\n",
       "    </tr>\n",
       "    <tr>\n",
       "      <td>class</td>\n",
       "      <td>-0.012359</td>\n",
       "      <td>-0.094486</td>\n",
       "      <td>0.084624</td>\n",
       "      <td>-0.182322</td>\n",
       "      <td>0.129326</td>\n",
       "      <td>-0.087812</td>\n",
       "      <td>-0.043915</td>\n",
       "      <td>-0.172347</td>\n",
       "      <td>0.033068</td>\n",
       "      <td>-0.094021</td>\n",
       "      <td>...</td>\n",
       "      <td>0.004887</td>\n",
       "      <td>-0.006333</td>\n",
       "      <td>-0.007210</td>\n",
       "      <td>0.003202</td>\n",
       "      <td>0.004265</td>\n",
       "      <td>0.021892</td>\n",
       "      <td>0.009682</td>\n",
       "      <td>0.005777</td>\n",
       "      <td>1.000000</td>\n",
       "      <td>-0.012359</td>\n",
       "    </tr>\n",
       "    <tr>\n",
       "      <td>hour</td>\n",
       "      <td>1.000000</td>\n",
       "      <td>0.117927</td>\n",
       "      <td>-0.010556</td>\n",
       "      <td>-0.422054</td>\n",
       "      <td>-0.105845</td>\n",
       "      <td>0.173223</td>\n",
       "      <td>-0.063279</td>\n",
       "      <td>0.085335</td>\n",
       "      <td>-0.038203</td>\n",
       "      <td>-0.007861</td>\n",
       "      <td>...</td>\n",
       "      <td>0.143727</td>\n",
       "      <td>0.051474</td>\n",
       "      <td>-0.015954</td>\n",
       "      <td>-0.233262</td>\n",
       "      <td>-0.041818</td>\n",
       "      <td>-0.005171</td>\n",
       "      <td>-0.009305</td>\n",
       "      <td>-0.010559</td>\n",
       "      <td>-0.012359</td>\n",
       "      <td>1.000000</td>\n",
       "    </tr>\n",
       "  </tbody>\n",
       "</table>\n",
       "<p>32 rows × 32 columns</p>\n",
       "</div>"
      ],
      "text/plain": [
       "            time        v1        v2        v3        v4        v5        v6  \\\n",
       "time    1.000000  0.117927 -0.010556 -0.422054 -0.105845  0.173223 -0.063279   \n",
       "v1      0.117927  1.000000  0.006875 -0.008112  0.002257 -0.007036  0.000413   \n",
       "v2     -0.010556  0.006875  1.000000  0.005278 -0.001495  0.005210 -0.000594   \n",
       "v3     -0.422054 -0.008112  0.005278  1.000000  0.002829 -0.006879 -0.001511   \n",
       "v4     -0.105845  0.002257 -0.001495  0.002829  1.000000  0.001744 -0.000880   \n",
       "v5      0.173223 -0.007036  0.005210 -0.006879  0.001744  1.000000 -0.000938   \n",
       "v6     -0.063279  0.000413 -0.000594 -0.001511 -0.000880 -0.000938  1.000000   \n",
       "v7      0.085335 -0.009173  0.007425 -0.011721  0.004657 -0.008709  0.000436   \n",
       "v8     -0.038203 -0.001168  0.002899 -0.001815  0.000890  0.001430  0.003036   \n",
       "v9     -0.007861  0.001828 -0.000274 -0.003579  0.002154 -0.001213 -0.000734   \n",
       "v10     0.031068  0.000815  0.000620 -0.009632  0.002753 -0.006050 -0.002180   \n",
       "v11    -0.248536  0.001028 -0.000633  0.002339 -0.001223  0.000411 -0.000211   \n",
       "v12     0.125500 -0.001524  0.002266 -0.005900  0.003366 -0.002342 -0.001185   \n",
       "v13    -0.065958 -0.000568  0.000680  0.000113  0.000177  0.000019  0.000397   \n",
       "v14    -0.100316 -0.002663  0.002711 -0.003027  0.002801 -0.001000  0.000184   \n",
       "v15    -0.184392 -0.000602  0.001538 -0.001230  0.000572 -0.001171 -0.000470   \n",
       "v16     0.011286 -0.003345  0.004013 -0.004430  0.003346 -0.002373  0.000122   \n",
       "v17    -0.073819 -0.003491  0.003244 -0.008159  0.003655 -0.004466 -0.001716   \n",
       "v18     0.090305 -0.003535  0.002477 -0.003495  0.002325 -0.002685  0.000541   \n",
       "v19     0.029537  0.000919 -0.000358 -0.000016 -0.000560  0.000436  0.000106   \n",
       "v20    -0.051022 -0.001393 -0.001287 -0.002269  0.000318 -0.001185 -0.000181   \n",
       "v21     0.045913  0.002818 -0.004897  0.003500 -0.001034  0.001622 -0.002134   \n",
       "v22     0.143727 -0.001436  0.001237 -0.000275  0.000115 -0.000559  0.001104   \n",
       "v23     0.051474 -0.001330 -0.003855  0.000449  0.000732  0.001183 -0.000755   \n",
       "v24    -0.015954 -0.000723  0.000701 -0.000072 -0.000120  0.000198  0.001202   \n",
       "v25    -0.233262 -0.000222 -0.001569  0.000425  0.000162  0.000069  0.000697   \n",
       "v26    -0.041818 -0.000684  0.000253 -0.000094  0.000777  0.000390 -0.000028   \n",
       "v27    -0.005171 -0.015706  0.007555 -0.007051  0.001322 -0.005798  0.000289   \n",
       "v28    -0.009305 -0.004861  0.001611 -0.000134  0.000231 -0.000820  0.000925   \n",
       "amount -0.010559 -0.230105 -0.533428 -0.212410  0.099514 -0.387685  0.216389   \n",
       "class  -0.012359 -0.094486  0.084624 -0.182322  0.129326 -0.087812 -0.043915   \n",
       "hour    1.000000  0.117927 -0.010556 -0.422054 -0.105845  0.173223 -0.063279   \n",
       "\n",
       "              v7        v8        v9  ...       v22       v23       v24  \\\n",
       "time    0.085335 -0.038203 -0.007861  ...  0.143727  0.051474 -0.015954   \n",
       "v1     -0.009173 -0.001168  0.001828  ... -0.001436 -0.001330 -0.000723   \n",
       "v2      0.007425  0.002899 -0.000274  ...  0.001237 -0.003855  0.000701   \n",
       "v3     -0.011721 -0.001815 -0.003579  ... -0.000275  0.000449 -0.000072   \n",
       "v4      0.004657  0.000890  0.002154  ...  0.000115  0.000732 -0.000120   \n",
       "v5     -0.008709  0.001430 -0.001213  ... -0.000559  0.001183  0.000198   \n",
       "v6      0.000436  0.003036 -0.000734  ...  0.001104 -0.000755  0.001202   \n",
       "v7      1.000000 -0.006419 -0.004921  ... -0.002280  0.003303 -0.000384   \n",
       "v8     -0.006419  1.000000  0.001038  ... -0.006156  0.004994  0.000113   \n",
       "v9     -0.004921  0.001038  1.000000  ...  0.000785  0.000677 -0.000103   \n",
       "v10    -0.013617  0.000481 -0.012613  ... -0.000481  0.001917  0.000154   \n",
       "v11     0.002454  0.004688 -0.000217  ... -0.000150 -0.000037  0.000080   \n",
       "v12    -0.006153 -0.004414 -0.002385  ...  0.000151  0.000486  0.000588   \n",
       "v13    -0.000170 -0.001381  0.000745  ...  0.000016  0.000252 -0.000049   \n",
       "v14    -0.003816 -0.008387  0.001981  ... -0.001906  0.000666 -0.000026   \n",
       "v15    -0.001394  0.001044 -0.000283  ... -0.001197  0.000969  0.000113   \n",
       "v16    -0.005944 -0.004376 -0.000086  ... -0.000820  0.001209 -0.000482   \n",
       "v17    -0.008794 -0.005576 -0.002318  ... -0.000162  0.000667  0.001006   \n",
       "v18    -0.004279 -0.001323 -0.000373  ... -0.000533  0.000240 -0.000710   \n",
       "v19     0.000846 -0.000626  0.000247  ...  0.001342  0.000381 -0.000112   \n",
       "v20    -0.001192  0.000271 -0.001838  ... -0.001617 -0.001094 -0.000303   \n",
       "v21     0.009010  0.018892  0.000679  ...  0.009645 -0.006391  0.001210   \n",
       "v22    -0.002280 -0.006156  0.000785  ...  1.000000  0.001929 -0.000031   \n",
       "v23     0.003303  0.004994  0.000677  ...  0.001929  1.000000  0.000273   \n",
       "v24    -0.000384  0.000113 -0.000103  ... -0.000031  0.000273  1.000000   \n",
       "v25    -0.000072  0.000011 -0.000275  ...  0.000197 -0.000532 -0.000188   \n",
       "v26     0.000624 -0.001407  0.001253  ... -0.001495 -0.000185  0.000568   \n",
       "v27    -0.004537  0.000613  0.008221  ...  0.003037 -0.002028 -0.000885   \n",
       "v28     0.001657 -0.000099  0.005591  ...  0.001392 -0.003224  0.000322   \n",
       "amount  0.400408 -0.104662 -0.044123  ... -0.064965 -0.112833  0.005055   \n",
       "class  -0.172347  0.033068 -0.094021  ...  0.004887 -0.006333 -0.007210   \n",
       "hour    0.085335 -0.038203 -0.007861  ...  0.143727  0.051474 -0.015954   \n",
       "\n",
       "             v25       v26       v27       v28    amount     class      hour  \n",
       "time   -0.233262 -0.041818 -0.005171 -0.009305 -0.010559 -0.012359  1.000000  \n",
       "v1     -0.000222 -0.000684 -0.015706 -0.004861 -0.230105 -0.094486  0.117927  \n",
       "v2     -0.001569  0.000253  0.007555  0.001611 -0.533428  0.084624 -0.010556  \n",
       "v3      0.000425 -0.000094 -0.007051 -0.000134 -0.212410 -0.182322 -0.422054  \n",
       "v4      0.000162  0.000777  0.001322  0.000231  0.099514  0.129326 -0.105845  \n",
       "v5      0.000069  0.000390 -0.005798 -0.000820 -0.387685 -0.087812  0.173223  \n",
       "v6      0.000697 -0.000028  0.000289  0.000925  0.216389 -0.043915 -0.063279  \n",
       "v7     -0.000072  0.000624 -0.004537  0.001657  0.400408 -0.172347  0.085335  \n",
       "v8      0.000011 -0.001407  0.000613 -0.000099 -0.104662  0.033068 -0.038203  \n",
       "v9     -0.000275  0.001253  0.008221  0.005591 -0.044123 -0.094021 -0.007861  \n",
       "v10    -0.000565  0.001089  0.010769  0.009159 -0.102255 -0.206971  0.031068  \n",
       "v11     0.000047 -0.000204  0.001987  0.002562 -0.000015  0.149067 -0.248536  \n",
       "v12    -0.000181 -0.000138 -0.000929 -0.000613 -0.009254 -0.250711  0.125500  \n",
       "v13     0.000248 -0.000101 -0.001577 -0.000604  0.005209 -0.003897 -0.065958  \n",
       "v14     0.000155 -0.000702 -0.004556 -0.004664  0.034122 -0.293375 -0.100316  \n",
       "v15     0.000445 -0.002034 -0.000641  0.000858 -0.003265 -0.003300 -0.184392  \n",
       "v16     0.000215 -0.001245 -0.003974 -0.001629 -0.004488 -0.187186  0.011286  \n",
       "v17    -0.000685  0.000157 -0.003421 -0.002703  0.007730 -0.313498 -0.073819  \n",
       "v18    -0.000559 -0.000596 -0.004231 -0.001256  0.035775 -0.105340  0.090305  \n",
       "v19    -0.000084  0.000856 -0.000544  0.000353 -0.055994  0.033631  0.029537  \n",
       "v20    -0.000643 -0.000310 -0.000049  0.002671  0.340729  0.021486 -0.051022  \n",
       "v21    -0.000872 -0.000874 -0.005216 -0.004436  0.108058  0.026357  0.045913  \n",
       "v22     0.000197 -0.001495  0.003037  0.001392 -0.064965  0.004887  0.143727  \n",
       "v23    -0.000532 -0.000185 -0.002028 -0.003224 -0.112833 -0.006333  0.051474  \n",
       "v24    -0.000188  0.000568 -0.000885  0.000322  0.005055 -0.007210 -0.015954  \n",
       "v25     1.000000  0.000048 -0.001339 -0.000565 -0.047596  0.003202 -0.233262  \n",
       "v26     0.000048  1.000000 -0.003294 -0.000999 -0.003425  0.004265 -0.041818  \n",
       "v27    -0.001339 -0.003294  1.000000 -0.013950  0.027922  0.021892 -0.005171  \n",
       "v28    -0.000565 -0.000999 -0.013950  1.000000  0.010143  0.009682 -0.009305  \n",
       "amount -0.047596 -0.003425  0.027922  0.010143  1.000000  0.005777 -0.010559  \n",
       "class   0.003202  0.004265  0.021892  0.009682  0.005777  1.000000 -0.012359  \n",
       "hour   -0.233262 -0.041818 -0.005171 -0.009305 -0.010559 -0.012359  1.000000  \n",
       "\n",
       "[32 rows x 32 columns]"
      ]
     },
     "execution_count": 43,
     "metadata": {},
     "output_type": "execute_result"
    }
   ],
   "source": [
    "df.corr()"
   ]
  },
  {
   "cell_type": "code",
   "execution_count": 44,
   "metadata": {},
   "outputs": [
    {
     "data": {
      "text/html": [
       "<div>\n",
       "<style scoped>\n",
       "    .dataframe tbody tr th:only-of-type {\n",
       "        vertical-align: middle;\n",
       "    }\n",
       "\n",
       "    .dataframe tbody tr th {\n",
       "        vertical-align: top;\n",
       "    }\n",
       "\n",
       "    .dataframe thead th {\n",
       "        text-align: right;\n",
       "    }\n",
       "</style>\n",
       "<table border=\"1\" class=\"dataframe\">\n",
       "  <thead>\n",
       "    <tr style=\"text-align: right;\">\n",
       "      <th></th>\n",
       "      <th>time</th>\n",
       "      <th>v1</th>\n",
       "      <th>v2</th>\n",
       "      <th>v3</th>\n",
       "      <th>v4</th>\n",
       "      <th>v5</th>\n",
       "      <th>v6</th>\n",
       "      <th>v7</th>\n",
       "      <th>v8</th>\n",
       "      <th>v9</th>\n",
       "      <th>v10</th>\n",
       "      <th>v11</th>\n",
       "      <th>v12</th>\n",
       "      <th>v13</th>\n",
       "      <th>v14</th>\n",
       "      <th>v15</th>\n",
       "      <th>v16</th>\n",
       "      <th>v17</th>\n",
       "      <th>v18</th>\n",
       "      <th>v19</th>\n",
       "      <th>v20</th>\n",
       "      <th>v21</th>\n",
       "      <th>v22</th>\n",
       "      <th>v23</th>\n",
       "      <th>v24</th>\n",
       "      <th>v25</th>\n",
       "      <th>v26</th>\n",
       "      <th>v27</th>\n",
       "      <th>v28</th>\n",
       "      <th>amount</th>\n",
       "      <th>class</th>\n",
       "      <th>hour</th>\n",
       "    </tr>\n",
       "  </thead>\n",
       "  <tbody>\n",
       "    <tr>\n",
       "      <td>time</td>\n",
       "      <td>1.000000</td>\n",
       "      <td>0.117927</td>\n",
       "      <td>-0.010556</td>\n",
       "      <td>-0.422054</td>\n",
       "      <td>-0.105845</td>\n",
       "      <td>0.173223</td>\n",
       "      <td>-0.063279</td>\n",
       "      <td>0.085335</td>\n",
       "      <td>-0.038203</td>\n",
       "      <td>-0.007861</td>\n",
       "      <td>0.031068</td>\n",
       "      <td>-0.248536</td>\n",
       "      <td>0.125500</td>\n",
       "      <td>-0.065958</td>\n",
       "      <td>-0.100316</td>\n",
       "      <td>-0.184392</td>\n",
       "      <td>0.011286</td>\n",
       "      <td>-0.073819</td>\n",
       "      <td>0.090305</td>\n",
       "      <td>0.029537</td>\n",
       "      <td>-0.051022</td>\n",
       "      <td>0.045913</td>\n",
       "      <td>0.143727</td>\n",
       "      <td>0.051474</td>\n",
       "      <td>-0.015954</td>\n",
       "      <td>-0.233262</td>\n",
       "      <td>-0.041818</td>\n",
       "      <td>-0.005171</td>\n",
       "      <td>-0.009305</td>\n",
       "      <td>-0.010559</td>\n",
       "      <td>-0.012359</td>\n",
       "      <td>1.000000</td>\n",
       "    </tr>\n",
       "    <tr>\n",
       "      <td>v1</td>\n",
       "      <td>0.117927</td>\n",
       "      <td>1.000000</td>\n",
       "      <td>0.006875</td>\n",
       "      <td>-0.008112</td>\n",
       "      <td>0.002257</td>\n",
       "      <td>-0.007036</td>\n",
       "      <td>0.000413</td>\n",
       "      <td>-0.009173</td>\n",
       "      <td>-0.001168</td>\n",
       "      <td>0.001828</td>\n",
       "      <td>0.000815</td>\n",
       "      <td>0.001028</td>\n",
       "      <td>-0.001524</td>\n",
       "      <td>-0.000568</td>\n",
       "      <td>-0.002663</td>\n",
       "      <td>-0.000602</td>\n",
       "      <td>-0.003345</td>\n",
       "      <td>-0.003491</td>\n",
       "      <td>-0.003535</td>\n",
       "      <td>0.000919</td>\n",
       "      <td>-0.001393</td>\n",
       "      <td>0.002818</td>\n",
       "      <td>-0.001436</td>\n",
       "      <td>-0.001330</td>\n",
       "      <td>-0.000723</td>\n",
       "      <td>-0.000222</td>\n",
       "      <td>-0.000684</td>\n",
       "      <td>-0.015706</td>\n",
       "      <td>-0.004861</td>\n",
       "      <td>-0.230105</td>\n",
       "      <td>-0.094486</td>\n",
       "      <td>0.117927</td>\n",
       "    </tr>\n",
       "    <tr>\n",
       "      <td>v2</td>\n",
       "      <td>-0.010556</td>\n",
       "      <td>0.006875</td>\n",
       "      <td>1.000000</td>\n",
       "      <td>0.005278</td>\n",
       "      <td>-0.001495</td>\n",
       "      <td>0.005210</td>\n",
       "      <td>-0.000594</td>\n",
       "      <td>0.007425</td>\n",
       "      <td>0.002899</td>\n",
       "      <td>-0.000274</td>\n",
       "      <td>0.000620</td>\n",
       "      <td>-0.000633</td>\n",
       "      <td>0.002266</td>\n",
       "      <td>0.000680</td>\n",
       "      <td>0.002711</td>\n",
       "      <td>0.001538</td>\n",
       "      <td>0.004013</td>\n",
       "      <td>0.003244</td>\n",
       "      <td>0.002477</td>\n",
       "      <td>-0.000358</td>\n",
       "      <td>-0.001287</td>\n",
       "      <td>-0.004897</td>\n",
       "      <td>0.001237</td>\n",
       "      <td>-0.003855</td>\n",
       "      <td>0.000701</td>\n",
       "      <td>-0.001569</td>\n",
       "      <td>0.000253</td>\n",
       "      <td>0.007555</td>\n",
       "      <td>0.001611</td>\n",
       "      <td>-0.533428</td>\n",
       "      <td>0.084624</td>\n",
       "      <td>-0.010556</td>\n",
       "    </tr>\n",
       "    <tr>\n",
       "      <td>v3</td>\n",
       "      <td>-0.422054</td>\n",
       "      <td>-0.008112</td>\n",
       "      <td>0.005278</td>\n",
       "      <td>1.000000</td>\n",
       "      <td>0.002829</td>\n",
       "      <td>-0.006879</td>\n",
       "      <td>-0.001511</td>\n",
       "      <td>-0.011721</td>\n",
       "      <td>-0.001815</td>\n",
       "      <td>-0.003579</td>\n",
       "      <td>-0.009632</td>\n",
       "      <td>0.002339</td>\n",
       "      <td>-0.005900</td>\n",
       "      <td>0.000113</td>\n",
       "      <td>-0.003027</td>\n",
       "      <td>-0.001230</td>\n",
       "      <td>-0.004430</td>\n",
       "      <td>-0.008159</td>\n",
       "      <td>-0.003495</td>\n",
       "      <td>-0.000016</td>\n",
       "      <td>-0.002269</td>\n",
       "      <td>0.003500</td>\n",
       "      <td>-0.000275</td>\n",
       "      <td>0.000449</td>\n",
       "      <td>-0.000072</td>\n",
       "      <td>0.000425</td>\n",
       "      <td>-0.000094</td>\n",
       "      <td>-0.007051</td>\n",
       "      <td>-0.000134</td>\n",
       "      <td>-0.212410</td>\n",
       "      <td>-0.182322</td>\n",
       "      <td>-0.422054</td>\n",
       "    </tr>\n",
       "    <tr>\n",
       "      <td>v4</td>\n",
       "      <td>-0.105845</td>\n",
       "      <td>0.002257</td>\n",
       "      <td>-0.001495</td>\n",
       "      <td>0.002829</td>\n",
       "      <td>1.000000</td>\n",
       "      <td>0.001744</td>\n",
       "      <td>-0.000880</td>\n",
       "      <td>0.004657</td>\n",
       "      <td>0.000890</td>\n",
       "      <td>0.002154</td>\n",
       "      <td>0.002753</td>\n",
       "      <td>-0.001223</td>\n",
       "      <td>0.003366</td>\n",
       "      <td>0.000177</td>\n",
       "      <td>0.002801</td>\n",
       "      <td>0.000572</td>\n",
       "      <td>0.003346</td>\n",
       "      <td>0.003655</td>\n",
       "      <td>0.002325</td>\n",
       "      <td>-0.000560</td>\n",
       "      <td>0.000318</td>\n",
       "      <td>-0.001034</td>\n",
       "      <td>0.000115</td>\n",
       "      <td>0.000732</td>\n",
       "      <td>-0.000120</td>\n",
       "      <td>0.000162</td>\n",
       "      <td>0.000777</td>\n",
       "      <td>0.001322</td>\n",
       "      <td>0.000231</td>\n",
       "      <td>0.099514</td>\n",
       "      <td>0.129326</td>\n",
       "      <td>-0.105845</td>\n",
       "    </tr>\n",
       "    <tr>\n",
       "      <td>v5</td>\n",
       "      <td>0.173223</td>\n",
       "      <td>-0.007036</td>\n",
       "      <td>0.005210</td>\n",
       "      <td>-0.006879</td>\n",
       "      <td>0.001744</td>\n",
       "      <td>1.000000</td>\n",
       "      <td>-0.000938</td>\n",
       "      <td>-0.008709</td>\n",
       "      <td>0.001430</td>\n",
       "      <td>-0.001213</td>\n",
       "      <td>-0.006050</td>\n",
       "      <td>0.000411</td>\n",
       "      <td>-0.002342</td>\n",
       "      <td>0.000019</td>\n",
       "      <td>-0.001000</td>\n",
       "      <td>-0.001171</td>\n",
       "      <td>-0.002373</td>\n",
       "      <td>-0.004466</td>\n",
       "      <td>-0.002685</td>\n",
       "      <td>0.000436</td>\n",
       "      <td>-0.001185</td>\n",
       "      <td>0.001622</td>\n",
       "      <td>-0.000559</td>\n",
       "      <td>0.001183</td>\n",
       "      <td>0.000198</td>\n",
       "      <td>0.000069</td>\n",
       "      <td>0.000390</td>\n",
       "      <td>-0.005798</td>\n",
       "      <td>-0.000820</td>\n",
       "      <td>-0.387685</td>\n",
       "      <td>-0.087812</td>\n",
       "      <td>0.173223</td>\n",
       "    </tr>\n",
       "    <tr>\n",
       "      <td>v6</td>\n",
       "      <td>-0.063279</td>\n",
       "      <td>0.000413</td>\n",
       "      <td>-0.000594</td>\n",
       "      <td>-0.001511</td>\n",
       "      <td>-0.000880</td>\n",
       "      <td>-0.000938</td>\n",
       "      <td>1.000000</td>\n",
       "      <td>0.000436</td>\n",
       "      <td>0.003036</td>\n",
       "      <td>-0.000734</td>\n",
       "      <td>-0.002180</td>\n",
       "      <td>-0.000211</td>\n",
       "      <td>-0.001185</td>\n",
       "      <td>0.000397</td>\n",
       "      <td>0.000184</td>\n",
       "      <td>-0.000470</td>\n",
       "      <td>0.000122</td>\n",
       "      <td>-0.001716</td>\n",
       "      <td>0.000541</td>\n",
       "      <td>0.000106</td>\n",
       "      <td>-0.000181</td>\n",
       "      <td>-0.002134</td>\n",
       "      <td>0.001104</td>\n",
       "      <td>-0.000755</td>\n",
       "      <td>0.001202</td>\n",
       "      <td>0.000697</td>\n",
       "      <td>-0.000028</td>\n",
       "      <td>0.000289</td>\n",
       "      <td>0.000925</td>\n",
       "      <td>0.216389</td>\n",
       "      <td>-0.043915</td>\n",
       "      <td>-0.063279</td>\n",
       "    </tr>\n",
       "    <tr>\n",
       "      <td>v7</td>\n",
       "      <td>0.085335</td>\n",
       "      <td>-0.009173</td>\n",
       "      <td>0.007425</td>\n",
       "      <td>-0.011721</td>\n",
       "      <td>0.004657</td>\n",
       "      <td>-0.008709</td>\n",
       "      <td>0.000436</td>\n",
       "      <td>1.000000</td>\n",
       "      <td>-0.006419</td>\n",
       "      <td>-0.004921</td>\n",
       "      <td>-0.013617</td>\n",
       "      <td>0.002454</td>\n",
       "      <td>-0.006153</td>\n",
       "      <td>-0.000170</td>\n",
       "      <td>-0.003816</td>\n",
       "      <td>-0.001394</td>\n",
       "      <td>-0.005944</td>\n",
       "      <td>-0.008794</td>\n",
       "      <td>-0.004279</td>\n",
       "      <td>0.000846</td>\n",
       "      <td>-0.001192</td>\n",
       "      <td>0.009010</td>\n",
       "      <td>-0.002280</td>\n",
       "      <td>0.003303</td>\n",
       "      <td>-0.000384</td>\n",
       "      <td>-0.000072</td>\n",
       "      <td>0.000624</td>\n",
       "      <td>-0.004537</td>\n",
       "      <td>0.001657</td>\n",
       "      <td>0.400408</td>\n",
       "      <td>-0.172347</td>\n",
       "      <td>0.085335</td>\n",
       "    </tr>\n",
       "    <tr>\n",
       "      <td>v8</td>\n",
       "      <td>-0.038203</td>\n",
       "      <td>-0.001168</td>\n",
       "      <td>0.002899</td>\n",
       "      <td>-0.001815</td>\n",
       "      <td>0.000890</td>\n",
       "      <td>0.001430</td>\n",
       "      <td>0.003036</td>\n",
       "      <td>-0.006419</td>\n",
       "      <td>1.000000</td>\n",
       "      <td>0.001038</td>\n",
       "      <td>0.000481</td>\n",
       "      <td>0.004688</td>\n",
       "      <td>-0.004414</td>\n",
       "      <td>-0.001381</td>\n",
       "      <td>-0.008387</td>\n",
       "      <td>0.001044</td>\n",
       "      <td>-0.004376</td>\n",
       "      <td>-0.005576</td>\n",
       "      <td>-0.001323</td>\n",
       "      <td>-0.000626</td>\n",
       "      <td>0.000271</td>\n",
       "      <td>0.018892</td>\n",
       "      <td>-0.006156</td>\n",
       "      <td>0.004994</td>\n",
       "      <td>0.000113</td>\n",
       "      <td>0.000011</td>\n",
       "      <td>-0.001407</td>\n",
       "      <td>0.000613</td>\n",
       "      <td>-0.000099</td>\n",
       "      <td>-0.104662</td>\n",
       "      <td>0.033068</td>\n",
       "      <td>-0.038203</td>\n",
       "    </tr>\n",
       "    <tr>\n",
       "      <td>v9</td>\n",
       "      <td>-0.007861</td>\n",
       "      <td>0.001828</td>\n",
       "      <td>-0.000274</td>\n",
       "      <td>-0.003579</td>\n",
       "      <td>0.002154</td>\n",
       "      <td>-0.001213</td>\n",
       "      <td>-0.000734</td>\n",
       "      <td>-0.004921</td>\n",
       "      <td>0.001038</td>\n",
       "      <td>1.000000</td>\n",
       "      <td>-0.012613</td>\n",
       "      <td>-0.000217</td>\n",
       "      <td>-0.002385</td>\n",
       "      <td>0.000745</td>\n",
       "      <td>0.001981</td>\n",
       "      <td>-0.000283</td>\n",
       "      <td>-0.000086</td>\n",
       "      <td>-0.002318</td>\n",
       "      <td>-0.000373</td>\n",
       "      <td>0.000247</td>\n",
       "      <td>-0.001838</td>\n",
       "      <td>0.000679</td>\n",
       "      <td>0.000785</td>\n",
       "      <td>0.000677</td>\n",
       "      <td>-0.000103</td>\n",
       "      <td>-0.000275</td>\n",
       "      <td>0.001253</td>\n",
       "      <td>0.008221</td>\n",
       "      <td>0.005591</td>\n",
       "      <td>-0.044123</td>\n",
       "      <td>-0.094021</td>\n",
       "      <td>-0.007861</td>\n",
       "    </tr>\n",
       "    <tr>\n",
       "      <td>v10</td>\n",
       "      <td>0.031068</td>\n",
       "      <td>0.000815</td>\n",
       "      <td>0.000620</td>\n",
       "      <td>-0.009632</td>\n",
       "      <td>0.002753</td>\n",
       "      <td>-0.006050</td>\n",
       "      <td>-0.002180</td>\n",
       "      <td>-0.013617</td>\n",
       "      <td>0.000481</td>\n",
       "      <td>-0.012613</td>\n",
       "      <td>1.000000</td>\n",
       "      <td>0.000844</td>\n",
       "      <td>-0.006942</td>\n",
       "      <td>0.001379</td>\n",
       "      <td>0.000168</td>\n",
       "      <td>-0.002293</td>\n",
       "      <td>-0.003715</td>\n",
       "      <td>-0.007877</td>\n",
       "      <td>-0.002450</td>\n",
       "      <td>0.001067</td>\n",
       "      <td>-0.004448</td>\n",
       "      <td>0.003777</td>\n",
       "      <td>-0.000481</td>\n",
       "      <td>0.001917</td>\n",
       "      <td>0.000154</td>\n",
       "      <td>-0.000565</td>\n",
       "      <td>0.001089</td>\n",
       "      <td>0.010769</td>\n",
       "      <td>0.009159</td>\n",
       "      <td>-0.102255</td>\n",
       "      <td>-0.206971</td>\n",
       "      <td>0.031068</td>\n",
       "    </tr>\n",
       "    <tr>\n",
       "      <td>v11</td>\n",
       "      <td>-0.248536</td>\n",
       "      <td>0.001028</td>\n",
       "      <td>-0.000633</td>\n",
       "      <td>0.002339</td>\n",
       "      <td>-0.001223</td>\n",
       "      <td>0.000411</td>\n",
       "      <td>-0.000211</td>\n",
       "      <td>0.002454</td>\n",
       "      <td>0.004688</td>\n",
       "      <td>-0.000217</td>\n",
       "      <td>0.000844</td>\n",
       "      <td>1.000000</td>\n",
       "      <td>0.005569</td>\n",
       "      <td>0.000455</td>\n",
       "      <td>0.007713</td>\n",
       "      <td>-0.000872</td>\n",
       "      <td>0.004751</td>\n",
       "      <td>0.007353</td>\n",
       "      <td>0.002095</td>\n",
       "      <td>-0.000488</td>\n",
       "      <td>-0.000989</td>\n",
       "      <td>-0.002760</td>\n",
       "      <td>-0.000150</td>\n",
       "      <td>-0.000037</td>\n",
       "      <td>0.000080</td>\n",
       "      <td>0.000047</td>\n",
       "      <td>-0.000204</td>\n",
       "      <td>0.001987</td>\n",
       "      <td>0.002562</td>\n",
       "      <td>-0.000015</td>\n",
       "      <td>0.149067</td>\n",
       "      <td>-0.248536</td>\n",
       "    </tr>\n",
       "    <tr>\n",
       "      <td>v12</td>\n",
       "      <td>0.125500</td>\n",
       "      <td>-0.001524</td>\n",
       "      <td>0.002266</td>\n",
       "      <td>-0.005900</td>\n",
       "      <td>0.003366</td>\n",
       "      <td>-0.002342</td>\n",
       "      <td>-0.001185</td>\n",
       "      <td>-0.006153</td>\n",
       "      <td>-0.004414</td>\n",
       "      <td>-0.002385</td>\n",
       "      <td>-0.006942</td>\n",
       "      <td>0.005569</td>\n",
       "      <td>1.000000</td>\n",
       "      <td>-0.000550</td>\n",
       "      <td>-0.010007</td>\n",
       "      <td>0.000881</td>\n",
       "      <td>-0.007372</td>\n",
       "      <td>-0.012856</td>\n",
       "      <td>-0.003464</td>\n",
       "      <td>0.000593</td>\n",
       "      <td>0.001169</td>\n",
       "      <td>0.003285</td>\n",
       "      <td>0.000151</td>\n",
       "      <td>0.000486</td>\n",
       "      <td>0.000588</td>\n",
       "      <td>-0.000181</td>\n",
       "      <td>-0.000138</td>\n",
       "      <td>-0.000929</td>\n",
       "      <td>-0.000613</td>\n",
       "      <td>-0.009254</td>\n",
       "      <td>-0.250711</td>\n",
       "      <td>0.125500</td>\n",
       "    </tr>\n",
       "    <tr>\n",
       "      <td>v13</td>\n",
       "      <td>-0.065958</td>\n",
       "      <td>-0.000568</td>\n",
       "      <td>0.000680</td>\n",
       "      <td>0.000113</td>\n",
       "      <td>0.000177</td>\n",
       "      <td>0.000019</td>\n",
       "      <td>0.000397</td>\n",
       "      <td>-0.000170</td>\n",
       "      <td>-0.001381</td>\n",
       "      <td>0.000745</td>\n",
       "      <td>0.001379</td>\n",
       "      <td>0.000455</td>\n",
       "      <td>-0.000550</td>\n",
       "      <td>1.000000</td>\n",
       "      <td>-0.001133</td>\n",
       "      <td>0.000234</td>\n",
       "      <td>-0.000807</td>\n",
       "      <td>-0.000170</td>\n",
       "      <td>-0.000155</td>\n",
       "      <td>0.000086</td>\n",
       "      <td>0.000379</td>\n",
       "      <td>0.000522</td>\n",
       "      <td>0.000016</td>\n",
       "      <td>0.000252</td>\n",
       "      <td>-0.000049</td>\n",
       "      <td>0.000248</td>\n",
       "      <td>-0.000101</td>\n",
       "      <td>-0.001577</td>\n",
       "      <td>-0.000604</td>\n",
       "      <td>0.005209</td>\n",
       "      <td>-0.003897</td>\n",
       "      <td>-0.065958</td>\n",
       "    </tr>\n",
       "    <tr>\n",
       "      <td>v14</td>\n",
       "      <td>-0.100316</td>\n",
       "      <td>-0.002663</td>\n",
       "      <td>0.002711</td>\n",
       "      <td>-0.003027</td>\n",
       "      <td>0.002801</td>\n",
       "      <td>-0.001000</td>\n",
       "      <td>0.000184</td>\n",
       "      <td>-0.003816</td>\n",
       "      <td>-0.008387</td>\n",
       "      <td>0.001981</td>\n",
       "      <td>0.000168</td>\n",
       "      <td>0.007713</td>\n",
       "      <td>-0.010007</td>\n",
       "      <td>-0.001133</td>\n",
       "      <td>1.000000</td>\n",
       "      <td>0.000866</td>\n",
       "      <td>-0.009074</td>\n",
       "      <td>-0.013551</td>\n",
       "      <td>-0.004483</td>\n",
       "      <td>0.001587</td>\n",
       "      <td>0.002726</td>\n",
       "      <td>0.005633</td>\n",
       "      <td>-0.001906</td>\n",
       "      <td>0.000666</td>\n",
       "      <td>-0.000026</td>\n",
       "      <td>0.000155</td>\n",
       "      <td>-0.000702</td>\n",
       "      <td>-0.004556</td>\n",
       "      <td>-0.004664</td>\n",
       "      <td>0.034122</td>\n",
       "      <td>-0.293375</td>\n",
       "      <td>-0.100316</td>\n",
       "    </tr>\n",
       "    <tr>\n",
       "      <td>v15</td>\n",
       "      <td>-0.184392</td>\n",
       "      <td>-0.000602</td>\n",
       "      <td>0.001538</td>\n",
       "      <td>-0.001230</td>\n",
       "      <td>0.000572</td>\n",
       "      <td>-0.001171</td>\n",
       "      <td>-0.000470</td>\n",
       "      <td>-0.001394</td>\n",
       "      <td>0.001044</td>\n",
       "      <td>-0.000283</td>\n",
       "      <td>-0.002293</td>\n",
       "      <td>-0.000872</td>\n",
       "      <td>0.000881</td>\n",
       "      <td>0.000234</td>\n",
       "      <td>0.000866</td>\n",
       "      <td>1.000000</td>\n",
       "      <td>-0.000283</td>\n",
       "      <td>-0.000174</td>\n",
       "      <td>-0.000426</td>\n",
       "      <td>0.000555</td>\n",
       "      <td>-0.000754</td>\n",
       "      <td>-0.000271</td>\n",
       "      <td>-0.001197</td>\n",
       "      <td>0.000969</td>\n",
       "      <td>0.000113</td>\n",
       "      <td>0.000445</td>\n",
       "      <td>-0.002034</td>\n",
       "      <td>-0.000641</td>\n",
       "      <td>0.000858</td>\n",
       "      <td>-0.003265</td>\n",
       "      <td>-0.003300</td>\n",
       "      <td>-0.184392</td>\n",
       "    </tr>\n",
       "    <tr>\n",
       "      <td>v16</td>\n",
       "      <td>0.011286</td>\n",
       "      <td>-0.003345</td>\n",
       "      <td>0.004013</td>\n",
       "      <td>-0.004430</td>\n",
       "      <td>0.003346</td>\n",
       "      <td>-0.002373</td>\n",
       "      <td>0.000122</td>\n",
       "      <td>-0.005944</td>\n",
       "      <td>-0.004376</td>\n",
       "      <td>-0.000086</td>\n",
       "      <td>-0.003715</td>\n",
       "      <td>0.004751</td>\n",
       "      <td>-0.007372</td>\n",
       "      <td>-0.000807</td>\n",
       "      <td>-0.009074</td>\n",
       "      <td>-0.000283</td>\n",
       "      <td>1.000000</td>\n",
       "      <td>-0.009063</td>\n",
       "      <td>-0.005427</td>\n",
       "      <td>0.002432</td>\n",
       "      <td>0.001067</td>\n",
       "      <td>0.004326</td>\n",
       "      <td>-0.000820</td>\n",
       "      <td>0.001209</td>\n",
       "      <td>-0.000482</td>\n",
       "      <td>0.000215</td>\n",
       "      <td>-0.001245</td>\n",
       "      <td>-0.003974</td>\n",
       "      <td>-0.001629</td>\n",
       "      <td>-0.004488</td>\n",
       "      <td>-0.187186</td>\n",
       "      <td>0.011286</td>\n",
       "    </tr>\n",
       "    <tr>\n",
       "      <td>v17</td>\n",
       "      <td>-0.073819</td>\n",
       "      <td>-0.003491</td>\n",
       "      <td>0.003244</td>\n",
       "      <td>-0.008159</td>\n",
       "      <td>0.003655</td>\n",
       "      <td>-0.004466</td>\n",
       "      <td>-0.001716</td>\n",
       "      <td>-0.008794</td>\n",
       "      <td>-0.005576</td>\n",
       "      <td>-0.002318</td>\n",
       "      <td>-0.007877</td>\n",
       "      <td>0.007353</td>\n",
       "      <td>-0.012856</td>\n",
       "      <td>-0.000170</td>\n",
       "      <td>-0.013551</td>\n",
       "      <td>-0.000174</td>\n",
       "      <td>-0.009063</td>\n",
       "      <td>1.000000</td>\n",
       "      <td>-0.005277</td>\n",
       "      <td>0.000989</td>\n",
       "      <td>0.001518</td>\n",
       "      <td>0.003560</td>\n",
       "      <td>-0.000162</td>\n",
       "      <td>0.000667</td>\n",
       "      <td>0.001006</td>\n",
       "      <td>-0.000685</td>\n",
       "      <td>0.000157</td>\n",
       "      <td>-0.003421</td>\n",
       "      <td>-0.002703</td>\n",
       "      <td>0.007730</td>\n",
       "      <td>-0.313498</td>\n",
       "      <td>-0.073819</td>\n",
       "    </tr>\n",
       "    <tr>\n",
       "      <td>v18</td>\n",
       "      <td>0.090305</td>\n",
       "      <td>-0.003535</td>\n",
       "      <td>0.002477</td>\n",
       "      <td>-0.003495</td>\n",
       "      <td>0.002325</td>\n",
       "      <td>-0.002685</td>\n",
       "      <td>0.000541</td>\n",
       "      <td>-0.004279</td>\n",
       "      <td>-0.001323</td>\n",
       "      <td>-0.000373</td>\n",
       "      <td>-0.002450</td>\n",
       "      <td>0.002095</td>\n",
       "      <td>-0.003464</td>\n",
       "      <td>-0.000155</td>\n",
       "      <td>-0.004483</td>\n",
       "      <td>-0.000426</td>\n",
       "      <td>-0.005427</td>\n",
       "      <td>-0.005277</td>\n",
       "      <td>1.000000</td>\n",
       "      <td>-0.000100</td>\n",
       "      <td>-0.000245</td>\n",
       "      <td>0.001629</td>\n",
       "      <td>-0.000533</td>\n",
       "      <td>0.000240</td>\n",
       "      <td>-0.000710</td>\n",
       "      <td>-0.000559</td>\n",
       "      <td>-0.000596</td>\n",
       "      <td>-0.004231</td>\n",
       "      <td>-0.001256</td>\n",
       "      <td>0.035775</td>\n",
       "      <td>-0.105340</td>\n",
       "      <td>0.090305</td>\n",
       "    </tr>\n",
       "    <tr>\n",
       "      <td>v19</td>\n",
       "      <td>0.029537</td>\n",
       "      <td>0.000919</td>\n",
       "      <td>-0.000358</td>\n",
       "      <td>-0.000016</td>\n",
       "      <td>-0.000560</td>\n",
       "      <td>0.000436</td>\n",
       "      <td>0.000106</td>\n",
       "      <td>0.000846</td>\n",
       "      <td>-0.000626</td>\n",
       "      <td>0.000247</td>\n",
       "      <td>0.001067</td>\n",
       "      <td>-0.000488</td>\n",
       "      <td>0.000593</td>\n",
       "      <td>0.000086</td>\n",
       "      <td>0.001587</td>\n",
       "      <td>0.000555</td>\n",
       "      <td>0.002432</td>\n",
       "      <td>0.000989</td>\n",
       "      <td>-0.000100</td>\n",
       "      <td>1.000000</td>\n",
       "      <td>-0.000269</td>\n",
       "      <td>0.000244</td>\n",
       "      <td>0.001342</td>\n",
       "      <td>0.000381</td>\n",
       "      <td>-0.000112</td>\n",
       "      <td>-0.000084</td>\n",
       "      <td>0.000856</td>\n",
       "      <td>-0.000544</td>\n",
       "      <td>0.000353</td>\n",
       "      <td>-0.055994</td>\n",
       "      <td>0.033631</td>\n",
       "      <td>0.029537</td>\n",
       "    </tr>\n",
       "    <tr>\n",
       "      <td>v20</td>\n",
       "      <td>-0.051022</td>\n",
       "      <td>-0.001393</td>\n",
       "      <td>-0.001287</td>\n",
       "      <td>-0.002269</td>\n",
       "      <td>0.000318</td>\n",
       "      <td>-0.001185</td>\n",
       "      <td>-0.000181</td>\n",
       "      <td>-0.001192</td>\n",
       "      <td>0.000271</td>\n",
       "      <td>-0.001838</td>\n",
       "      <td>-0.004448</td>\n",
       "      <td>-0.000989</td>\n",
       "      <td>0.001169</td>\n",
       "      <td>0.000379</td>\n",
       "      <td>0.002726</td>\n",
       "      <td>-0.000754</td>\n",
       "      <td>0.001067</td>\n",
       "      <td>0.001518</td>\n",
       "      <td>-0.000245</td>\n",
       "      <td>-0.000269</td>\n",
       "      <td>1.000000</td>\n",
       "      <td>0.005372</td>\n",
       "      <td>-0.001617</td>\n",
       "      <td>-0.001094</td>\n",
       "      <td>-0.000303</td>\n",
       "      <td>-0.000643</td>\n",
       "      <td>-0.000310</td>\n",
       "      <td>-0.000049</td>\n",
       "      <td>0.002671</td>\n",
       "      <td>0.340729</td>\n",
       "      <td>0.021486</td>\n",
       "      <td>-0.051022</td>\n",
       "    </tr>\n",
       "    <tr>\n",
       "      <td>v21</td>\n",
       "      <td>0.045913</td>\n",
       "      <td>0.002818</td>\n",
       "      <td>-0.004897</td>\n",
       "      <td>0.003500</td>\n",
       "      <td>-0.001034</td>\n",
       "      <td>0.001622</td>\n",
       "      <td>-0.002134</td>\n",
       "      <td>0.009010</td>\n",
       "      <td>0.018892</td>\n",
       "      <td>0.000679</td>\n",
       "      <td>0.003777</td>\n",
       "      <td>-0.002760</td>\n",
       "      <td>0.003285</td>\n",
       "      <td>0.000522</td>\n",
       "      <td>0.005633</td>\n",
       "      <td>-0.000271</td>\n",
       "      <td>0.004326</td>\n",
       "      <td>0.003560</td>\n",
       "      <td>0.001629</td>\n",
       "      <td>0.000244</td>\n",
       "      <td>0.005372</td>\n",
       "      <td>1.000000</td>\n",
       "      <td>0.009645</td>\n",
       "      <td>-0.006391</td>\n",
       "      <td>0.001210</td>\n",
       "      <td>-0.000872</td>\n",
       "      <td>-0.000874</td>\n",
       "      <td>-0.005216</td>\n",
       "      <td>-0.004436</td>\n",
       "      <td>0.108058</td>\n",
       "      <td>0.026357</td>\n",
       "      <td>0.045913</td>\n",
       "    </tr>\n",
       "    <tr>\n",
       "      <td>v22</td>\n",
       "      <td>0.143727</td>\n",
       "      <td>-0.001436</td>\n",
       "      <td>0.001237</td>\n",
       "      <td>-0.000275</td>\n",
       "      <td>0.000115</td>\n",
       "      <td>-0.000559</td>\n",
       "      <td>0.001104</td>\n",
       "      <td>-0.002280</td>\n",
       "      <td>-0.006156</td>\n",
       "      <td>0.000785</td>\n",
       "      <td>-0.000481</td>\n",
       "      <td>-0.000150</td>\n",
       "      <td>0.000151</td>\n",
       "      <td>0.000016</td>\n",
       "      <td>-0.001906</td>\n",
       "      <td>-0.001197</td>\n",
       "      <td>-0.000820</td>\n",
       "      <td>-0.000162</td>\n",
       "      <td>-0.000533</td>\n",
       "      <td>0.001342</td>\n",
       "      <td>-0.001617</td>\n",
       "      <td>0.009645</td>\n",
       "      <td>1.000000</td>\n",
       "      <td>0.001929</td>\n",
       "      <td>-0.000031</td>\n",
       "      <td>0.000197</td>\n",
       "      <td>-0.001495</td>\n",
       "      <td>0.003037</td>\n",
       "      <td>0.001392</td>\n",
       "      <td>-0.064965</td>\n",
       "      <td>0.004887</td>\n",
       "      <td>0.143727</td>\n",
       "    </tr>\n",
       "    <tr>\n",
       "      <td>v23</td>\n",
       "      <td>0.051474</td>\n",
       "      <td>-0.001330</td>\n",
       "      <td>-0.003855</td>\n",
       "      <td>0.000449</td>\n",
       "      <td>0.000732</td>\n",
       "      <td>0.001183</td>\n",
       "      <td>-0.000755</td>\n",
       "      <td>0.003303</td>\n",
       "      <td>0.004994</td>\n",
       "      <td>0.000677</td>\n",
       "      <td>0.001917</td>\n",
       "      <td>-0.000037</td>\n",
       "      <td>0.000486</td>\n",
       "      <td>0.000252</td>\n",
       "      <td>0.000666</td>\n",
       "      <td>0.000969</td>\n",
       "      <td>0.001209</td>\n",
       "      <td>0.000667</td>\n",
       "      <td>0.000240</td>\n",
       "      <td>0.000381</td>\n",
       "      <td>-0.001094</td>\n",
       "      <td>-0.006391</td>\n",
       "      <td>0.001929</td>\n",
       "      <td>1.000000</td>\n",
       "      <td>0.000273</td>\n",
       "      <td>-0.000532</td>\n",
       "      <td>-0.000185</td>\n",
       "      <td>-0.002028</td>\n",
       "      <td>-0.003224</td>\n",
       "      <td>-0.112833</td>\n",
       "      <td>-0.006333</td>\n",
       "      <td>0.051474</td>\n",
       "    </tr>\n",
       "    <tr>\n",
       "      <td>v24</td>\n",
       "      <td>-0.015954</td>\n",
       "      <td>-0.000723</td>\n",
       "      <td>0.000701</td>\n",
       "      <td>-0.000072</td>\n",
       "      <td>-0.000120</td>\n",
       "      <td>0.000198</td>\n",
       "      <td>0.001202</td>\n",
       "      <td>-0.000384</td>\n",
       "      <td>0.000113</td>\n",
       "      <td>-0.000103</td>\n",
       "      <td>0.000154</td>\n",
       "      <td>0.000080</td>\n",
       "      <td>0.000588</td>\n",
       "      <td>-0.000049</td>\n",
       "      <td>-0.000026</td>\n",
       "      <td>0.000113</td>\n",
       "      <td>-0.000482</td>\n",
       "      <td>0.001006</td>\n",
       "      <td>-0.000710</td>\n",
       "      <td>-0.000112</td>\n",
       "      <td>-0.000303</td>\n",
       "      <td>0.001210</td>\n",
       "      <td>-0.000031</td>\n",
       "      <td>0.000273</td>\n",
       "      <td>1.000000</td>\n",
       "      <td>-0.000188</td>\n",
       "      <td>0.000568</td>\n",
       "      <td>-0.000885</td>\n",
       "      <td>0.000322</td>\n",
       "      <td>0.005055</td>\n",
       "      <td>-0.007210</td>\n",
       "      <td>-0.015954</td>\n",
       "    </tr>\n",
       "    <tr>\n",
       "      <td>v25</td>\n",
       "      <td>-0.233262</td>\n",
       "      <td>-0.000222</td>\n",
       "      <td>-0.001569</td>\n",
       "      <td>0.000425</td>\n",
       "      <td>0.000162</td>\n",
       "      <td>0.000069</td>\n",
       "      <td>0.000697</td>\n",
       "      <td>-0.000072</td>\n",
       "      <td>0.000011</td>\n",
       "      <td>-0.000275</td>\n",
       "      <td>-0.000565</td>\n",
       "      <td>0.000047</td>\n",
       "      <td>-0.000181</td>\n",
       "      <td>0.000248</td>\n",
       "      <td>0.000155</td>\n",
       "      <td>0.000445</td>\n",
       "      <td>0.000215</td>\n",
       "      <td>-0.000685</td>\n",
       "      <td>-0.000559</td>\n",
       "      <td>-0.000084</td>\n",
       "      <td>-0.000643</td>\n",
       "      <td>-0.000872</td>\n",
       "      <td>0.000197</td>\n",
       "      <td>-0.000532</td>\n",
       "      <td>-0.000188</td>\n",
       "      <td>1.000000</td>\n",
       "      <td>0.000048</td>\n",
       "      <td>-0.001339</td>\n",
       "      <td>-0.000565</td>\n",
       "      <td>-0.047596</td>\n",
       "      <td>0.003202</td>\n",
       "      <td>-0.233262</td>\n",
       "    </tr>\n",
       "    <tr>\n",
       "      <td>v26</td>\n",
       "      <td>-0.041818</td>\n",
       "      <td>-0.000684</td>\n",
       "      <td>0.000253</td>\n",
       "      <td>-0.000094</td>\n",
       "      <td>0.000777</td>\n",
       "      <td>0.000390</td>\n",
       "      <td>-0.000028</td>\n",
       "      <td>0.000624</td>\n",
       "      <td>-0.001407</td>\n",
       "      <td>0.001253</td>\n",
       "      <td>0.001089</td>\n",
       "      <td>-0.000204</td>\n",
       "      <td>-0.000138</td>\n",
       "      <td>-0.000101</td>\n",
       "      <td>-0.000702</td>\n",
       "      <td>-0.002034</td>\n",
       "      <td>-0.001245</td>\n",
       "      <td>0.000157</td>\n",
       "      <td>-0.000596</td>\n",
       "      <td>0.000856</td>\n",
       "      <td>-0.000310</td>\n",
       "      <td>-0.000874</td>\n",
       "      <td>-0.001495</td>\n",
       "      <td>-0.000185</td>\n",
       "      <td>0.000568</td>\n",
       "      <td>0.000048</td>\n",
       "      <td>1.000000</td>\n",
       "      <td>-0.003294</td>\n",
       "      <td>-0.000999</td>\n",
       "      <td>-0.003425</td>\n",
       "      <td>0.004265</td>\n",
       "      <td>-0.041818</td>\n",
       "    </tr>\n",
       "    <tr>\n",
       "      <td>v27</td>\n",
       "      <td>-0.005171</td>\n",
       "      <td>-0.015706</td>\n",
       "      <td>0.007555</td>\n",
       "      <td>-0.007051</td>\n",
       "      <td>0.001322</td>\n",
       "      <td>-0.005798</td>\n",
       "      <td>0.000289</td>\n",
       "      <td>-0.004537</td>\n",
       "      <td>0.000613</td>\n",
       "      <td>0.008221</td>\n",
       "      <td>0.010769</td>\n",
       "      <td>0.001987</td>\n",
       "      <td>-0.000929</td>\n",
       "      <td>-0.001577</td>\n",
       "      <td>-0.004556</td>\n",
       "      <td>-0.000641</td>\n",
       "      <td>-0.003974</td>\n",
       "      <td>-0.003421</td>\n",
       "      <td>-0.004231</td>\n",
       "      <td>-0.000544</td>\n",
       "      <td>-0.000049</td>\n",
       "      <td>-0.005216</td>\n",
       "      <td>0.003037</td>\n",
       "      <td>-0.002028</td>\n",
       "      <td>-0.000885</td>\n",
       "      <td>-0.001339</td>\n",
       "      <td>-0.003294</td>\n",
       "      <td>1.000000</td>\n",
       "      <td>-0.013950</td>\n",
       "      <td>0.027922</td>\n",
       "      <td>0.021892</td>\n",
       "      <td>-0.005171</td>\n",
       "    </tr>\n",
       "    <tr>\n",
       "      <td>v28</td>\n",
       "      <td>-0.009305</td>\n",
       "      <td>-0.004861</td>\n",
       "      <td>0.001611</td>\n",
       "      <td>-0.000134</td>\n",
       "      <td>0.000231</td>\n",
       "      <td>-0.000820</td>\n",
       "      <td>0.000925</td>\n",
       "      <td>0.001657</td>\n",
       "      <td>-0.000099</td>\n",
       "      <td>0.005591</td>\n",
       "      <td>0.009159</td>\n",
       "      <td>0.002562</td>\n",
       "      <td>-0.000613</td>\n",
       "      <td>-0.000604</td>\n",
       "      <td>-0.004664</td>\n",
       "      <td>0.000858</td>\n",
       "      <td>-0.001629</td>\n",
       "      <td>-0.002703</td>\n",
       "      <td>-0.001256</td>\n",
       "      <td>0.000353</td>\n",
       "      <td>0.002671</td>\n",
       "      <td>-0.004436</td>\n",
       "      <td>0.001392</td>\n",
       "      <td>-0.003224</td>\n",
       "      <td>0.000322</td>\n",
       "      <td>-0.000565</td>\n",
       "      <td>-0.000999</td>\n",
       "      <td>-0.013950</td>\n",
       "      <td>1.000000</td>\n",
       "      <td>0.010143</td>\n",
       "      <td>0.009682</td>\n",
       "      <td>-0.009305</td>\n",
       "    </tr>\n",
       "    <tr>\n",
       "      <td>amount</td>\n",
       "      <td>-0.010559</td>\n",
       "      <td>-0.230105</td>\n",
       "      <td>-0.533428</td>\n",
       "      <td>-0.212410</td>\n",
       "      <td>0.099514</td>\n",
       "      <td>-0.387685</td>\n",
       "      <td>0.216389</td>\n",
       "      <td>0.400408</td>\n",
       "      <td>-0.104662</td>\n",
       "      <td>-0.044123</td>\n",
       "      <td>-0.102255</td>\n",
       "      <td>-0.000015</td>\n",
       "      <td>-0.009254</td>\n",
       "      <td>0.005209</td>\n",
       "      <td>0.034122</td>\n",
       "      <td>-0.003265</td>\n",
       "      <td>-0.004488</td>\n",
       "      <td>0.007730</td>\n",
       "      <td>0.035775</td>\n",
       "      <td>-0.055994</td>\n",
       "      <td>0.340729</td>\n",
       "      <td>0.108058</td>\n",
       "      <td>-0.064965</td>\n",
       "      <td>-0.112833</td>\n",
       "      <td>0.005055</td>\n",
       "      <td>-0.047596</td>\n",
       "      <td>-0.003425</td>\n",
       "      <td>0.027922</td>\n",
       "      <td>0.010143</td>\n",
       "      <td>1.000000</td>\n",
       "      <td>0.005777</td>\n",
       "      <td>-0.010559</td>\n",
       "    </tr>\n",
       "    <tr>\n",
       "      <td>class</td>\n",
       "      <td>-0.012359</td>\n",
       "      <td>-0.094486</td>\n",
       "      <td>0.084624</td>\n",
       "      <td>-0.182322</td>\n",
       "      <td>0.129326</td>\n",
       "      <td>-0.087812</td>\n",
       "      <td>-0.043915</td>\n",
       "      <td>-0.172347</td>\n",
       "      <td>0.033068</td>\n",
       "      <td>-0.094021</td>\n",
       "      <td>-0.206971</td>\n",
       "      <td>0.149067</td>\n",
       "      <td>-0.250711</td>\n",
       "      <td>-0.003897</td>\n",
       "      <td>-0.293375</td>\n",
       "      <td>-0.003300</td>\n",
       "      <td>-0.187186</td>\n",
       "      <td>-0.313498</td>\n",
       "      <td>-0.105340</td>\n",
       "      <td>0.033631</td>\n",
       "      <td>0.021486</td>\n",
       "      <td>0.026357</td>\n",
       "      <td>0.004887</td>\n",
       "      <td>-0.006333</td>\n",
       "      <td>-0.007210</td>\n",
       "      <td>0.003202</td>\n",
       "      <td>0.004265</td>\n",
       "      <td>0.021892</td>\n",
       "      <td>0.009682</td>\n",
       "      <td>0.005777</td>\n",
       "      <td>1.000000</td>\n",
       "      <td>-0.012359</td>\n",
       "    </tr>\n",
       "    <tr>\n",
       "      <td>hour</td>\n",
       "      <td>1.000000</td>\n",
       "      <td>0.117927</td>\n",
       "      <td>-0.010556</td>\n",
       "      <td>-0.422054</td>\n",
       "      <td>-0.105845</td>\n",
       "      <td>0.173223</td>\n",
       "      <td>-0.063279</td>\n",
       "      <td>0.085335</td>\n",
       "      <td>-0.038203</td>\n",
       "      <td>-0.007861</td>\n",
       "      <td>0.031068</td>\n",
       "      <td>-0.248536</td>\n",
       "      <td>0.125500</td>\n",
       "      <td>-0.065958</td>\n",
       "      <td>-0.100316</td>\n",
       "      <td>-0.184392</td>\n",
       "      <td>0.011286</td>\n",
       "      <td>-0.073819</td>\n",
       "      <td>0.090305</td>\n",
       "      <td>0.029537</td>\n",
       "      <td>-0.051022</td>\n",
       "      <td>0.045913</td>\n",
       "      <td>0.143727</td>\n",
       "      <td>0.051474</td>\n",
       "      <td>-0.015954</td>\n",
       "      <td>-0.233262</td>\n",
       "      <td>-0.041818</td>\n",
       "      <td>-0.005171</td>\n",
       "      <td>-0.009305</td>\n",
       "      <td>-0.010559</td>\n",
       "      <td>-0.012359</td>\n",
       "      <td>1.000000</td>\n",
       "    </tr>\n",
       "  </tbody>\n",
       "</table>\n",
       "</div>"
      ],
      "text/plain": [
       "            time        v1        v2        v3        v4        v5        v6  \\\n",
       "time    1.000000  0.117927 -0.010556 -0.422054 -0.105845  0.173223 -0.063279   \n",
       "v1      0.117927  1.000000  0.006875 -0.008112  0.002257 -0.007036  0.000413   \n",
       "v2     -0.010556  0.006875  1.000000  0.005278 -0.001495  0.005210 -0.000594   \n",
       "v3     -0.422054 -0.008112  0.005278  1.000000  0.002829 -0.006879 -0.001511   \n",
       "v4     -0.105845  0.002257 -0.001495  0.002829  1.000000  0.001744 -0.000880   \n",
       "v5      0.173223 -0.007036  0.005210 -0.006879  0.001744  1.000000 -0.000938   \n",
       "v6     -0.063279  0.000413 -0.000594 -0.001511 -0.000880 -0.000938  1.000000   \n",
       "v7      0.085335 -0.009173  0.007425 -0.011721  0.004657 -0.008709  0.000436   \n",
       "v8     -0.038203 -0.001168  0.002899 -0.001815  0.000890  0.001430  0.003036   \n",
       "v9     -0.007861  0.001828 -0.000274 -0.003579  0.002154 -0.001213 -0.000734   \n",
       "v10     0.031068  0.000815  0.000620 -0.009632  0.002753 -0.006050 -0.002180   \n",
       "v11    -0.248536  0.001028 -0.000633  0.002339 -0.001223  0.000411 -0.000211   \n",
       "v12     0.125500 -0.001524  0.002266 -0.005900  0.003366 -0.002342 -0.001185   \n",
       "v13    -0.065958 -0.000568  0.000680  0.000113  0.000177  0.000019  0.000397   \n",
       "v14    -0.100316 -0.002663  0.002711 -0.003027  0.002801 -0.001000  0.000184   \n",
       "v15    -0.184392 -0.000602  0.001538 -0.001230  0.000572 -0.001171 -0.000470   \n",
       "v16     0.011286 -0.003345  0.004013 -0.004430  0.003346 -0.002373  0.000122   \n",
       "v17    -0.073819 -0.003491  0.003244 -0.008159  0.003655 -0.004466 -0.001716   \n",
       "v18     0.090305 -0.003535  0.002477 -0.003495  0.002325 -0.002685  0.000541   \n",
       "v19     0.029537  0.000919 -0.000358 -0.000016 -0.000560  0.000436  0.000106   \n",
       "v20    -0.051022 -0.001393 -0.001287 -0.002269  0.000318 -0.001185 -0.000181   \n",
       "v21     0.045913  0.002818 -0.004897  0.003500 -0.001034  0.001622 -0.002134   \n",
       "v22     0.143727 -0.001436  0.001237 -0.000275  0.000115 -0.000559  0.001104   \n",
       "v23     0.051474 -0.001330 -0.003855  0.000449  0.000732  0.001183 -0.000755   \n",
       "v24    -0.015954 -0.000723  0.000701 -0.000072 -0.000120  0.000198  0.001202   \n",
       "v25    -0.233262 -0.000222 -0.001569  0.000425  0.000162  0.000069  0.000697   \n",
       "v26    -0.041818 -0.000684  0.000253 -0.000094  0.000777  0.000390 -0.000028   \n",
       "v27    -0.005171 -0.015706  0.007555 -0.007051  0.001322 -0.005798  0.000289   \n",
       "v28    -0.009305 -0.004861  0.001611 -0.000134  0.000231 -0.000820  0.000925   \n",
       "amount -0.010559 -0.230105 -0.533428 -0.212410  0.099514 -0.387685  0.216389   \n",
       "class  -0.012359 -0.094486  0.084624 -0.182322  0.129326 -0.087812 -0.043915   \n",
       "hour    1.000000  0.117927 -0.010556 -0.422054 -0.105845  0.173223 -0.063279   \n",
       "\n",
       "              v7        v8        v9       v10       v11       v12       v13  \\\n",
       "time    0.085335 -0.038203 -0.007861  0.031068 -0.248536  0.125500 -0.065958   \n",
       "v1     -0.009173 -0.001168  0.001828  0.000815  0.001028 -0.001524 -0.000568   \n",
       "v2      0.007425  0.002899 -0.000274  0.000620 -0.000633  0.002266  0.000680   \n",
       "v3     -0.011721 -0.001815 -0.003579 -0.009632  0.002339 -0.005900  0.000113   \n",
       "v4      0.004657  0.000890  0.002154  0.002753 -0.001223  0.003366  0.000177   \n",
       "v5     -0.008709  0.001430 -0.001213 -0.006050  0.000411 -0.002342  0.000019   \n",
       "v6      0.000436  0.003036 -0.000734 -0.002180 -0.000211 -0.001185  0.000397   \n",
       "v7      1.000000 -0.006419 -0.004921 -0.013617  0.002454 -0.006153 -0.000170   \n",
       "v8     -0.006419  1.000000  0.001038  0.000481  0.004688 -0.004414 -0.001381   \n",
       "v9     -0.004921  0.001038  1.000000 -0.012613 -0.000217 -0.002385  0.000745   \n",
       "v10    -0.013617  0.000481 -0.012613  1.000000  0.000844 -0.006942  0.001379   \n",
       "v11     0.002454  0.004688 -0.000217  0.000844  1.000000  0.005569  0.000455   \n",
       "v12    -0.006153 -0.004414 -0.002385 -0.006942  0.005569  1.000000 -0.000550   \n",
       "v13    -0.000170 -0.001381  0.000745  0.001379  0.000455 -0.000550  1.000000   \n",
       "v14    -0.003816 -0.008387  0.001981  0.000168  0.007713 -0.010007 -0.001133   \n",
       "v15    -0.001394  0.001044 -0.000283 -0.002293 -0.000872  0.000881  0.000234   \n",
       "v16    -0.005944 -0.004376 -0.000086 -0.003715  0.004751 -0.007372 -0.000807   \n",
       "v17    -0.008794 -0.005576 -0.002318 -0.007877  0.007353 -0.012856 -0.000170   \n",
       "v18    -0.004279 -0.001323 -0.000373 -0.002450  0.002095 -0.003464 -0.000155   \n",
       "v19     0.000846 -0.000626  0.000247  0.001067 -0.000488  0.000593  0.000086   \n",
       "v20    -0.001192  0.000271 -0.001838 -0.004448 -0.000989  0.001169  0.000379   \n",
       "v21     0.009010  0.018892  0.000679  0.003777 -0.002760  0.003285  0.000522   \n",
       "v22    -0.002280 -0.006156  0.000785 -0.000481 -0.000150  0.000151  0.000016   \n",
       "v23     0.003303  0.004994  0.000677  0.001917 -0.000037  0.000486  0.000252   \n",
       "v24    -0.000384  0.000113 -0.000103  0.000154  0.000080  0.000588 -0.000049   \n",
       "v25    -0.000072  0.000011 -0.000275 -0.000565  0.000047 -0.000181  0.000248   \n",
       "v26     0.000624 -0.001407  0.001253  0.001089 -0.000204 -0.000138 -0.000101   \n",
       "v27    -0.004537  0.000613  0.008221  0.010769  0.001987 -0.000929 -0.001577   \n",
       "v28     0.001657 -0.000099  0.005591  0.009159  0.002562 -0.000613 -0.000604   \n",
       "amount  0.400408 -0.104662 -0.044123 -0.102255 -0.000015 -0.009254  0.005209   \n",
       "class  -0.172347  0.033068 -0.094021 -0.206971  0.149067 -0.250711 -0.003897   \n",
       "hour    0.085335 -0.038203 -0.007861  0.031068 -0.248536  0.125500 -0.065958   \n",
       "\n",
       "             v14       v15       v16       v17       v18       v19       v20  \\\n",
       "time   -0.100316 -0.184392  0.011286 -0.073819  0.090305  0.029537 -0.051022   \n",
       "v1     -0.002663 -0.000602 -0.003345 -0.003491 -0.003535  0.000919 -0.001393   \n",
       "v2      0.002711  0.001538  0.004013  0.003244  0.002477 -0.000358 -0.001287   \n",
       "v3     -0.003027 -0.001230 -0.004430 -0.008159 -0.003495 -0.000016 -0.002269   \n",
       "v4      0.002801  0.000572  0.003346  0.003655  0.002325 -0.000560  0.000318   \n",
       "v5     -0.001000 -0.001171 -0.002373 -0.004466 -0.002685  0.000436 -0.001185   \n",
       "v6      0.000184 -0.000470  0.000122 -0.001716  0.000541  0.000106 -0.000181   \n",
       "v7     -0.003816 -0.001394 -0.005944 -0.008794 -0.004279  0.000846 -0.001192   \n",
       "v8     -0.008387  0.001044 -0.004376 -0.005576 -0.001323 -0.000626  0.000271   \n",
       "v9      0.001981 -0.000283 -0.000086 -0.002318 -0.000373  0.000247 -0.001838   \n",
       "v10     0.000168 -0.002293 -0.003715 -0.007877 -0.002450  0.001067 -0.004448   \n",
       "v11     0.007713 -0.000872  0.004751  0.007353  0.002095 -0.000488 -0.000989   \n",
       "v12    -0.010007  0.000881 -0.007372 -0.012856 -0.003464  0.000593  0.001169   \n",
       "v13    -0.001133  0.000234 -0.000807 -0.000170 -0.000155  0.000086  0.000379   \n",
       "v14     1.000000  0.000866 -0.009074 -0.013551 -0.004483  0.001587  0.002726   \n",
       "v15     0.000866  1.000000 -0.000283 -0.000174 -0.000426  0.000555 -0.000754   \n",
       "v16    -0.009074 -0.000283  1.000000 -0.009063 -0.005427  0.002432  0.001067   \n",
       "v17    -0.013551 -0.000174 -0.009063  1.000000 -0.005277  0.000989  0.001518   \n",
       "v18    -0.004483 -0.000426 -0.005427 -0.005277  1.000000 -0.000100 -0.000245   \n",
       "v19     0.001587  0.000555  0.002432  0.000989 -0.000100  1.000000 -0.000269   \n",
       "v20     0.002726 -0.000754  0.001067  0.001518 -0.000245 -0.000269  1.000000   \n",
       "v21     0.005633 -0.000271  0.004326  0.003560  0.001629  0.000244  0.005372   \n",
       "v22    -0.001906 -0.001197 -0.000820 -0.000162 -0.000533  0.001342 -0.001617   \n",
       "v23     0.000666  0.000969  0.001209  0.000667  0.000240  0.000381 -0.001094   \n",
       "v24    -0.000026  0.000113 -0.000482  0.001006 -0.000710 -0.000112 -0.000303   \n",
       "v25     0.000155  0.000445  0.000215 -0.000685 -0.000559 -0.000084 -0.000643   \n",
       "v26    -0.000702 -0.002034 -0.001245  0.000157 -0.000596  0.000856 -0.000310   \n",
       "v27    -0.004556 -0.000641 -0.003974 -0.003421 -0.004231 -0.000544 -0.000049   \n",
       "v28    -0.004664  0.000858 -0.001629 -0.002703 -0.001256  0.000353  0.002671   \n",
       "amount  0.034122 -0.003265 -0.004488  0.007730  0.035775 -0.055994  0.340729   \n",
       "class  -0.293375 -0.003300 -0.187186 -0.313498 -0.105340  0.033631  0.021486   \n",
       "hour   -0.100316 -0.184392  0.011286 -0.073819  0.090305  0.029537 -0.051022   \n",
       "\n",
       "             v21       v22       v23       v24       v25       v26       v27  \\\n",
       "time    0.045913  0.143727  0.051474 -0.015954 -0.233262 -0.041818 -0.005171   \n",
       "v1      0.002818 -0.001436 -0.001330 -0.000723 -0.000222 -0.000684 -0.015706   \n",
       "v2     -0.004897  0.001237 -0.003855  0.000701 -0.001569  0.000253  0.007555   \n",
       "v3      0.003500 -0.000275  0.000449 -0.000072  0.000425 -0.000094 -0.007051   \n",
       "v4     -0.001034  0.000115  0.000732 -0.000120  0.000162  0.000777  0.001322   \n",
       "v5      0.001622 -0.000559  0.001183  0.000198  0.000069  0.000390 -0.005798   \n",
       "v6     -0.002134  0.001104 -0.000755  0.001202  0.000697 -0.000028  0.000289   \n",
       "v7      0.009010 -0.002280  0.003303 -0.000384 -0.000072  0.000624 -0.004537   \n",
       "v8      0.018892 -0.006156  0.004994  0.000113  0.000011 -0.001407  0.000613   \n",
       "v9      0.000679  0.000785  0.000677 -0.000103 -0.000275  0.001253  0.008221   \n",
       "v10     0.003777 -0.000481  0.001917  0.000154 -0.000565  0.001089  0.010769   \n",
       "v11    -0.002760 -0.000150 -0.000037  0.000080  0.000047 -0.000204  0.001987   \n",
       "v12     0.003285  0.000151  0.000486  0.000588 -0.000181 -0.000138 -0.000929   \n",
       "v13     0.000522  0.000016  0.000252 -0.000049  0.000248 -0.000101 -0.001577   \n",
       "v14     0.005633 -0.001906  0.000666 -0.000026  0.000155 -0.000702 -0.004556   \n",
       "v15    -0.000271 -0.001197  0.000969  0.000113  0.000445 -0.002034 -0.000641   \n",
       "v16     0.004326 -0.000820  0.001209 -0.000482  0.000215 -0.001245 -0.003974   \n",
       "v17     0.003560 -0.000162  0.000667  0.001006 -0.000685  0.000157 -0.003421   \n",
       "v18     0.001629 -0.000533  0.000240 -0.000710 -0.000559 -0.000596 -0.004231   \n",
       "v19     0.000244  0.001342  0.000381 -0.000112 -0.000084  0.000856 -0.000544   \n",
       "v20     0.005372 -0.001617 -0.001094 -0.000303 -0.000643 -0.000310 -0.000049   \n",
       "v21     1.000000  0.009645 -0.006391  0.001210 -0.000872 -0.000874 -0.005216   \n",
       "v22     0.009645  1.000000  0.001929 -0.000031  0.000197 -0.001495  0.003037   \n",
       "v23    -0.006391  0.001929  1.000000  0.000273 -0.000532 -0.000185 -0.002028   \n",
       "v24     0.001210 -0.000031  0.000273  1.000000 -0.000188  0.000568 -0.000885   \n",
       "v25    -0.000872  0.000197 -0.000532 -0.000188  1.000000  0.000048 -0.001339   \n",
       "v26    -0.000874 -0.001495 -0.000185  0.000568  0.000048  1.000000 -0.003294   \n",
       "v27    -0.005216  0.003037 -0.002028 -0.000885 -0.001339 -0.003294  1.000000   \n",
       "v28    -0.004436  0.001392 -0.003224  0.000322 -0.000565 -0.000999 -0.013950   \n",
       "amount  0.108058 -0.064965 -0.112833  0.005055 -0.047596 -0.003425  0.027922   \n",
       "class   0.026357  0.004887 -0.006333 -0.007210  0.003202  0.004265  0.021892   \n",
       "hour    0.045913  0.143727  0.051474 -0.015954 -0.233262 -0.041818 -0.005171   \n",
       "\n",
       "             v28    amount     class      hour  \n",
       "time   -0.009305 -0.010559 -0.012359  1.000000  \n",
       "v1     -0.004861 -0.230105 -0.094486  0.117927  \n",
       "v2      0.001611 -0.533428  0.084624 -0.010556  \n",
       "v3     -0.000134 -0.212410 -0.182322 -0.422054  \n",
       "v4      0.000231  0.099514  0.129326 -0.105845  \n",
       "v5     -0.000820 -0.387685 -0.087812  0.173223  \n",
       "v6      0.000925  0.216389 -0.043915 -0.063279  \n",
       "v7      0.001657  0.400408 -0.172347  0.085335  \n",
       "v8     -0.000099 -0.104662  0.033068 -0.038203  \n",
       "v9      0.005591 -0.044123 -0.094021 -0.007861  \n",
       "v10     0.009159 -0.102255 -0.206971  0.031068  \n",
       "v11     0.002562 -0.000015  0.149067 -0.248536  \n",
       "v12    -0.000613 -0.009254 -0.250711  0.125500  \n",
       "v13    -0.000604  0.005209 -0.003897 -0.065958  \n",
       "v14    -0.004664  0.034122 -0.293375 -0.100316  \n",
       "v15     0.000858 -0.003265 -0.003300 -0.184392  \n",
       "v16    -0.001629 -0.004488 -0.187186  0.011286  \n",
       "v17    -0.002703  0.007730 -0.313498 -0.073819  \n",
       "v18    -0.001256  0.035775 -0.105340  0.090305  \n",
       "v19     0.000353 -0.055994  0.033631  0.029537  \n",
       "v20     0.002671  0.340729  0.021486 -0.051022  \n",
       "v21    -0.004436  0.108058  0.026357  0.045913  \n",
       "v22     0.001392 -0.064965  0.004887  0.143727  \n",
       "v23    -0.003224 -0.112833 -0.006333  0.051474  \n",
       "v24     0.000322  0.005055 -0.007210 -0.015954  \n",
       "v25    -0.000565 -0.047596  0.003202 -0.233262  \n",
       "v26    -0.000999 -0.003425  0.004265 -0.041818  \n",
       "v27    -0.013950  0.027922  0.021892 -0.005171  \n",
       "v28     1.000000  0.010143  0.009682 -0.009305  \n",
       "amount  0.010143  1.000000  0.005777 -0.010559  \n",
       "class   0.009682  0.005777  1.000000 -0.012359  \n",
       "hour   -0.009305 -0.010559 -0.012359  1.000000  "
      ]
     },
     "execution_count": 44,
     "metadata": {},
     "output_type": "execute_result"
    }
   ],
   "source": [
    "pd.set_option('display.max_columns' , 500)\n",
    "df.corr()"
   ]
  },
  {
   "cell_type": "code",
   "execution_count": 45,
   "metadata": {},
   "outputs": [
    {
     "data": {
      "image/png": "[encoded data removed]",
      "text/plain": [
       "<Figure size 1080x1080 with 2 Axes>"
      ]
     },
     "metadata": {
      "needs_background": "light"
     },
     "output_type": "display_data"
    }
   ],
   "source": [
    "# Plotting a Correlation Plot to observe any correlations or patterns between the columns if the dataset.\n",
    "\n",
    "corr_matrix = df.corr()\n",
    "plot = plt.figure(figsize = (15,15))\n",
    "sns.heatmap(corr_matrix) # seaborn Library\n",
    "plt.show()"
   ]
  },
  {
   "cell_type": "code",
   "execution_count": 46,
   "metadata": {},
   "outputs": [
    {
     "data": {
      "image/png": "[encoded data removed]",
      "text/plain": [
       "<Figure size 432x288 with 1 Axes>"
      ]
     },
     "metadata": {
      "needs_background": "light"
     },
     "output_type": "display_data"
    },
    {
     "data": {
      "image/png": "[encoded data removed]",
      "text/plain": [
       "<Figure size 432x288 with 1 Axes>"
      ]
     },
     "metadata": {
      "needs_background": "light"
     },
     "output_type": "display_data"
    },
    {
     "data": {
      "image/png": "[encoded data removed]",
      "text/plain": [
       "<Figure size 432x288 with 1 Axes>"
      ]
     },
     "metadata": {
      "needs_background": "light"
     },
     "output_type": "display_data"
    },
    {
     "data": {
      "image/png": "[encoded data removed]",
      "text/plain": [
       "<Figure size 432x288 with 1 Axes>"
      ]
     },
     "metadata": {
      "needs_background": "light"
     },
     "output_type": "display_data"
    },
    {
     "data": {
      "image/png": "[encoded data removed]",
      "text/plain": [
       "<Figure size 432x288 with 1 Axes>"
      ]
     },
     "metadata": {
      "needs_background": "light"
     },
     "output_type": "display_data"
    },
    {
     "data": {
      "image/png": "[encoded data removed]",
      "text/plain": [
       "<Figure size 432x288 with 1 Axes>"
      ]
     },
     "metadata": {
      "needs_background": "light"
     },
     "output_type": "display_data"
    },
    {
     "data": {
      "image/png": "[encoded data removed]",
      "text/plain": [
       "<Figure size 432x288 with 1 Axes>"
      ]
     },
     "metadata": {
      "needs_background": "light"
     },
     "output_type": "display_data"
    },
    {
     "data": {
      "image/png": "[encoded data removed]",
      "text/plain": [
       "<Figure size 432x288 with 1 Axes>"
      ]
     },
     "metadata": {
      "needs_background": "light"
     },
     "output_type": "display_data"
    },
    {
     "data": {
      "image/png": "[encoded data removed]",
      "text/plain": [
       "<Figure size 432x288 with 1 Axes>"
      ]
     },
     "metadata": {
      "needs_background": "light"
     },
     "output_type": "display_data"
    },
    {
     "data": {
      "image/png": "[encoded data removed]",
      "text/plain": [
       "<Figure size 432x288 with 1 Axes>"
      ]
     },
     "metadata": {
      "needs_background": "light"
     },
     "output_type": "display_data"
    },
    {
     "data": {
      "image/png": "[encoded data removed]",
      "text/plain": [
       "<Figure size 432x288 with 1 Axes>"
      ]
     },
     "metadata": {
      "needs_background": "light"
     },
     "output_type": "display_data"
    },
    {
     "data": {
      "image/png": "[encoded data removed]",
      "text/plain": [
       "<Figure size 432x288 with 1 Axes>"
      ]
     },
     "metadata": {
      "needs_background": "light"
     },
     "output_type": "display_data"
    },
    {
     "data": {
      "image/png": "[encoded data removed]",
      "text/plain": [
       "<Figure size 432x288 with 1 Axes>"
      ]
     },
     "metadata": {
      "needs_background": "light"
     },
     "output_type": "display_data"
    },
    {
     "data": {
      "image/png": "[encoded data removed]",
      "text/plain": [
       "<Figure size 432x288 with 1 Axes>"
      ]
     },
     "metadata": {
      "needs_background": "light"
     },
     "output_type": "display_data"
    },
    {
     "data": {
      "image/png": "[encoded data removed]",
      "text/plain": [
       "<Figure size 432x288 with 1 Axes>"
      ]
     },
     "metadata": {
      "needs_background": "light"
     },
     "output_type": "display_data"
    },
    {
     "data": {
      "image/png": "[encoded data removed]",
      "text/plain": [
       "<Figure size 432x288 with 1 Axes>"
      ]
     },
     "metadata": {
      "needs_background": "light"
     },
     "output_type": "display_data"
    },
    {
     "data": {
      "image/png": "[encoded data removed]",
      "text/plain": [
       "<Figure size 432x288 with 1 Axes>"
      ]
     },
     "metadata": {
      "needs_background": "light"
     },
     "output_type": "display_data"
    },
    {
     "data": {
      "image/png": "[encoded data removed]",
      "text/plain": [
       "<Figure size 432x288 with 1 Axes>"
      ]
     },
     "metadata": {
      "needs_background": "light"
     },
     "output_type": "display_data"
    },
    {
     "data": {
      "image/png": "[encoded data removed]",
      "text/plain": [
       "<Figure size 432x288 with 1 Axes>"
      ]
     },
     "metadata": {
      "needs_background": "light"
     },
     "output_type": "display_data"
    },
    {
     "data": {
      "image/png": "[encoded data removed]",
      "text/plain": [
       "<Figure size 432x288 with 1 Axes>"
      ]
     },
     "metadata": {
      "needs_background": "light"
     },
     "output_type": "display_data"
    },
    {
     "data": {
      "image/png": "[encoded data removed]",
      "text/plain": [
       "<Figure size 432x288 with 1 Axes>"
      ]
     },
     "metadata": {
      "needs_background": "light"
     },
     "output_type": "display_data"
    },
    {
     "data": {
      "image/png": "[encoded data removed]",
      "text/plain": [
       "<Figure size 432x288 with 1 Axes>"
      ]
     },
     "metadata": {
      "needs_background": "light"
     },
     "output_type": "display_data"
    },
    {
     "data": {
      "image/png": "[encoded data removed]",
      "text/plain": [
       "<Figure size 432x288 with 1 Axes>"
      ]
     },
     "metadata": {
      "needs_background": "light"
     },
     "output_type": "display_data"
    },
    {
     "data": {
      "image/png": "[encoded data removed]",
      "text/plain": [
       "<Figure size 432x288 with 1 Axes>"
      ]
     },
     "metadata": {
      "needs_background": "light"
     },
     "output_type": "display_data"
    },
    {
     "data": {
      "image/png": "[encoded data removed]",
      "text/plain": [
       "<Figure size 432x288 with 1 Axes>"
      ]
     },
     "metadata": {
      "needs_background": "light"
     },
     "output_type": "display_data"
    },
    {
     "data": {
      "image/png": "[encoded data removed]",
      "text/plain": [
       "<Figure size 432x288 with 1 Axes>"
      ]
     },
     "metadata": {
      "needs_background": "light"
     },
     "output_type": "display_data"
    },
    {
     "data": {
      "image/png": "[encoded data removed]",
      "text/plain": [
       "<Figure size 432x288 with 1 Axes>"
      ]
     },
     "metadata": {
      "needs_background": "light"
     },
     "output_type": "display_data"
    },
    {
     "data": {
      "image/png": "[encoded data removed]",
      "text/plain": [
       "<Figure size 432x288 with 1 Axes>"
      ]
     },
     "metadata": {
      "needs_background": "light"
     },
     "output_type": "display_data"
    },
    {
     "data": {
      "image/png": "[encoded data removed]",
      "text/plain": [
       "<Figure size 432x288 with 1 Axes>"
      ]
     },
     "metadata": {
      "needs_background": "light"
     },
     "output_type": "display_data"
    },
    {
     "data": {
      "image/png": "[encoded data removed]",
      "text/plain": [
       "<Figure size 432x288 with 1 Axes>"
      ]
     },
     "metadata": {
      "needs_background": "light"
     },
     "output_type": "display_data"
    },
    {
     "data": {
      "image/png": "[encoded data removed]",
      "text/plain": [
       "<Figure size 432x288 with 1 Axes>"
      ]
     },
     "metadata": {
      "needs_background": "light"
     },
     "output_type": "display_data"
    },
    {
     "data": {
      "image/png": "[encoded data removed]",
      "text/plain": [
       "<Figure size 432x288 with 1 Axes>"
      ]
     },
     "metadata": {
      "needs_background": "light"
     },
     "output_type": "display_data"
    }
   ],
   "source": [
    "# Finally let's also plot a box plot for observing if columns have some outliers , or a particular column is messy\n",
    "for col in df.columns:\n",
    "    plt.figure()\n",
    "    df[col].plot(kind = 'box')"
   ]
  },
  {
   "cell_type": "code",
   "execution_count": null,
   "metadata": {},
   "outputs": [],
   "source": []
  },
  {
   "cell_type": "markdown",
   "metadata": {},
   "source": [
    "# Common Preprocessing Steps \n",
    "\n",
    "1. __Identify and Handle Null Values__ : ?/ NaN / NULL / Blank\n",
    "   - i. Drop values df.dropna(axis = 0/1 , inplace , subset=['col'] )\n",
    "   - ii. Replace with Mean , Mode or any other logical values as needed\n",
    "2. __Data Formatting and Standardising data types__ : Calcutta / Kolkata , String Values for Price\n",
    "    - i. df['col'] = df['col'].astype('int / float')\n",
    "    - ii. Use dictionaries for Standardising\n",
    "3. __Data Normalisation and Scaling__ : Age vs Salary Variability\n",
    "    i. StandardScaler() , RobustScaler() , Fix Mean to 0 and Variance to 1\n",
    "4. __Binning Data for better Aggragation , Segmentation and Analysis__\n",
    "5. __Categorical values to Numerical Values Conversion__\n",
    "6. __Rename , Replace e.t.c__"
   ]
  },
  {
   "cell_type": "markdown",
   "metadata": {},
   "source": [
    "# After Observation we now fix the problems that we observed , also help in better visualisation \n",
    "\n",
    "#### First we create we create , modify and handle columns and then visualise again \n",
    "\n",
    "- 1. Handling the __*TIME*__ column\n",
    "- 2. Scaling and Binning the __*AMOUNT*__ column\n",
    "- 3. Solving the Imbalance of the __*CLASS*__ columns"
   ]
  },
  {
   "cell_type": "code",
   "execution_count": 47,
   "metadata": {},
   "outputs": [
    {
     "data": {
      "text/html": [
       "<div>\n",
       "<style scoped>\n",
       "    .dataframe tbody tr th:only-of-type {\n",
       "        vertical-align: middle;\n",
       "    }\n",
       "\n",
       "    .dataframe tbody tr th {\n",
       "        vertical-align: top;\n",
       "    }\n",
       "\n",
       "    .dataframe thead th {\n",
       "        text-align: right;\n",
       "    }\n",
       "</style>\n",
       "<table border=\"1\" class=\"dataframe\">\n",
       "  <thead>\n",
       "    <tr style=\"text-align: right;\">\n",
       "      <th></th>\n",
       "      <th>time</th>\n",
       "      <th>v1</th>\n",
       "      <th>v2</th>\n",
       "      <th>v3</th>\n",
       "      <th>v4</th>\n",
       "      <th>v5</th>\n",
       "      <th>v6</th>\n",
       "      <th>v7</th>\n",
       "      <th>v8</th>\n",
       "      <th>v9</th>\n",
       "      <th>v10</th>\n",
       "      <th>v11</th>\n",
       "      <th>v12</th>\n",
       "      <th>v13</th>\n",
       "      <th>v14</th>\n",
       "      <th>v15</th>\n",
       "      <th>v16</th>\n",
       "      <th>v17</th>\n",
       "      <th>v18</th>\n",
       "      <th>v19</th>\n",
       "      <th>v20</th>\n",
       "      <th>v21</th>\n",
       "      <th>v22</th>\n",
       "      <th>v23</th>\n",
       "      <th>v24</th>\n",
       "      <th>v25</th>\n",
       "      <th>v26</th>\n",
       "      <th>v27</th>\n",
       "      <th>v28</th>\n",
       "      <th>amount</th>\n",
       "      <th>class</th>\n",
       "      <th>hour</th>\n",
       "    </tr>\n",
       "  </thead>\n",
       "  <tbody>\n",
       "    <tr>\n",
       "      <td>0</td>\n",
       "      <td>0.0</td>\n",
       "      <td>-1.359807</td>\n",
       "      <td>-0.072781</td>\n",
       "      <td>2.536347</td>\n",
       "      <td>1.378155</td>\n",
       "      <td>-0.338321</td>\n",
       "      <td>0.462388</td>\n",
       "      <td>0.239599</td>\n",
       "      <td>0.098698</td>\n",
       "      <td>0.363787</td>\n",
       "      <td>0.090794</td>\n",
       "      <td>-0.551600</td>\n",
       "      <td>-0.617801</td>\n",
       "      <td>-0.991390</td>\n",
       "      <td>-0.311169</td>\n",
       "      <td>1.468177</td>\n",
       "      <td>-0.470401</td>\n",
       "      <td>0.207971</td>\n",
       "      <td>0.025791</td>\n",
       "      <td>0.403993</td>\n",
       "      <td>0.251412</td>\n",
       "      <td>-0.018307</td>\n",
       "      <td>0.277838</td>\n",
       "      <td>-0.110474</td>\n",
       "      <td>0.066928</td>\n",
       "      <td>0.128539</td>\n",
       "      <td>-0.189115</td>\n",
       "      <td>0.133558</td>\n",
       "      <td>-0.021053</td>\n",
       "      <td>149.62</td>\n",
       "      <td>0</td>\n",
       "      <td>0.000000</td>\n",
       "    </tr>\n",
       "    <tr>\n",
       "      <td>1</td>\n",
       "      <td>0.0</td>\n",
       "      <td>1.191857</td>\n",
       "      <td>0.266151</td>\n",
       "      <td>0.166480</td>\n",
       "      <td>0.448154</td>\n",
       "      <td>0.060018</td>\n",
       "      <td>-0.082361</td>\n",
       "      <td>-0.078803</td>\n",
       "      <td>0.085102</td>\n",
       "      <td>-0.255425</td>\n",
       "      <td>-0.166974</td>\n",
       "      <td>1.612727</td>\n",
       "      <td>1.065235</td>\n",
       "      <td>0.489095</td>\n",
       "      <td>-0.143772</td>\n",
       "      <td>0.635558</td>\n",
       "      <td>0.463917</td>\n",
       "      <td>-0.114805</td>\n",
       "      <td>-0.183361</td>\n",
       "      <td>-0.145783</td>\n",
       "      <td>-0.069083</td>\n",
       "      <td>-0.225775</td>\n",
       "      <td>-0.638672</td>\n",
       "      <td>0.101288</td>\n",
       "      <td>-0.339846</td>\n",
       "      <td>0.167170</td>\n",
       "      <td>0.125895</td>\n",
       "      <td>-0.008983</td>\n",
       "      <td>0.014724</td>\n",
       "      <td>2.69</td>\n",
       "      <td>0</td>\n",
       "      <td>0.000000</td>\n",
       "    </tr>\n",
       "    <tr>\n",
       "      <td>2</td>\n",
       "      <td>1.0</td>\n",
       "      <td>-1.358354</td>\n",
       "      <td>-1.340163</td>\n",
       "      <td>1.773209</td>\n",
       "      <td>0.379780</td>\n",
       "      <td>-0.503198</td>\n",
       "      <td>1.800499</td>\n",
       "      <td>0.791461</td>\n",
       "      <td>0.247676</td>\n",
       "      <td>-1.514654</td>\n",
       "      <td>0.207643</td>\n",
       "      <td>0.624501</td>\n",
       "      <td>0.066084</td>\n",
       "      <td>0.717293</td>\n",
       "      <td>-0.165946</td>\n",
       "      <td>2.345865</td>\n",
       "      <td>-2.890083</td>\n",
       "      <td>1.109969</td>\n",
       "      <td>-0.121359</td>\n",
       "      <td>-2.261857</td>\n",
       "      <td>0.524980</td>\n",
       "      <td>0.247998</td>\n",
       "      <td>0.771679</td>\n",
       "      <td>0.909412</td>\n",
       "      <td>-0.689281</td>\n",
       "      <td>-0.327642</td>\n",
       "      <td>-0.139097</td>\n",
       "      <td>-0.055353</td>\n",
       "      <td>-0.059752</td>\n",
       "      <td>378.66</td>\n",
       "      <td>0</td>\n",
       "      <td>0.000278</td>\n",
       "    </tr>\n",
       "    <tr>\n",
       "      <td>3</td>\n",
       "      <td>1.0</td>\n",
       "      <td>-0.966272</td>\n",
       "      <td>-0.185226</td>\n",
       "      <td>1.792993</td>\n",
       "      <td>-0.863291</td>\n",
       "      <td>-0.010309</td>\n",
       "      <td>1.247203</td>\n",
       "      <td>0.237609</td>\n",
       "      <td>0.377436</td>\n",
       "      <td>-1.387024</td>\n",
       "      <td>-0.054952</td>\n",
       "      <td>-0.226487</td>\n",
       "      <td>0.178228</td>\n",
       "      <td>0.507757</td>\n",
       "      <td>-0.287924</td>\n",
       "      <td>-0.631418</td>\n",
       "      <td>-1.059647</td>\n",
       "      <td>-0.684093</td>\n",
       "      <td>1.965775</td>\n",
       "      <td>-1.232622</td>\n",
       "      <td>-0.208038</td>\n",
       "      <td>-0.108300</td>\n",
       "      <td>0.005274</td>\n",
       "      <td>-0.190321</td>\n",
       "      <td>-1.175575</td>\n",
       "      <td>0.647376</td>\n",
       "      <td>-0.221929</td>\n",
       "      <td>0.062723</td>\n",
       "      <td>0.061458</td>\n",
       "      <td>123.50</td>\n",
       "      <td>0</td>\n",
       "      <td>0.000278</td>\n",
       "    </tr>\n",
       "    <tr>\n",
       "      <td>4</td>\n",
       "      <td>2.0</td>\n",
       "      <td>-1.158233</td>\n",
       "      <td>0.877737</td>\n",
       "      <td>1.548718</td>\n",
       "      <td>0.403034</td>\n",
       "      <td>-0.407193</td>\n",
       "      <td>0.095921</td>\n",
       "      <td>0.592941</td>\n",
       "      <td>-0.270533</td>\n",
       "      <td>0.817739</td>\n",
       "      <td>0.753074</td>\n",
       "      <td>-0.822843</td>\n",
       "      <td>0.538196</td>\n",
       "      <td>1.345852</td>\n",
       "      <td>-1.119670</td>\n",
       "      <td>0.175121</td>\n",
       "      <td>-0.451449</td>\n",
       "      <td>-0.237033</td>\n",
       "      <td>-0.038195</td>\n",
       "      <td>0.803487</td>\n",
       "      <td>0.408542</td>\n",
       "      <td>-0.009431</td>\n",
       "      <td>0.798278</td>\n",
       "      <td>-0.137458</td>\n",
       "      <td>0.141267</td>\n",
       "      <td>-0.206010</td>\n",
       "      <td>0.502292</td>\n",
       "      <td>0.219422</td>\n",
       "      <td>0.215153</td>\n",
       "      <td>69.99</td>\n",
       "      <td>0</td>\n",
       "      <td>0.000556</td>\n",
       "    </tr>\n",
       "  </tbody>\n",
       "</table>\n",
       "</div>"
      ],
      "text/plain": [
       "   time        v1        v2        v3        v4        v5        v6        v7  \\\n",
       "0   0.0 -1.359807 -0.072781  2.536347  1.378155 -0.338321  0.462388  0.239599   \n",
       "1   0.0  1.191857  0.266151  0.166480  0.448154  0.060018 -0.082361 -0.078803   \n",
       "2   1.0 -1.358354 -1.340163  1.773209  0.379780 -0.503198  1.800499  0.791461   \n",
       "3   1.0 -0.966272 -0.185226  1.792993 -0.863291 -0.010309  1.247203  0.237609   \n",
       "4   2.0 -1.158233  0.877737  1.548718  0.403034 -0.407193  0.095921  0.592941   \n",
       "\n",
       "         v8        v9       v10       v11       v12       v13       v14  \\\n",
       "0  0.098698  0.363787  0.090794 -0.551600 -0.617801 -0.991390 -0.311169   \n",
       "1  0.085102 -0.255425 -0.166974  1.612727  1.065235  0.489095 -0.143772   \n",
       "2  0.247676 -1.514654  0.207643  0.624501  0.066084  0.717293 -0.165946   \n",
       "3  0.377436 -1.387024 -0.054952 -0.226487  0.178228  0.507757 -0.287924   \n",
       "4 -0.270533  0.817739  0.753074 -0.822843  0.538196  1.345852 -1.119670   \n",
       "\n",
       "        v15       v16       v17       v18       v19       v20       v21  \\\n",
       "0  1.468177 -0.470401  0.207971  0.025791  0.403993  0.251412 -0.018307   \n",
       "1  0.635558  0.463917 -0.114805 -0.183361 -0.145783 -0.069083 -0.225775   \n",
       "2  2.345865 -2.890083  1.109969 -0.121359 -2.261857  0.524980  0.247998   \n",
       "3 -0.631418 -1.059647 -0.684093  1.965775 -1.232622 -0.208038 -0.108300   \n",
       "4  0.175121 -0.451449 -0.237033 -0.038195  0.803487  0.408542 -0.009431   \n",
       "\n",
       "        v22       v23       v24       v25       v26       v27       v28  \\\n",
       "0  0.277838 -0.110474  0.066928  0.128539 -0.189115  0.133558 -0.021053   \n",
       "1 -0.638672  0.101288 -0.339846  0.167170  0.125895 -0.008983  0.014724   \n",
       "2  0.771679  0.909412 -0.689281 -0.327642 -0.139097 -0.055353 -0.059752   \n",
       "3  0.005274 -0.190321 -1.175575  0.647376 -0.221929  0.062723  0.061458   \n",
       "4  0.798278 -0.137458  0.141267 -0.206010  0.502292  0.219422  0.215153   \n",
       "\n",
       "   amount  class      hour  \n",
       "0  149.62      0  0.000000  \n",
       "1    2.69      0  0.000000  \n",
       "2  378.66      0  0.000278  \n",
       "3  123.50      0  0.000278  \n",
       "4   69.99      0  0.000556  "
      ]
     },
     "execution_count": 47,
     "metadata": {},
     "output_type": "execute_result"
    }
   ],
   "source": [
    "### Processing the Time Column\n",
    "df['hour'] = df['time']/(60*60)%24   # 2 days of data\n",
    "df.head()"
   ]
  },
  {
   "cell_type": "code",
   "execution_count": 48,
   "metadata": {},
   "outputs": [
    {
     "data": {
      "text/plain": [
       "count    283726.000000\n",
       "mean         14.537139\n",
       "std           5.846094\n",
       "min           0.000000\n",
       "25%          10.597500\n",
       "50%          15.008889\n",
       "75%          19.329167\n",
       "max          23.999444\n",
       "Name: hour, dtype: float64"
      ]
     },
     "execution_count": 48,
     "metadata": {},
     "output_type": "execute_result"
    }
   ],
   "source": [
    "df['hour'].describe()"
   ]
  },
  {
   "cell_type": "code",
   "execution_count": 49,
   "metadata": {},
   "outputs": [
    {
     "data": {
      "text/html": [
       "<div>\n",
       "<style scoped>\n",
       "    .dataframe tbody tr th:only-of-type {\n",
       "        vertical-align: middle;\n",
       "    }\n",
       "\n",
       "    .dataframe tbody tr th {\n",
       "        vertical-align: top;\n",
       "    }\n",
       "\n",
       "    .dataframe thead th {\n",
       "        text-align: right;\n",
       "    }\n",
       "</style>\n",
       "<table border=\"1\" class=\"dataframe\">\n",
       "  <thead>\n",
       "    <tr style=\"text-align: right;\">\n",
       "      <th></th>\n",
       "      <th>time</th>\n",
       "      <th>v1</th>\n",
       "      <th>v2</th>\n",
       "      <th>v3</th>\n",
       "      <th>v4</th>\n",
       "      <th>v5</th>\n",
       "      <th>v6</th>\n",
       "      <th>v7</th>\n",
       "      <th>v8</th>\n",
       "      <th>v9</th>\n",
       "      <th>v10</th>\n",
       "      <th>v11</th>\n",
       "      <th>v12</th>\n",
       "      <th>v13</th>\n",
       "      <th>v14</th>\n",
       "      <th>v15</th>\n",
       "      <th>v16</th>\n",
       "      <th>v17</th>\n",
       "      <th>v18</th>\n",
       "      <th>v19</th>\n",
       "      <th>v20</th>\n",
       "      <th>v21</th>\n",
       "      <th>v22</th>\n",
       "      <th>v23</th>\n",
       "      <th>v24</th>\n",
       "      <th>v25</th>\n",
       "      <th>v26</th>\n",
       "      <th>v27</th>\n",
       "      <th>v28</th>\n",
       "      <th>amount</th>\n",
       "      <th>class</th>\n",
       "      <th>hour</th>\n",
       "    </tr>\n",
       "  </thead>\n",
       "  <tbody>\n",
       "    <tr>\n",
       "      <td>0</td>\n",
       "      <td>0.0</td>\n",
       "      <td>-1.359807</td>\n",
       "      <td>-0.072781</td>\n",
       "      <td>2.536347</td>\n",
       "      <td>1.378155</td>\n",
       "      <td>-0.338321</td>\n",
       "      <td>0.462388</td>\n",
       "      <td>0.239599</td>\n",
       "      <td>0.098698</td>\n",
       "      <td>0.363787</td>\n",
       "      <td>0.090794</td>\n",
       "      <td>-0.551600</td>\n",
       "      <td>-0.617801</td>\n",
       "      <td>-0.991390</td>\n",
       "      <td>-0.311169</td>\n",
       "      <td>1.468177</td>\n",
       "      <td>-0.470401</td>\n",
       "      <td>0.207971</td>\n",
       "      <td>0.025791</td>\n",
       "      <td>0.403993</td>\n",
       "      <td>0.251412</td>\n",
       "      <td>-0.018307</td>\n",
       "      <td>0.277838</td>\n",
       "      <td>-0.110474</td>\n",
       "      <td>0.066928</td>\n",
       "      <td>0.128539</td>\n",
       "      <td>-0.189115</td>\n",
       "      <td>0.133558</td>\n",
       "      <td>-0.021053</td>\n",
       "      <td>149.62</td>\n",
       "      <td>0</td>\n",
       "      <td>0</td>\n",
       "    </tr>\n",
       "    <tr>\n",
       "      <td>1</td>\n",
       "      <td>0.0</td>\n",
       "      <td>1.191857</td>\n",
       "      <td>0.266151</td>\n",
       "      <td>0.166480</td>\n",
       "      <td>0.448154</td>\n",
       "      <td>0.060018</td>\n",
       "      <td>-0.082361</td>\n",
       "      <td>-0.078803</td>\n",
       "      <td>0.085102</td>\n",
       "      <td>-0.255425</td>\n",
       "      <td>-0.166974</td>\n",
       "      <td>1.612727</td>\n",
       "      <td>1.065235</td>\n",
       "      <td>0.489095</td>\n",
       "      <td>-0.143772</td>\n",
       "      <td>0.635558</td>\n",
       "      <td>0.463917</td>\n",
       "      <td>-0.114805</td>\n",
       "      <td>-0.183361</td>\n",
       "      <td>-0.145783</td>\n",
       "      <td>-0.069083</td>\n",
       "      <td>-0.225775</td>\n",
       "      <td>-0.638672</td>\n",
       "      <td>0.101288</td>\n",
       "      <td>-0.339846</td>\n",
       "      <td>0.167170</td>\n",
       "      <td>0.125895</td>\n",
       "      <td>-0.008983</td>\n",
       "      <td>0.014724</td>\n",
       "      <td>2.69</td>\n",
       "      <td>0</td>\n",
       "      <td>0</td>\n",
       "    </tr>\n",
       "    <tr>\n",
       "      <td>2</td>\n",
       "      <td>1.0</td>\n",
       "      <td>-1.358354</td>\n",
       "      <td>-1.340163</td>\n",
       "      <td>1.773209</td>\n",
       "      <td>0.379780</td>\n",
       "      <td>-0.503198</td>\n",
       "      <td>1.800499</td>\n",
       "      <td>0.791461</td>\n",
       "      <td>0.247676</td>\n",
       "      <td>-1.514654</td>\n",
       "      <td>0.207643</td>\n",
       "      <td>0.624501</td>\n",
       "      <td>0.066084</td>\n",
       "      <td>0.717293</td>\n",
       "      <td>-0.165946</td>\n",
       "      <td>2.345865</td>\n",
       "      <td>-2.890083</td>\n",
       "      <td>1.109969</td>\n",
       "      <td>-0.121359</td>\n",
       "      <td>-2.261857</td>\n",
       "      <td>0.524980</td>\n",
       "      <td>0.247998</td>\n",
       "      <td>0.771679</td>\n",
       "      <td>0.909412</td>\n",
       "      <td>-0.689281</td>\n",
       "      <td>-0.327642</td>\n",
       "      <td>-0.139097</td>\n",
       "      <td>-0.055353</td>\n",
       "      <td>-0.059752</td>\n",
       "      <td>378.66</td>\n",
       "      <td>0</td>\n",
       "      <td>0</td>\n",
       "    </tr>\n",
       "    <tr>\n",
       "      <td>3</td>\n",
       "      <td>1.0</td>\n",
       "      <td>-0.966272</td>\n",
       "      <td>-0.185226</td>\n",
       "      <td>1.792993</td>\n",
       "      <td>-0.863291</td>\n",
       "      <td>-0.010309</td>\n",
       "      <td>1.247203</td>\n",
       "      <td>0.237609</td>\n",
       "      <td>0.377436</td>\n",
       "      <td>-1.387024</td>\n",
       "      <td>-0.054952</td>\n",
       "      <td>-0.226487</td>\n",
       "      <td>0.178228</td>\n",
       "      <td>0.507757</td>\n",
       "      <td>-0.287924</td>\n",
       "      <td>-0.631418</td>\n",
       "      <td>-1.059647</td>\n",
       "      <td>-0.684093</td>\n",
       "      <td>1.965775</td>\n",
       "      <td>-1.232622</td>\n",
       "      <td>-0.208038</td>\n",
       "      <td>-0.108300</td>\n",
       "      <td>0.005274</td>\n",
       "      <td>-0.190321</td>\n",
       "      <td>-1.175575</td>\n",
       "      <td>0.647376</td>\n",
       "      <td>-0.221929</td>\n",
       "      <td>0.062723</td>\n",
       "      <td>0.061458</td>\n",
       "      <td>123.50</td>\n",
       "      <td>0</td>\n",
       "      <td>0</td>\n",
       "    </tr>\n",
       "    <tr>\n",
       "      <td>4</td>\n",
       "      <td>2.0</td>\n",
       "      <td>-1.158233</td>\n",
       "      <td>0.877737</td>\n",
       "      <td>1.548718</td>\n",
       "      <td>0.403034</td>\n",
       "      <td>-0.407193</td>\n",
       "      <td>0.095921</td>\n",
       "      <td>0.592941</td>\n",
       "      <td>-0.270533</td>\n",
       "      <td>0.817739</td>\n",
       "      <td>0.753074</td>\n",
       "      <td>-0.822843</td>\n",
       "      <td>0.538196</td>\n",
       "      <td>1.345852</td>\n",
       "      <td>-1.119670</td>\n",
       "      <td>0.175121</td>\n",
       "      <td>-0.451449</td>\n",
       "      <td>-0.237033</td>\n",
       "      <td>-0.038195</td>\n",
       "      <td>0.803487</td>\n",
       "      <td>0.408542</td>\n",
       "      <td>-0.009431</td>\n",
       "      <td>0.798278</td>\n",
       "      <td>-0.137458</td>\n",
       "      <td>0.141267</td>\n",
       "      <td>-0.206010</td>\n",
       "      <td>0.502292</td>\n",
       "      <td>0.219422</td>\n",
       "      <td>0.215153</td>\n",
       "      <td>69.99</td>\n",
       "      <td>0</td>\n",
       "      <td>0</td>\n",
       "    </tr>\n",
       "  </tbody>\n",
       "</table>\n",
       "</div>"
      ],
      "text/plain": [
       "   time        v1        v2        v3        v4        v5        v6        v7  \\\n",
       "0   0.0 -1.359807 -0.072781  2.536347  1.378155 -0.338321  0.462388  0.239599   \n",
       "1   0.0  1.191857  0.266151  0.166480  0.448154  0.060018 -0.082361 -0.078803   \n",
       "2   1.0 -1.358354 -1.340163  1.773209  0.379780 -0.503198  1.800499  0.791461   \n",
       "3   1.0 -0.966272 -0.185226  1.792993 -0.863291 -0.010309  1.247203  0.237609   \n",
       "4   2.0 -1.158233  0.877737  1.548718  0.403034 -0.407193  0.095921  0.592941   \n",
       "\n",
       "         v8        v9       v10       v11       v12       v13       v14  \\\n",
       "0  0.098698  0.363787  0.090794 -0.551600 -0.617801 -0.991390 -0.311169   \n",
       "1  0.085102 -0.255425 -0.166974  1.612727  1.065235  0.489095 -0.143772   \n",
       "2  0.247676 -1.514654  0.207643  0.624501  0.066084  0.717293 -0.165946   \n",
       "3  0.377436 -1.387024 -0.054952 -0.226487  0.178228  0.507757 -0.287924   \n",
       "4 -0.270533  0.817739  0.753074 -0.822843  0.538196  1.345852 -1.119670   \n",
       "\n",
       "        v15       v16       v17       v18       v19       v20       v21  \\\n",
       "0  1.468177 -0.470401  0.207971  0.025791  0.403993  0.251412 -0.018307   \n",
       "1  0.635558  0.463917 -0.114805 -0.183361 -0.145783 -0.069083 -0.225775   \n",
       "2  2.345865 -2.890083  1.109969 -0.121359 -2.261857  0.524980  0.247998   \n",
       "3 -0.631418 -1.059647 -0.684093  1.965775 -1.232622 -0.208038 -0.108300   \n",
       "4  0.175121 -0.451449 -0.237033 -0.038195  0.803487  0.408542 -0.009431   \n",
       "\n",
       "        v22       v23       v24       v25       v26       v27       v28  \\\n",
       "0  0.277838 -0.110474  0.066928  0.128539 -0.189115  0.133558 -0.021053   \n",
       "1 -0.638672  0.101288 -0.339846  0.167170  0.125895 -0.008983  0.014724   \n",
       "2  0.771679  0.909412 -0.689281 -0.327642 -0.139097 -0.055353 -0.059752   \n",
       "3  0.005274 -0.190321 -1.175575  0.647376 -0.221929  0.062723  0.061458   \n",
       "4  0.798278 -0.137458  0.141267 -0.206010  0.502292  0.219422  0.215153   \n",
       "\n",
       "   amount  class  hour  \n",
       "0  149.62      0     0  \n",
       "1    2.69      0     0  \n",
       "2  378.66      0     0  \n",
       "3  123.50      0     0  \n",
       "4   69.99      0     0  "
      ]
     },
     "execution_count": 49,
     "metadata": {},
     "output_type": "execute_result"
    }
   ],
   "source": [
    "import math\n",
    "df['hour'] = df['hour'].apply(lambda x : math.floor(x))\n",
    "df.head()"
   ]
  },
  {
   "cell_type": "code",
   "execution_count": 50,
   "metadata": {},
   "outputs": [
    {
     "data": {
      "text/plain": [
       "count    283726.000000\n",
       "mean         14.045646\n",
       "std           5.834817\n",
       "min           0.000000\n",
       "25%          10.000000\n",
       "50%          15.000000\n",
       "75%          19.000000\n",
       "max          23.000000\n",
       "Name: hour, dtype: float64"
      ]
     },
     "execution_count": 50,
     "metadata": {},
     "output_type": "execute_result"
    }
   ],
   "source": [
    "df['hour'].describe()"
   ]
  },
  {
   "cell_type": "markdown",
   "metadata": {},
   "source": [
    "# Scale the Amount Column "
   ]
  },
  {
   "cell_type": "code",
   "execution_count": 51,
   "metadata": {},
   "outputs": [],
   "source": [
    "from sklearn.preprocessing import StandardScaler # importing a class from a module of a library\n",
    "ss = StandardScaler()"
   ]
  },
  {
   "cell_type": "code",
   "execution_count": 52,
   "metadata": {},
   "outputs": [
    {
     "data": {
      "text/html": [
       "<div>\n",
       "<style scoped>\n",
       "    .dataframe tbody tr th:only-of-type {\n",
       "        vertical-align: middle;\n",
       "    }\n",
       "\n",
       "    .dataframe tbody tr th {\n",
       "        vertical-align: top;\n",
       "    }\n",
       "\n",
       "    .dataframe thead th {\n",
       "        text-align: right;\n",
       "    }\n",
       "</style>\n",
       "<table border=\"1\" class=\"dataframe\">\n",
       "  <thead>\n",
       "    <tr style=\"text-align: right;\">\n",
       "      <th></th>\n",
       "      <th>time</th>\n",
       "      <th>v1</th>\n",
       "      <th>v2</th>\n",
       "      <th>v3</th>\n",
       "      <th>v4</th>\n",
       "      <th>v5</th>\n",
       "      <th>v6</th>\n",
       "      <th>v7</th>\n",
       "      <th>v8</th>\n",
       "      <th>v9</th>\n",
       "      <th>v10</th>\n",
       "      <th>v11</th>\n",
       "      <th>v12</th>\n",
       "      <th>v13</th>\n",
       "      <th>v14</th>\n",
       "      <th>v15</th>\n",
       "      <th>v16</th>\n",
       "      <th>v17</th>\n",
       "      <th>v18</th>\n",
       "      <th>v19</th>\n",
       "      <th>v20</th>\n",
       "      <th>v21</th>\n",
       "      <th>v22</th>\n",
       "      <th>v23</th>\n",
       "      <th>v24</th>\n",
       "      <th>v25</th>\n",
       "      <th>v26</th>\n",
       "      <th>v27</th>\n",
       "      <th>v28</th>\n",
       "      <th>amount</th>\n",
       "      <th>class</th>\n",
       "      <th>hour</th>\n",
       "      <th>amount_scaled</th>\n",
       "    </tr>\n",
       "  </thead>\n",
       "  <tbody>\n",
       "    <tr>\n",
       "      <td>0</td>\n",
       "      <td>0.0</td>\n",
       "      <td>-1.359807</td>\n",
       "      <td>-0.072781</td>\n",
       "      <td>2.536347</td>\n",
       "      <td>1.378155</td>\n",
       "      <td>-0.338321</td>\n",
       "      <td>0.462388</td>\n",
       "      <td>0.239599</td>\n",
       "      <td>0.098698</td>\n",
       "      <td>0.363787</td>\n",
       "      <td>0.090794</td>\n",
       "      <td>-0.551600</td>\n",
       "      <td>-0.617801</td>\n",
       "      <td>-0.991390</td>\n",
       "      <td>-0.311169</td>\n",
       "      <td>1.468177</td>\n",
       "      <td>-0.470401</td>\n",
       "      <td>0.207971</td>\n",
       "      <td>0.025791</td>\n",
       "      <td>0.403993</td>\n",
       "      <td>0.251412</td>\n",
       "      <td>-0.018307</td>\n",
       "      <td>0.277838</td>\n",
       "      <td>-0.110474</td>\n",
       "      <td>0.066928</td>\n",
       "      <td>0.128539</td>\n",
       "      <td>-0.189115</td>\n",
       "      <td>0.133558</td>\n",
       "      <td>-0.021053</td>\n",
       "      <td>149.62</td>\n",
       "      <td>0</td>\n",
       "      <td>0</td>\n",
       "      <td>0.244200</td>\n",
       "    </tr>\n",
       "    <tr>\n",
       "      <td>1</td>\n",
       "      <td>0.0</td>\n",
       "      <td>1.191857</td>\n",
       "      <td>0.266151</td>\n",
       "      <td>0.166480</td>\n",
       "      <td>0.448154</td>\n",
       "      <td>0.060018</td>\n",
       "      <td>-0.082361</td>\n",
       "      <td>-0.078803</td>\n",
       "      <td>0.085102</td>\n",
       "      <td>-0.255425</td>\n",
       "      <td>-0.166974</td>\n",
       "      <td>1.612727</td>\n",
       "      <td>1.065235</td>\n",
       "      <td>0.489095</td>\n",
       "      <td>-0.143772</td>\n",
       "      <td>0.635558</td>\n",
       "      <td>0.463917</td>\n",
       "      <td>-0.114805</td>\n",
       "      <td>-0.183361</td>\n",
       "      <td>-0.145783</td>\n",
       "      <td>-0.069083</td>\n",
       "      <td>-0.225775</td>\n",
       "      <td>-0.638672</td>\n",
       "      <td>0.101288</td>\n",
       "      <td>-0.339846</td>\n",
       "      <td>0.167170</td>\n",
       "      <td>0.125895</td>\n",
       "      <td>-0.008983</td>\n",
       "      <td>0.014724</td>\n",
       "      <td>2.69</td>\n",
       "      <td>0</td>\n",
       "      <td>0</td>\n",
       "      <td>-0.342584</td>\n",
       "    </tr>\n",
       "    <tr>\n",
       "      <td>2</td>\n",
       "      <td>1.0</td>\n",
       "      <td>-1.358354</td>\n",
       "      <td>-1.340163</td>\n",
       "      <td>1.773209</td>\n",
       "      <td>0.379780</td>\n",
       "      <td>-0.503198</td>\n",
       "      <td>1.800499</td>\n",
       "      <td>0.791461</td>\n",
       "      <td>0.247676</td>\n",
       "      <td>-1.514654</td>\n",
       "      <td>0.207643</td>\n",
       "      <td>0.624501</td>\n",
       "      <td>0.066084</td>\n",
       "      <td>0.717293</td>\n",
       "      <td>-0.165946</td>\n",
       "      <td>2.345865</td>\n",
       "      <td>-2.890083</td>\n",
       "      <td>1.109969</td>\n",
       "      <td>-0.121359</td>\n",
       "      <td>-2.261857</td>\n",
       "      <td>0.524980</td>\n",
       "      <td>0.247998</td>\n",
       "      <td>0.771679</td>\n",
       "      <td>0.909412</td>\n",
       "      <td>-0.689281</td>\n",
       "      <td>-0.327642</td>\n",
       "      <td>-0.139097</td>\n",
       "      <td>-0.055353</td>\n",
       "      <td>-0.059752</td>\n",
       "      <td>378.66</td>\n",
       "      <td>0</td>\n",
       "      <td>0</td>\n",
       "      <td>1.158900</td>\n",
       "    </tr>\n",
       "    <tr>\n",
       "      <td>3</td>\n",
       "      <td>1.0</td>\n",
       "      <td>-0.966272</td>\n",
       "      <td>-0.185226</td>\n",
       "      <td>1.792993</td>\n",
       "      <td>-0.863291</td>\n",
       "      <td>-0.010309</td>\n",
       "      <td>1.247203</td>\n",
       "      <td>0.237609</td>\n",
       "      <td>0.377436</td>\n",
       "      <td>-1.387024</td>\n",
       "      <td>-0.054952</td>\n",
       "      <td>-0.226487</td>\n",
       "      <td>0.178228</td>\n",
       "      <td>0.507757</td>\n",
       "      <td>-0.287924</td>\n",
       "      <td>-0.631418</td>\n",
       "      <td>-1.059647</td>\n",
       "      <td>-0.684093</td>\n",
       "      <td>1.965775</td>\n",
       "      <td>-1.232622</td>\n",
       "      <td>-0.208038</td>\n",
       "      <td>-0.108300</td>\n",
       "      <td>0.005274</td>\n",
       "      <td>-0.190321</td>\n",
       "      <td>-1.175575</td>\n",
       "      <td>0.647376</td>\n",
       "      <td>-0.221929</td>\n",
       "      <td>0.062723</td>\n",
       "      <td>0.061458</td>\n",
       "      <td>123.50</td>\n",
       "      <td>0</td>\n",
       "      <td>0</td>\n",
       "      <td>0.139886</td>\n",
       "    </tr>\n",
       "    <tr>\n",
       "      <td>4</td>\n",
       "      <td>2.0</td>\n",
       "      <td>-1.158233</td>\n",
       "      <td>0.877737</td>\n",
       "      <td>1.548718</td>\n",
       "      <td>0.403034</td>\n",
       "      <td>-0.407193</td>\n",
       "      <td>0.095921</td>\n",
       "      <td>0.592941</td>\n",
       "      <td>-0.270533</td>\n",
       "      <td>0.817739</td>\n",
       "      <td>0.753074</td>\n",
       "      <td>-0.822843</td>\n",
       "      <td>0.538196</td>\n",
       "      <td>1.345852</td>\n",
       "      <td>-1.119670</td>\n",
       "      <td>0.175121</td>\n",
       "      <td>-0.451449</td>\n",
       "      <td>-0.237033</td>\n",
       "      <td>-0.038195</td>\n",
       "      <td>0.803487</td>\n",
       "      <td>0.408542</td>\n",
       "      <td>-0.009431</td>\n",
       "      <td>0.798278</td>\n",
       "      <td>-0.137458</td>\n",
       "      <td>0.141267</td>\n",
       "      <td>-0.206010</td>\n",
       "      <td>0.502292</td>\n",
       "      <td>0.219422</td>\n",
       "      <td>0.215153</td>\n",
       "      <td>69.99</td>\n",
       "      <td>0</td>\n",
       "      <td>0</td>\n",
       "      <td>-0.073813</td>\n",
       "    </tr>\n",
       "  </tbody>\n",
       "</table>\n",
       "</div>"
      ],
      "text/plain": [
       "   time        v1        v2        v3        v4        v5        v6        v7  \\\n",
       "0   0.0 -1.359807 -0.072781  2.536347  1.378155 -0.338321  0.462388  0.239599   \n",
       "1   0.0  1.191857  0.266151  0.166480  0.448154  0.060018 -0.082361 -0.078803   \n",
       "2   1.0 -1.358354 -1.340163  1.773209  0.379780 -0.503198  1.800499  0.791461   \n",
       "3   1.0 -0.966272 -0.185226  1.792993 -0.863291 -0.010309  1.247203  0.237609   \n",
       "4   2.0 -1.158233  0.877737  1.548718  0.403034 -0.407193  0.095921  0.592941   \n",
       "\n",
       "         v8        v9       v10       v11       v12       v13       v14  \\\n",
       "0  0.098698  0.363787  0.090794 -0.551600 -0.617801 -0.991390 -0.311169   \n",
       "1  0.085102 -0.255425 -0.166974  1.612727  1.065235  0.489095 -0.143772   \n",
       "2  0.247676 -1.514654  0.207643  0.624501  0.066084  0.717293 -0.165946   \n",
       "3  0.377436 -1.387024 -0.054952 -0.226487  0.178228  0.507757 -0.287924   \n",
       "4 -0.270533  0.817739  0.753074 -0.822843  0.538196  1.345852 -1.119670   \n",
       "\n",
       "        v15       v16       v17       v18       v19       v20       v21  \\\n",
       "0  1.468177 -0.470401  0.207971  0.025791  0.403993  0.251412 -0.018307   \n",
       "1  0.635558  0.463917 -0.114805 -0.183361 -0.145783 -0.069083 -0.225775   \n",
       "2  2.345865 -2.890083  1.109969 -0.121359 -2.261857  0.524980  0.247998   \n",
       "3 -0.631418 -1.059647 -0.684093  1.965775 -1.232622 -0.208038 -0.108300   \n",
       "4  0.175121 -0.451449 -0.237033 -0.038195  0.803487  0.408542 -0.009431   \n",
       "\n",
       "        v22       v23       v24       v25       v26       v27       v28  \\\n",
       "0  0.277838 -0.110474  0.066928  0.128539 -0.189115  0.133558 -0.021053   \n",
       "1 -0.638672  0.101288 -0.339846  0.167170  0.125895 -0.008983  0.014724   \n",
       "2  0.771679  0.909412 -0.689281 -0.327642 -0.139097 -0.055353 -0.059752   \n",
       "3  0.005274 -0.190321 -1.175575  0.647376 -0.221929  0.062723  0.061458   \n",
       "4  0.798278 -0.137458  0.141267 -0.206010  0.502292  0.219422  0.215153   \n",
       "\n",
       "   amount  class  hour  amount_scaled  \n",
       "0  149.62      0     0       0.244200  \n",
       "1    2.69      0     0      -0.342584  \n",
       "2  378.66      0     0       1.158900  \n",
       "3  123.50      0     0       0.139886  \n",
       "4   69.99      0     0      -0.073813  "
      ]
     },
     "execution_count": 52,
     "metadata": {},
     "output_type": "execute_result"
    }
   ],
   "source": [
    "df['amount_scaled'] = ss.fit_transform(df['amount'].values.reshape(-1,1))\n",
    "df.head()"
   ]
  },
  {
   "cell_type": "markdown",
   "metadata": {},
   "source": [
    "# Visualising Again "
   ]
  },
  {
   "cell_type": "code",
   "execution_count": 53,
   "metadata": {},
   "outputs": [
    {
     "data": {
      "image/png": "[encoded data removed]",
      "text/plain": [
       "<Figure size 720x720 with 1 Axes>"
      ]
     },
     "metadata": {
      "needs_background": "light"
     },
     "output_type": "display_data"
    }
   ],
   "source": [
    "plt.figure(figsize=(10,10)) # tuple of the figure size\n",
    "\n",
    "sns.distplot(df[df['class'] == 0][\"hour\"], color='g') # Genuine - green\n",
    "\n",
    "sns.distplot(df[df['class'] == 1][\"hour\"], color='r') # Frauduletn - Red\n",
    "\n",
    "plt.title('Fraud vs Legit Transactions by Hours', fontsize=10)\n",
    "plt.xlim([0,25])\n",
    "plt.show()"
   ]
  },
  {
   "cell_type": "markdown",
   "metadata": {},
   "source": [
    "Obervation : with a very small confidence we may say that Fraud transactions are more frequent towards the night , assumption\n",
    "But thats not significant enough"
   ]
  },
  {
   "cell_type": "code",
   "execution_count": 54,
   "metadata": {},
   "outputs": [
    {
     "data": {
      "text/html": [
       "<div>\n",
       "<style scoped>\n",
       "    .dataframe tbody tr th:only-of-type {\n",
       "        vertical-align: middle;\n",
       "    }\n",
       "\n",
       "    .dataframe tbody tr th {\n",
       "        vertical-align: top;\n",
       "    }\n",
       "\n",
       "    .dataframe thead th {\n",
       "        text-align: right;\n",
       "    }\n",
       "</style>\n",
       "<table border=\"1\" class=\"dataframe\">\n",
       "  <thead>\n",
       "    <tr style=\"text-align: right;\">\n",
       "      <th></th>\n",
       "      <th>hour</th>\n",
       "      <th>Count</th>\n",
       "    </tr>\n",
       "  </thead>\n",
       "  <tbody>\n",
       "    <tr>\n",
       "      <td>0</td>\n",
       "      <td>0</td>\n",
       "      <td>7641</td>\n",
       "    </tr>\n",
       "    <tr>\n",
       "      <td>1</td>\n",
       "      <td>1</td>\n",
       "      <td>4198</td>\n",
       "    </tr>\n",
       "    <tr>\n",
       "      <td>2</td>\n",
       "      <td>2</td>\n",
       "      <td>3260</td>\n",
       "    </tr>\n",
       "    <tr>\n",
       "      <td>3</td>\n",
       "      <td>3</td>\n",
       "      <td>3470</td>\n",
       "    </tr>\n",
       "    <tr>\n",
       "      <td>4</td>\n",
       "      <td>4</td>\n",
       "      <td>2181</td>\n",
       "    </tr>\n",
       "    <tr>\n",
       "      <td>5</td>\n",
       "      <td>5</td>\n",
       "      <td>2977</td>\n",
       "    </tr>\n",
       "    <tr>\n",
       "      <td>6</td>\n",
       "      <td>6</td>\n",
       "      <td>4073</td>\n",
       "    </tr>\n",
       "    <tr>\n",
       "      <td>7</td>\n",
       "      <td>7</td>\n",
       "      <td>7210</td>\n",
       "    </tr>\n",
       "    <tr>\n",
       "      <td>8</td>\n",
       "      <td>8</td>\n",
       "      <td>10223</td>\n",
       "    </tr>\n",
       "    <tr>\n",
       "      <td>9</td>\n",
       "      <td>9</td>\n",
       "      <td>15751</td>\n",
       "    </tr>\n",
       "    <tr>\n",
       "      <td>10</td>\n",
       "      <td>10</td>\n",
       "      <td>16540</td>\n",
       "    </tr>\n",
       "    <tr>\n",
       "      <td>11</td>\n",
       "      <td>11</td>\n",
       "      <td>16728</td>\n",
       "    </tr>\n",
       "    <tr>\n",
       "      <td>12</td>\n",
       "      <td>12</td>\n",
       "      <td>15361</td>\n",
       "    </tr>\n",
       "    <tr>\n",
       "      <td>13</td>\n",
       "      <td>13</td>\n",
       "      <td>15306</td>\n",
       "    </tr>\n",
       "    <tr>\n",
       "      <td>14</td>\n",
       "      <td>14</td>\n",
       "      <td>16497</td>\n",
       "    </tr>\n",
       "    <tr>\n",
       "      <td>15</td>\n",
       "      <td>15</td>\n",
       "      <td>16348</td>\n",
       "    </tr>\n",
       "    <tr>\n",
       "      <td>16</td>\n",
       "      <td>16</td>\n",
       "      <td>16374</td>\n",
       "    </tr>\n",
       "    <tr>\n",
       "      <td>17</td>\n",
       "      <td>17</td>\n",
       "      <td>16102</td>\n",
       "    </tr>\n",
       "    <tr>\n",
       "      <td>18</td>\n",
       "      <td>18</td>\n",
       "      <td>16931</td>\n",
       "    </tr>\n",
       "    <tr>\n",
       "      <td>19</td>\n",
       "      <td>19</td>\n",
       "      <td>15547</td>\n",
       "    </tr>\n",
       "    <tr>\n",
       "      <td>20</td>\n",
       "      <td>20</td>\n",
       "      <td>16687</td>\n",
       "    </tr>\n",
       "    <tr>\n",
       "      <td>21</td>\n",
       "      <td>21</td>\n",
       "      <td>17613</td>\n",
       "    </tr>\n",
       "    <tr>\n",
       "      <td>22</td>\n",
       "      <td>22</td>\n",
       "      <td>15369</td>\n",
       "    </tr>\n",
       "    <tr>\n",
       "      <td>23</td>\n",
       "      <td>23</td>\n",
       "      <td>10866</td>\n",
       "    </tr>\n",
       "  </tbody>\n",
       "</table>\n",
       "</div>"
      ],
      "text/plain": [
       "    hour  Count\n",
       "0      0   7641\n",
       "1      1   4198\n",
       "2      2   3260\n",
       "3      3   3470\n",
       "4      4   2181\n",
       "5      5   2977\n",
       "6      6   4073\n",
       "7      7   7210\n",
       "8      8  10223\n",
       "9      9  15751\n",
       "10    10  16540\n",
       "11    11  16728\n",
       "12    12  15361\n",
       "13    13  15306\n",
       "14    14  16497\n",
       "15    15  16348\n",
       "16    16  16374\n",
       "17    17  16102\n",
       "18    18  16931\n",
       "19    19  15547\n",
       "20    20  16687\n",
       "21    21  17613\n",
       "22    22  15369\n",
       "23    23  10866"
      ]
     },
     "execution_count": 54,
     "metadata": {},
     "output_type": "execute_result"
    }
   ],
   "source": [
    "# Observing patterns in No of Legit Transactions vs Time (Hour) to observe more\n",
    "legit_hour_count = df[df['class']==0].groupby(['hour'] , as_index = False)['hour'].size().reset_index(name = 'Count')\n",
    "legit_hour_count"
   ]
  },
  {
   "cell_type": "code",
   "execution_count": 55,
   "metadata": {},
   "outputs": [
    {
     "data": {
      "text/plain": [
       "<matplotlib.axes._subplots.AxesSubplot at 0x200d9f15548>"
      ]
     },
     "execution_count": 55,
     "metadata": {},
     "output_type": "execute_result"
    },
    {
     "data": {
      "image/png": "[encoded data removed]",
      "text/plain": [
       "<Figure size 432x288 with 1 Axes>"
      ]
     },
     "metadata": {
      "needs_background": "light"
     },
     "output_type": "display_data"
    }
   ],
   "source": [
    "legit_hour_count['Count'].plot(kind = 'bar')"
   ]
  },
  {
   "cell_type": "code",
   "execution_count": 56,
   "metadata": {},
   "outputs": [
    {
     "data": {
      "text/html": [
       "<div>\n",
       "<style scoped>\n",
       "    .dataframe tbody tr th:only-of-type {\n",
       "        vertical-align: middle;\n",
       "    }\n",
       "\n",
       "    .dataframe tbody tr th {\n",
       "        vertical-align: top;\n",
       "    }\n",
       "\n",
       "    .dataframe thead th {\n",
       "        text-align: right;\n",
       "    }\n",
       "</style>\n",
       "<table border=\"1\" class=\"dataframe\">\n",
       "  <thead>\n",
       "    <tr style=\"text-align: right;\">\n",
       "      <th></th>\n",
       "      <th>hour</th>\n",
       "      <th>Count</th>\n",
       "    </tr>\n",
       "  </thead>\n",
       "  <tbody>\n",
       "    <tr>\n",
       "      <td>0</td>\n",
       "      <td>0</td>\n",
       "      <td>6</td>\n",
       "    </tr>\n",
       "    <tr>\n",
       "      <td>1</td>\n",
       "      <td>1</td>\n",
       "      <td>10</td>\n",
       "    </tr>\n",
       "    <tr>\n",
       "      <td>2</td>\n",
       "      <td>2</td>\n",
       "      <td>48</td>\n",
       "    </tr>\n",
       "    <tr>\n",
       "      <td>3</td>\n",
       "      <td>3</td>\n",
       "      <td>17</td>\n",
       "    </tr>\n",
       "    <tr>\n",
       "      <td>4</td>\n",
       "      <td>4</td>\n",
       "      <td>23</td>\n",
       "    </tr>\n",
       "    <tr>\n",
       "      <td>5</td>\n",
       "      <td>5</td>\n",
       "      <td>11</td>\n",
       "    </tr>\n",
       "    <tr>\n",
       "      <td>6</td>\n",
       "      <td>6</td>\n",
       "      <td>9</td>\n",
       "    </tr>\n",
       "    <tr>\n",
       "      <td>7</td>\n",
       "      <td>7</td>\n",
       "      <td>23</td>\n",
       "    </tr>\n",
       "    <tr>\n",
       "      <td>8</td>\n",
       "      <td>8</td>\n",
       "      <td>9</td>\n",
       "    </tr>\n",
       "    <tr>\n",
       "      <td>9</td>\n",
       "      <td>9</td>\n",
       "      <td>16</td>\n",
       "    </tr>\n",
       "    <tr>\n",
       "      <td>10</td>\n",
       "      <td>10</td>\n",
       "      <td>8</td>\n",
       "    </tr>\n",
       "    <tr>\n",
       "      <td>11</td>\n",
       "      <td>11</td>\n",
       "      <td>53</td>\n",
       "    </tr>\n",
       "    <tr>\n",
       "      <td>12</td>\n",
       "      <td>12</td>\n",
       "      <td>17</td>\n",
       "    </tr>\n",
       "    <tr>\n",
       "      <td>13</td>\n",
       "      <td>13</td>\n",
       "      <td>17</td>\n",
       "    </tr>\n",
       "    <tr>\n",
       "      <td>14</td>\n",
       "      <td>14</td>\n",
       "      <td>23</td>\n",
       "    </tr>\n",
       "    <tr>\n",
       "      <td>15</td>\n",
       "      <td>15</td>\n",
       "      <td>26</td>\n",
       "    </tr>\n",
       "    <tr>\n",
       "      <td>16</td>\n",
       "      <td>16</td>\n",
       "      <td>22</td>\n",
       "    </tr>\n",
       "    <tr>\n",
       "      <td>17</td>\n",
       "      <td>17</td>\n",
       "      <td>28</td>\n",
       "    </tr>\n",
       "    <tr>\n",
       "      <td>18</td>\n",
       "      <td>18</td>\n",
       "      <td>28</td>\n",
       "    </tr>\n",
       "    <tr>\n",
       "      <td>19</td>\n",
       "      <td>19</td>\n",
       "      <td>19</td>\n",
       "    </tr>\n",
       "    <tr>\n",
       "      <td>20</td>\n",
       "      <td>20</td>\n",
       "      <td>18</td>\n",
       "    </tr>\n",
       "    <tr>\n",
       "      <td>21</td>\n",
       "      <td>21</td>\n",
       "      <td>16</td>\n",
       "    </tr>\n",
       "    <tr>\n",
       "      <td>22</td>\n",
       "      <td>22</td>\n",
       "      <td>9</td>\n",
       "    </tr>\n",
       "    <tr>\n",
       "      <td>23</td>\n",
       "      <td>23</td>\n",
       "      <td>17</td>\n",
       "    </tr>\n",
       "  </tbody>\n",
       "</table>\n",
       "</div>"
      ],
      "text/plain": [
       "    hour  Count\n",
       "0      0      6\n",
       "1      1     10\n",
       "2      2     48\n",
       "3      3     17\n",
       "4      4     23\n",
       "5      5     11\n",
       "6      6      9\n",
       "7      7     23\n",
       "8      8      9\n",
       "9      9     16\n",
       "10    10      8\n",
       "11    11     53\n",
       "12    12     17\n",
       "13    13     17\n",
       "14    14     23\n",
       "15    15     26\n",
       "16    16     22\n",
       "17    17     28\n",
       "18    18     28\n",
       "19    19     19\n",
       "20    20     18\n",
       "21    21     16\n",
       "22    22      9\n",
       "23    23     17"
      ]
     },
     "execution_count": 56,
     "metadata": {},
     "output_type": "execute_result"
    }
   ],
   "source": [
    "fraud_hour_count = df[df['class']==1].groupby(['hour'] , as_index = False)['hour'].size().reset_index(name = 'Count')\n",
    "fraud_hour_count"
   ]
  },
  {
   "cell_type": "code",
   "execution_count": 57,
   "metadata": {},
   "outputs": [
    {
     "data": {
      "text/plain": [
       "<matplotlib.axes._subplots.AxesSubplot at 0x200db448188>"
      ]
     },
     "execution_count": 57,
     "metadata": {},
     "output_type": "execute_result"
    },
    {
     "data": {
      "image/png": "[encoded data removed]",
      "text/plain": [
       "<Figure size 432x288 with 1 Axes>"
      ]
     },
     "metadata": {
      "needs_background": "light"
     },
     "output_type": "display_data"
    }
   ],
   "source": [
    "fraud_hour_count['Count'].plot(kind = 'bar')"
   ]
  },
  {
   "cell_type": "markdown",
   "metadata": {},
   "source": [
    " # Comparing Amount and Transaction Class\n",
    " We need to bin amounts first , but the problem is the skewness of the amount , still , let's try"
   ]
  },
  {
   "cell_type": "code",
   "execution_count": 58,
   "metadata": {},
   "outputs": [],
   "source": [
    "legit_list = df[df['class']==0]['amount'].describe().to_dict()\n",
    "fraud_list = df[df['class']==1]['amount'].describe().to_dict()"
   ]
  },
  {
   "cell_type": "code",
   "execution_count": 59,
   "metadata": {},
   "outputs": [
    {
     "data": {
      "text/html": [
       "<div>\n",
       "<style scoped>\n",
       "    .dataframe tbody tr th:only-of-type {\n",
       "        vertical-align: middle;\n",
       "    }\n",
       "\n",
       "    .dataframe tbody tr th {\n",
       "        vertical-align: top;\n",
       "    }\n",
       "\n",
       "    .dataframe thead th {\n",
       "        text-align: right;\n",
       "    }\n",
       "</style>\n",
       "<table border=\"1\" class=\"dataframe\">\n",
       "  <thead>\n",
       "    <tr style=\"text-align: right;\">\n",
       "      <th></th>\n",
       "      <th>count</th>\n",
       "      <th>mean</th>\n",
       "      <th>std</th>\n",
       "      <th>min</th>\n",
       "      <th>25%</th>\n",
       "      <th>50%</th>\n",
       "      <th>75%</th>\n",
       "      <th>max</th>\n",
       "    </tr>\n",
       "  </thead>\n",
       "  <tbody>\n",
       "    <tr>\n",
       "      <td>0</td>\n",
       "      <td>283253.0</td>\n",
       "      <td>88.413575</td>\n",
       "      <td>250.379023</td>\n",
       "      <td>0.0</td>\n",
       "      <td>5.67</td>\n",
       "      <td>22.00</td>\n",
       "      <td>77.46</td>\n",
       "      <td>25691.16</td>\n",
       "    </tr>\n",
       "    <tr>\n",
       "      <td>1</td>\n",
       "      <td>473.0</td>\n",
       "      <td>123.871860</td>\n",
       "      <td>260.211041</td>\n",
       "      <td>0.0</td>\n",
       "      <td>1.00</td>\n",
       "      <td>9.82</td>\n",
       "      <td>105.89</td>\n",
       "      <td>2125.87</td>\n",
       "    </tr>\n",
       "  </tbody>\n",
       "</table>\n",
       "</div>"
      ],
      "text/plain": [
       "      count        mean         std  min   25%    50%     75%       max\n",
       "0  283253.0   88.413575  250.379023  0.0  5.67  22.00   77.46  25691.16\n",
       "1     473.0  123.871860  260.211041  0.0  1.00   9.82  105.89   2125.87"
      ]
     },
     "execution_count": 59,
     "metadata": {},
     "output_type": "execute_result"
    }
   ],
   "source": [
    "pd.DataFrame([legit_list,fraud_list])"
   ]
  },
  {
   "cell_type": "code",
   "execution_count": 60,
   "metadata": {},
   "outputs": [
    {
     "data": {
      "text/html": [
       "<div>\n",
       "<style scoped>\n",
       "    .dataframe tbody tr th:only-of-type {\n",
       "        vertical-align: middle;\n",
       "    }\n",
       "\n",
       "    .dataframe tbody tr th {\n",
       "        vertical-align: top;\n",
       "    }\n",
       "\n",
       "    .dataframe thead th {\n",
       "        text-align: right;\n",
       "    }\n",
       "</style>\n",
       "<table border=\"1\" class=\"dataframe\">\n",
       "  <thead>\n",
       "    <tr style=\"text-align: right;\">\n",
       "      <th></th>\n",
       "      <th>Legit</th>\n",
       "      <th>Fraud</th>\n",
       "    </tr>\n",
       "  </thead>\n",
       "  <tbody>\n",
       "    <tr>\n",
       "      <td>count</td>\n",
       "      <td>283253.000000</td>\n",
       "      <td>473.000000</td>\n",
       "    </tr>\n",
       "    <tr>\n",
       "      <td>mean</td>\n",
       "      <td>88.413575</td>\n",
       "      <td>123.871860</td>\n",
       "    </tr>\n",
       "    <tr>\n",
       "      <td>std</td>\n",
       "      <td>250.379023</td>\n",
       "      <td>260.211041</td>\n",
       "    </tr>\n",
       "    <tr>\n",
       "      <td>min</td>\n",
       "      <td>0.000000</td>\n",
       "      <td>0.000000</td>\n",
       "    </tr>\n",
       "    <tr>\n",
       "      <td>25%</td>\n",
       "      <td>5.670000</td>\n",
       "      <td>1.000000</td>\n",
       "    </tr>\n",
       "    <tr>\n",
       "      <td>50%</td>\n",
       "      <td>22.000000</td>\n",
       "      <td>9.820000</td>\n",
       "    </tr>\n",
       "    <tr>\n",
       "      <td>75%</td>\n",
       "      <td>77.460000</td>\n",
       "      <td>105.890000</td>\n",
       "    </tr>\n",
       "    <tr>\n",
       "      <td>max</td>\n",
       "      <td>25691.160000</td>\n",
       "      <td>2125.870000</td>\n",
       "    </tr>\n",
       "  </tbody>\n",
       "</table>\n",
       "</div>"
      ],
      "text/plain": [
       "               Legit        Fraud\n",
       "count  283253.000000   473.000000\n",
       "mean       88.413575   123.871860\n",
       "std       250.379023   260.211041\n",
       "min         0.000000     0.000000\n",
       "25%         5.670000     1.000000\n",
       "50%        22.000000     9.820000\n",
       "75%        77.460000   105.890000\n",
       "max     25691.160000  2125.870000"
      ]
     },
     "execution_count": 60,
     "metadata": {},
     "output_type": "execute_result"
    }
   ],
   "source": [
    "comp_df = pd.DataFrame([df[df['class']==0]['amount'].describe().to_dict() , df[df['class']==1]['amount'].describe().to_dict()])\n",
    "comp_df = comp_df.T\n",
    "comp_df.columns = ['Legit' , 'Fraud']\n",
    "comp_df"
   ]
  },
  {
   "cell_type": "code",
   "execution_count": 61,
   "metadata": {},
   "outputs": [
    {
     "data": {
      "text/html": [
       "<div>\n",
       "<style scoped>\n",
       "    .dataframe tbody tr th:only-of-type {\n",
       "        vertical-align: middle;\n",
       "    }\n",
       "\n",
       "    .dataframe tbody tr th {\n",
       "        vertical-align: top;\n",
       "    }\n",
       "\n",
       "    .dataframe thead th {\n",
       "        text-align: right;\n",
       "    }\n",
       "</style>\n",
       "<table border=\"1\" class=\"dataframe\">\n",
       "  <thead>\n",
       "    <tr style=\"text-align: right;\">\n",
       "      <th></th>\n",
       "      <th>Legit</th>\n",
       "      <th>Fraud</th>\n",
       "    </tr>\n",
       "  </thead>\n",
       "  <tbody>\n",
       "    <tr>\n",
       "      <td>mean</td>\n",
       "      <td>88.413575</td>\n",
       "      <td>123.871860</td>\n",
       "    </tr>\n",
       "    <tr>\n",
       "      <td>std</td>\n",
       "      <td>250.379023</td>\n",
       "      <td>260.211041</td>\n",
       "    </tr>\n",
       "    <tr>\n",
       "      <td>min</td>\n",
       "      <td>0.000000</td>\n",
       "      <td>0.000000</td>\n",
       "    </tr>\n",
       "    <tr>\n",
       "      <td>25%</td>\n",
       "      <td>5.670000</td>\n",
       "      <td>1.000000</td>\n",
       "    </tr>\n",
       "    <tr>\n",
       "      <td>50%</td>\n",
       "      <td>22.000000</td>\n",
       "      <td>9.820000</td>\n",
       "    </tr>\n",
       "    <tr>\n",
       "      <td>75%</td>\n",
       "      <td>77.460000</td>\n",
       "      <td>105.890000</td>\n",
       "    </tr>\n",
       "    <tr>\n",
       "      <td>max</td>\n",
       "      <td>25691.160000</td>\n",
       "      <td>2125.870000</td>\n",
       "    </tr>\n",
       "  </tbody>\n",
       "</table>\n",
       "</div>"
      ],
      "text/plain": [
       "             Legit        Fraud\n",
       "mean     88.413575   123.871860\n",
       "std     250.379023   260.211041\n",
       "min       0.000000     0.000000\n",
       "25%       5.670000     1.000000\n",
       "50%      22.000000     9.820000\n",
       "75%      77.460000   105.890000\n",
       "max   25691.160000  2125.870000"
      ]
     },
     "execution_count": 61,
     "metadata": {},
     "output_type": "execute_result"
    }
   ],
   "source": [
    "comp_df = comp_df.iloc[1:]\n",
    "comp_df"
   ]
  },
  {
   "cell_type": "code",
   "execution_count": 62,
   "metadata": {},
   "outputs": [
    {
     "data": {
      "image/png": "[encoded data removed]",
      "text/plain": [
       "<Figure size 1008x432 with 2 Axes>"
      ]
     },
     "metadata": {
      "needs_background": "light"
     },
     "output_type": "display_data"
    }
   ],
   "source": [
    "#Feature engineering to a better visualization of the values\n",
    "df['amount_log'] = np.log(df.amount + 0.01)\n",
    "\n",
    "plt.figure(figsize=(14,6))\n",
    "# Let's explore the Amount by Class and see the distribuition of Amount transactions\n",
    "plt.subplot(121)\n",
    "ax = sns.boxplot(x =\"class\",y=\"amount\",\n",
    "                 data=df)\n",
    "ax.set_title(\"Class x Amount\", fontsize=20)\n",
    "ax.set_xlabel(\"Is Fraud?\", fontsize=16)\n",
    "ax.set_ylabel(\"Amount\", fontsize = 16)\n",
    "\n",
    "plt.subplot(122)\n",
    "ax1 = sns.boxplot(x =\"class\",y=\"amount_log\", data=df)\n",
    "ax1.set_title(\"Class x Amount\", fontsize=20)\n",
    "ax1.set_xlabel(\"Is Fraud?\", fontsize=16)\n",
    "ax1.set_ylabel(\"Amount(Log)\", fontsize = 16)\n",
    "\n",
    "plt.subplots_adjust(hspace = 0.6, top = 0.8)\n",
    "\n",
    "plt.show()"
   ]
  },
  {
   "cell_type": "code",
   "execution_count": 63,
   "metadata": {},
   "outputs": [
    {
     "data": {
      "text/plain": [
       "<500           272809\n",
       "500-1000         6174\n",
       "1000-2000        2259\n",
       "2000-3000         392\n",
       "3000-4000         164\n",
       "4000-5000          65\n",
       "5000-10000         48\n",
       "10000-15000         4\n",
       "15000-20000         2\n",
       ">20000              1\n",
       "Name: amount_bin, dtype: int64"
      ]
     },
     "execution_count": 63,
     "metadata": {},
     "output_type": "execute_result"
    }
   ],
   "source": [
    "cut_lables = ['<500','500-1000','1000-2000','2000-3000','3000-4000','4000-5000','5000-10000','10000-15000','15000-20000','>20000']\n",
    "cut_bins = [0,500,1000,2000,3000,4000,5000,10000,15000,20000,30000]\n",
    "df['amount_bin'] = pd.cut(df['amount'], bins=cut_bins, labels=cut_lables)\n",
    "df['amount_bin'].value_counts()"
   ]
  },
  {
   "cell_type": "code",
   "execution_count": 64,
   "metadata": {},
   "outputs": [
    {
     "data": {
      "text/html": [
       "<div>\n",
       "<style scoped>\n",
       "    .dataframe tbody tr th:only-of-type {\n",
       "        vertical-align: middle;\n",
       "    }\n",
       "\n",
       "    .dataframe tbody tr th {\n",
       "        vertical-align: top;\n",
       "    }\n",
       "\n",
       "    .dataframe thead th {\n",
       "        text-align: right;\n",
       "    }\n",
       "</style>\n",
       "<table border=\"1\" class=\"dataframe\">\n",
       "  <thead>\n",
       "    <tr style=\"text-align: right;\">\n",
       "      <th></th>\n",
       "      <th>&lt;500</th>\n",
       "      <th>500-1000</th>\n",
       "      <th>1000-2000</th>\n",
       "      <th>2000-3000</th>\n",
       "      <th>3000-4000</th>\n",
       "      <th>4000-5000</th>\n",
       "      <th>5000-10000</th>\n",
       "      <th>10000-15000</th>\n",
       "      <th>15000-20000</th>\n",
       "      <th>&gt;20000</th>\n",
       "    </tr>\n",
       "  </thead>\n",
       "  <tbody>\n",
       "    <tr>\n",
       "      <td>0</td>\n",
       "      <td>272395</td>\n",
       "      <td>6149</td>\n",
       "      <td>2251</td>\n",
       "      <td>391</td>\n",
       "      <td>164</td>\n",
       "      <td>65</td>\n",
       "      <td>48</td>\n",
       "      <td>4</td>\n",
       "      <td>2</td>\n",
       "      <td>1</td>\n",
       "    </tr>\n",
       "    <tr>\n",
       "      <td>1</td>\n",
       "      <td>414</td>\n",
       "      <td>25</td>\n",
       "      <td>8</td>\n",
       "      <td>1</td>\n",
       "      <td>0</td>\n",
       "      <td>0</td>\n",
       "      <td>0</td>\n",
       "      <td>0</td>\n",
       "      <td>0</td>\n",
       "      <td>0</td>\n",
       "    </tr>\n",
       "  </tbody>\n",
       "</table>\n",
       "</div>"
      ],
      "text/plain": [
       "     <500  500-1000  1000-2000  2000-3000  3000-4000  4000-5000  5000-10000  \\\n",
       "0  272395      6149       2251        391        164         65          48   \n",
       "1     414        25          8          1          0          0           0   \n",
       "\n",
       "   10000-15000  15000-20000  >20000  \n",
       "0            4            2       1  \n",
       "1            0            0       0  "
      ]
     },
     "execution_count": 64,
     "metadata": {},
     "output_type": "execute_result"
    }
   ],
   "source": [
    "legit_class= df[df['class'] == 0][\"amount_bin\"].value_counts().to_dict()\n",
    "fraud_class = df[df['class'] == 1][\"amount_bin\"].value_counts().to_dict()\n",
    "pd.DataFrame([legit_class,fraud_class])"
   ]
  },
  {
   "cell_type": "markdown",
   "metadata": {},
   "source": [
    "# Let's start with Data Pre Processing and Basic Modelling"
   ]
  },
  {
   "cell_type": "code",
   "execution_count": 65,
   "metadata": {},
   "outputs": [
    {
     "name": "stdout",
     "output_type": "stream",
     "text": [
      "(283726,)\n",
      "(283726, 30)\n"
     ]
    }
   ],
   "source": [
    "y = df['class'].values\n",
    "X = df.drop(columns = ['time' , 'amount' , 'hour' , 'class','amount_bin']) # Try out with different combinations\n",
    "print(y.shape)\n",
    "print(X.shape)"
   ]
  },
  {
   "cell_type": "code",
   "execution_count": 66,
   "metadata": {},
   "outputs": [
    {
     "data": {
      "text/plain": [
       "LogisticRegression(C=1.0, class_weight=None, dual=False, fit_intercept=True,\n",
       "                   intercept_scaling=1, l1_ratio=None, max_iter=100,\n",
       "                   multi_class='auto', n_jobs=None, penalty='l2',\n",
       "                   random_state=None, solver='lbfgs', tol=0.0001, verbose=0,\n",
       "                   warm_start=False)"
      ]
     },
     "execution_count": 66,
     "metadata": {},
     "output_type": "execute_result"
    }
   ],
   "source": [
    "from sklearn.linear_model import LogisticRegression # Importing Classifier Step\n",
    "from sklearn.model_selection import train_test_split \n",
    "X_train, X_test, y_train, y_test = train_test_split(X, y, test_size=0.3, random_state=0) # Sequence for splitting\n",
    "logreg = LogisticRegression() # () towards the end\n",
    "logreg.fit(X_train, y_train )   "
   ]
  },
  {
   "cell_type": "code",
   "execution_count": 67,
   "metadata": {},
   "outputs": [
    {
     "name": "stdout",
     "output_type": "stream",
     "text": [
      "Accuracy Score for logistic on train data : 0.9992145331507291\n",
      "Accuracy Score for logistic on train data : 0.9991306186705514\n",
      "Accuracy score diffrence for logistic on train and test data: 0.008391448017763814 %\n"
     ]
    }
   ],
   "source": [
    "from sklearn.metrics import accuracy_score\n",
    "y_test_pred_logis = logreg.predict(X_test)\n",
    "logis_test_A_S = accuracy_score(y_test_pred_logis , y_test)\n",
    "y_train_pred_logis = logreg.predict(X_train)\n",
    "logis_train_A_S = accuracy_score(y_train_pred_logis , y_train)                 \n",
    "print(f'Accuracy Score for logistic on train data :',logis_train_A_S)\n",
    "print(f'Accuracy Score for logistic on train data :',logis_test_A_S)\n",
    "print(f'Accuracy score diffrence for logistic on train and test data:' ,(logis_train_A_S - logis_test_A_S) * 100,'%')"
   ]
  },
  {
   "cell_type": "code",
   "execution_count": 68,
   "metadata": {},
   "outputs": [
    {
     "data": {
      "text/plain": [
       "array([[84976,    13],\n",
       "       [   61,    68]], dtype=int64)"
      ]
     },
     "execution_count": 68,
     "metadata": {},
     "output_type": "execute_result"
    }
   ],
   "source": [
    "from sklearn.metrics import confusion_matrix\n",
    "cnf_matrix = confusion_matrix(y_test , y_test_pred_logis)\n",
    "cnf_matrix"
   ]
  },
  {
   "cell_type": "code",
   "execution_count": 69,
   "metadata": {},
   "outputs": [],
   "source": [
    "from sklearn.metrics import confusion_matrix\n",
    "logis_train_C_M = confusion_matrix(y_train , y_train_pred_logis)\n",
    "logis_test_C_M = confusion_matrix(y_test , y_test_pred_logis)"
   ]
  },
  {
   "cell_type": "code",
   "execution_count": 70,
   "metadata": {},
   "outputs": [
    {
     "data": {
      "text/plain": [
       "array([[198234,     30],\n",
       "       [   126,    218]], dtype=int64)"
      ]
     },
     "execution_count": 70,
     "metadata": {},
     "output_type": "execute_result"
    }
   ],
   "source": [
    "logis_train_C_M "
   ]
  },
  {
   "cell_type": "code",
   "execution_count": 71,
   "metadata": {},
   "outputs": [
    {
     "data": {
      "text/plain": [
       "array([[84976,    13],\n",
       "       [   61,    68]], dtype=int64)"
      ]
     },
     "execution_count": 71,
     "metadata": {},
     "output_type": "execute_result"
    }
   ],
   "source": [
    "logis_test_C_M "
   ]
  },
  {
   "cell_type": "code",
   "execution_count": 72,
   "metadata": {},
   "outputs": [],
   "source": [
    "logis_train_TP = logis_train_C_M[0,0]\n",
    "logis_train_FN = logis_train_C_M[1,0]\n",
    "logis_train_TN = logis_train_C_M[0,1]\n",
    "logis_train_FP = logis_train_C_M[1,1]\n",
    "logis_test_TP = logis_test_C_M[0,0]\n",
    "logis_test_FN = logis_test_C_M[1,0]\n",
    "logis_test_TN = logis_test_C_M[0,1]\n",
    "logis_test_FP = logis_test_C_M[1,1]"
   ]
  },
  {
   "cell_type": "code",
   "execution_count": 73,
   "metadata": {},
   "outputs": [
    {
     "name": "stdout",
     "output_type": "stream",
     "text": [
      "              precision    recall  f1-score   support\n",
      "\n",
      "           0       1.00      1.00      1.00    198264\n",
      "           1       0.88      0.63      0.74       344\n",
      "\n",
      "    accuracy                           1.00    198608\n",
      "   macro avg       0.94      0.82      0.87    198608\n",
      "weighted avg       1.00      1.00      1.00    198608\n",
      "\n"
     ]
    }
   ],
   "source": [
    "from sklearn.metrics import classification_report \n",
    "print(classification_report(y_train , y_train_pred_logis))"
   ]
  },
  {
   "cell_type": "markdown",
   "metadata": {},
   "source": [
    "## ROC AUC for Logistic regression train data"
   ]
  },
  {
   "cell_type": "code",
   "execution_count": 74,
   "metadata": {},
   "outputs": [
    {
     "data": {
      "image/png": "[encoded data removed]",
      "text/plain": [
       "<Figure size 432x288 with 1 Axes>"
      ]
     },
     "metadata": {
      "needs_background": "light"
     },
     "output_type": "display_data"
    }
   ],
   "source": [
    "from sklearn.metrics import roc_curve\n",
    "from sklearn.metrics import roc_auc_score\n",
    "fpr, tpr, _  = roc_curve(y_train, y_train_pred_logis)\n",
    "logis_train_auc = roc_auc_score(y_train, y_train_pred_logis)\n",
    "plt.plot(fpr,tpr,label=\"Logistic test data, auc=\"+str(logis_train_auc))\n",
    "plt.legend(loc=4)\n",
    "plt.show()"
   ]
  },
  {
   "cell_type": "markdown",
   "metadata": {},
   "source": [
    "## ROC AUC for Logistic regression test data"
   ]
  },
  {
   "cell_type": "code",
   "execution_count": 75,
   "metadata": {},
   "outputs": [
    {
     "data": {
      "image/png": "[encoded data removed]",
      "text/plain": [
       "<Figure size 432x288 with 1 Axes>"
      ]
     },
     "metadata": {
      "needs_background": "light"
     },
     "output_type": "display_data"
    }
   ],
   "source": [
    "from sklearn.metrics import roc_curve\n",
    "fpr, tpr, _  = roc_curve(y_test, y_test_pred_logis)\n",
    "logis_test_auc = roc_auc_score(y_test, y_test_pred_logis)\n",
    "plt.plot(fpr,tpr,label=\"Logistic test data, auc=\"+str(logis_test_auc))\n",
    "plt.legend(loc=4)\n",
    "plt.show()"
   ]
  },
  {
   "cell_type": "markdown",
   "metadata": {},
   "source": [
    "# Let's Fix the class Imbalance and apply some sampling techniques"
   ]
  },
  {
   "cell_type": "markdown",
   "metadata": {},
   "source": [
    "# ![](under_over_sampling.jpg)"
   ]
  },
  {
   "cell_type": "markdown",
   "metadata": {},
   "source": [
    "## SMOTE (Synthetic Minority Over-sampling Technique)"
   ]
  },
  {
   "cell_type": "markdown",
   "metadata": {},
   "source": [
    "# ![](smote.png)"
   ]
  },
  {
   "cell_type": "code",
   "execution_count": 76,
   "metadata": {},
   "outputs": [],
   "source": [
    "# !pip install imblearn\n",
    "# pip install --user imblearn"
   ]
  },
  {
   "cell_type": "code",
   "execution_count": 77,
   "metadata": {},
   "outputs": [],
   "source": [
    "from sklearn.metrics import precision_score, recall_score, f1_score, roc_auc_score, accuracy_score, classification_report\n",
    "from imblearn.under_sampling import RandomUnderSampler\n",
    "from imblearn.over_sampling import RandomOverSampler\n",
    "from imblearn.over_sampling import SMOTE"
   ]
  },
  {
   "cell_type": "markdown",
   "metadata": {},
   "source": [
    "### Lets do undersampling"
   ]
  },
  {
   "cell_type": "code",
   "execution_count": 78,
   "metadata": {},
   "outputs": [
    {
     "name": "stdout",
     "output_type": "stream",
     "text": [
      "Original dataset shape Counter({0: 283253, 1: 473})\n",
      "Resampled dataset shape Counter({0: 473, 1: 473})\n"
     ]
    }
   ],
   "source": [
    "from collections import Counter\n",
    "print('Original dataset shape %s' % Counter(y))\n",
    "rus = RandomUnderSampler(random_state=42)\n",
    "X_rus, y_rus = rus.fit_resample(X, y)\n",
    "print('Resampled dataset shape %s' % Counter(y_rus))"
   ]
  },
  {
   "cell_type": "code",
   "execution_count": 79,
   "metadata": {},
   "outputs": [
    {
     "data": {
      "text/plain": [
       "LogisticRegression(C=1.0, class_weight=None, dual=False, fit_intercept=True,\n",
       "                   intercept_scaling=1, l1_ratio=None, max_iter=100,\n",
       "                   multi_class='auto', n_jobs=None, penalty='l2',\n",
       "                   random_state=None, solver='lbfgs', tol=0.0001, verbose=0,\n",
       "                   warm_start=False)"
      ]
     },
     "execution_count": 79,
     "metadata": {},
     "output_type": "execute_result"
    }
   ],
   "source": [
    "X_train, X_test, y_train, y_test = train_test_split(X_rus, y_rus, test_size=0.3, random_state=0)\n",
    "logreg = LogisticRegression()\n",
    "logreg.fit(X_train, y_train)"
   ]
  },
  {
   "cell_type": "code",
   "execution_count": 80,
   "metadata": {},
   "outputs": [
    {
     "name": "stdout",
     "output_type": "stream",
     "text": [
      "0.9436619718309859\n"
     ]
    }
   ],
   "source": [
    "y_test_pred_logis_rus = logreg.predict(X_test)\n",
    "print(accuracy_score(y_test_pred_logis_rus , y_test))"
   ]
  },
  {
   "cell_type": "code",
   "execution_count": 81,
   "metadata": {},
   "outputs": [
    {
     "data": {
      "image/png": "[encoded data removed]",
      "text/plain": [
       "<Figure size 432x288 with 1 Axes>"
      ]
     },
     "metadata": {
      "needs_background": "light"
     },
     "output_type": "display_data"
    }
   ],
   "source": [
    "y_pred_proba = logreg.predict_proba(X_test)[::,1]\n",
    "fpr, tpr, _ = roc_curve(y_test,  y_test_pred_logis_rus)\n",
    "auc = roc_auc_score(y_test, y_test_pred_logis_rus)\n",
    "plt.plot(fpr,tpr,label=\"Logistic reg after undersampling, auc=\"+str(auc))\n",
    "plt.legend(loc=4)\n",
    "plt.show()"
   ]
  },
  {
   "cell_type": "markdown",
   "metadata": {},
   "source": [
    "### Lets try oversampling"
   ]
  },
  {
   "cell_type": "code",
   "execution_count": 82,
   "metadata": {},
   "outputs": [
    {
     "name": "stdout",
     "output_type": "stream",
     "text": [
      "Original dataset shape Counter({0: 283253, 1: 473})\n",
      "Resampled dataset shape Counter({0: 283253, 1: 283253})\n"
     ]
    }
   ],
   "source": [
    "print('Original dataset shape %s' % Counter(y))\n",
    "random_state = 42\n",
    "ros = RandomOverSampler(random_state=random_state)\n",
    "X_ros, y_ros = ros.fit_resample(X, y)\n",
    "print('Resampled dataset shape %s' % Counter(y_ros))"
   ]
  },
  {
   "cell_type": "code",
   "execution_count": 83,
   "metadata": {},
   "outputs": [
    {
     "data": {
      "text/plain": [
       "LogisticRegression(C=1.0, class_weight=None, dual=False, fit_intercept=True,\n",
       "                   intercept_scaling=1, l1_ratio=None, max_iter=100,\n",
       "                   multi_class='auto', n_jobs=None, penalty='l2',\n",
       "                   random_state=None, solver='lbfgs', tol=0.0001, verbose=0,\n",
       "                   warm_start=False)"
      ]
     },
     "execution_count": 83,
     "metadata": {},
     "output_type": "execute_result"
    }
   ],
   "source": [
    "X_train, X_test, y_train, y_test = train_test_split(X_ros, y_ros, test_size=0.3, random_state=0)\n",
    "logreg = LogisticRegression()\n",
    "logreg.fit(X_train, y_train)"
   ]
  },
  {
   "cell_type": "code",
   "execution_count": 84,
   "metadata": {},
   "outputs": [
    {
     "name": "stdout",
     "output_type": "stream",
     "text": [
      "0.9452198267746187\n"
     ]
    }
   ],
   "source": [
    "y_test_pred_logis_ros = logreg.predict(X_test)\n",
    "print(accuracy_score(y_test_pred_logis_ros , y_test))"
   ]
  },
  {
   "cell_type": "code",
   "execution_count": 85,
   "metadata": {},
   "outputs": [
    {
     "data": {
      "image/png": "[encoded data removed]",
      "text/plain": [
       "<Figure size 432x288 with 1 Axes>"
      ]
     },
     "metadata": {
      "needs_background": "light"
     },
     "output_type": "display_data"
    }
   ],
   "source": [
    "# y_pred_proba = logreg.predict_proba(X_test)[::,1]\n",
    "fpr, tpr, _ = roc_curve(y_test,  y_test_pred_logis_ros)\n",
    "auc = roc_auc_score(y_test, y_test_pred_logis_ros)\n",
    "plt.plot(fpr,tpr,label=\"Log reg for oversamplig, auc=\"+str(auc))\n",
    "plt.legend(loc=4)\n",
    "plt.show()"
   ]
  },
  {
   "cell_type": "markdown",
   "metadata": {},
   "source": [
    "### Let's try SMOTE "
   ]
  },
  {
   "cell_type": "code",
   "execution_count": 86,
   "metadata": {},
   "outputs": [
    {
     "name": "stdout",
     "output_type": "stream",
     "text": [
      "Original dataset shape Counter({0: 283253, 1: 473})\n",
      "Resampled dataset shape Counter({0: 283253, 1: 283253})\n"
     ]
    }
   ],
   "source": [
    "print('Original dataset shape %s' % Counter(y))\n",
    "smote = SMOTE(random_state=42)\n",
    "X_smote, y_smote = smote.fit_resample(X, y)\n",
    "print('Resampled dataset shape %s' % Counter(y_smote))"
   ]
  },
  {
   "cell_type": "code",
   "execution_count": 87,
   "metadata": {},
   "outputs": [
    {
     "data": {
      "text/plain": [
       "LogisticRegression(C=1.0, class_weight=None, dual=False, fit_intercept=True,\n",
       "                   intercept_scaling=1, l1_ratio=None, max_iter=100,\n",
       "                   multi_class='auto', n_jobs=None, penalty='l2',\n",
       "                   random_state=None, solver='lbfgs', tol=0.0001, verbose=0,\n",
       "                   warm_start=False)"
      ]
     },
     "execution_count": 87,
     "metadata": {},
     "output_type": "execute_result"
    }
   ],
   "source": [
    "X_train, X_test, y_train, y_test = train_test_split(X_smote, y_smote, test_size=0.3, random_state=0)\n",
    "logreg = LogisticRegression()\n",
    "logreg.fit(X_train, y_train)"
   ]
  },
  {
   "cell_type": "code",
   "execution_count": 88,
   "metadata": {},
   "outputs": [
    {
     "name": "stdout",
     "output_type": "stream",
     "text": [
      "0.9451315665599699\n"
     ]
    }
   ],
   "source": [
    "y_test_pred_logis_smote = logreg.predict(X_test)\n",
    "print(accuracy_score(y_test_pred_logis_smote , y_test))"
   ]
  },
  {
   "cell_type": "code",
   "execution_count": 89,
   "metadata": {},
   "outputs": [
    {
     "data": {
      "image/png": "[encoded data removed]",
      "text/plain": [
       "<Figure size 432x288 with 1 Axes>"
      ]
     },
     "metadata": {
      "needs_background": "light"
     },
     "output_type": "display_data"
    }
   ],
   "source": [
    "# y_pred_proba = logreg.predict_proba(X_test)[::,1]\n",
    "fpr, tpr, _ = roc_curve(y_test,  y_test_pred_logis_smote)\n",
    "auc = roc_auc_score(y_test, y_test_pred_logis_smote)\n",
    "plt.plot(fpr,tpr,label=\"Log reg in SMOTE, auc=\"+str(auc))\n",
    "plt.legend(loc=4)\n",
    "plt.show()"
   ]
  },
  {
   "cell_type": "markdown",
   "metadata": {},
   "source": [
    "# Principle Component Analysis"
   ]
  },
  {
   "cell_type": "code",
   "execution_count": 90,
   "metadata": {},
   "outputs": [
    {
     "data": {
      "image/png": "[encoded data removed]",
      "text/plain": [
       "<Figure size 432x288 with 1 Axes>"
      ]
     },
     "metadata": {
      "needs_background": "light"
     },
     "output_type": "display_data"
    }
   ],
   "source": [
    "from sklearn.decomposition import PCA # SVD , t-SNE , Linear Discrimant Analysis\n",
    "X_reduced_pca = PCA(n_components=2, random_state=42).fit_transform(X_smote)\n",
    "plt.scatter(X_reduced_pca[:,0], X_reduced_pca[:,1], c=(y_smote== 0), cmap='coolwarm', label='No Fraud', linewidths=2)\n",
    "plt.scatter(X_reduced_pca[:,0], X_reduced_pca[:,1], c=(y_smote == 1), cmap='coolwarm', label='Fraud', linewidths=2)\n",
    "plt.show()"
   ]
  },
  {
   "cell_type": "markdown",
   "metadata": {},
   "source": [
    "# Now applying different models and evaluating the dataset"
   ]
  },
  {
   "cell_type": "code",
   "execution_count": 104,
   "metadata": {},
   "outputs": [],
   "source": [
    "from sklearn.svm import SVC # Support Vector Classifier\n",
    "from sklearn.neighbors import KNeighborsClassifier\n",
    "from sklearn.tree import DecisionTreeClassifier\n",
    "from sklearn.ensemble import RandomForestClassifier\n",
    "# from sklearn.xgboost import XGBClassifier\n",
    "# from sklearn import cross_validation, metrics   #Additional scklearn functions\n",
    "# from sklearn.grid_search import GridSearchCV   #Perforing grid search"
   ]
  },
  {
   "cell_type": "markdown",
   "metadata": {},
   "source": [
    "#  Decision Tree Classifier"
   ]
  },
  {
   "cell_type": "code",
   "execution_count": 105,
   "metadata": {},
   "outputs": [
    {
     "name": "stdout",
     "output_type": "stream",
     "text": [
      "0.9992363542376466\n"
     ]
    },
    {
     "data": {
      "image/png": "[encoded data removed]",
      "text/plain": [
       "<Figure size 432x288 with 1 Axes>"
      ]
     },
     "metadata": {
      "needs_background": "light"
     },
     "output_type": "display_data"
    }
   ],
   "source": [
    "X_train, X_test, y_train, y_test = train_test_split(X, y, test_size=0.3, random_state=0)\n",
    "dte = DecisionTreeClassifier()\n",
    "dte.fit( X_train, y_train )\n",
    "y_test_pred_DT = dte.predict(X_test)\n",
    "print(accuracy_score(y_test_pred_DT , y_test))\n",
    "# y_pred_proba = dte.predict_proba(X_test)[::,1]\n",
    "fpr, tpr, _ = roc_curve(y_test,  y_test_pred_DT)\n",
    "auc = roc_auc_score(y_test, y_test_pred_DT)\n",
    "plt.plot(fpr,tpr,label=\"Decision Tree, auc=\"+str(auc))\n",
    "plt.legend(loc=4)\n",
    "plt.show()"
   ]
  },
  {
   "cell_type": "code",
   "execution_count": 106,
   "metadata": {},
   "outputs": [
    {
     "data": {
      "text/plain": [
       "array([[84962,    27],\n",
       "       [   38,    91]], dtype=int64)"
      ]
     },
     "execution_count": 106,
     "metadata": {},
     "output_type": "execute_result"
    }
   ],
   "source": [
    "cnf_matrix_DT = confusion_matrix(y_test , y_test_pred_DT)\n",
    "cnf_matrix_DT\n",
    "# sns.heatmap(pd.DataFrame(cnf_matrix_DT), annot = True, cmap = 'Blues', fmt = 'd')\n",
    "# plt.show()"
   ]
  },
  {
   "cell_type": "markdown",
   "metadata": {},
   "source": [
    "# Using undersampling for Decision Treee"
   ]
  },
  {
   "cell_type": "code",
   "execution_count": 107,
   "metadata": {},
   "outputs": [
    {
     "name": "stdout",
     "output_type": "stream",
     "text": [
      "0.8591549295774648\n"
     ]
    },
    {
     "data": {
      "image/png": "[encoded data removed]",
      "text/plain": [
       "<Figure size 432x288 with 1 Axes>"
      ]
     },
     "metadata": {
      "needs_background": "light"
     },
     "output_type": "display_data"
    }
   ],
   "source": [
    "X_train, X_test, y_train, y_test = train_test_split(X_rus, y_rus, test_size=0.3, random_state=0)\n",
    "dte = DecisionTreeClassifier()\n",
    "dte.fit(X_train, y_train)\n",
    "\n",
    "y_test_pred_DT_rus = dte.predict(X_test)\n",
    "print(accuracy_score(y_test_pred_DT_rus , y_test))\n",
    "\n",
    "# y_pred_proba = dte.predict_proba(X_test)[::,1]\n",
    "fpr, tpr, _ = roc_curve(y_test,  y_test_pred_DT_rus)\n",
    "auc = roc_auc_score(y_test, y_test_pred_DT_rus)\n",
    "plt.plot(fpr,tpr,label=\"data 1, auc=\"+str(auc))\n",
    "plt.legend(loc=4)\n",
    "plt.show()"
   ]
  },
  {
   "cell_type": "code",
   "execution_count": 108,
   "metadata": {},
   "outputs": [
    {
     "data": {
      "text/plain": [
       "array([[120,  26],\n",
       "       [ 14, 124]], dtype=int64)"
      ]
     },
     "execution_count": 108,
     "metadata": {},
     "output_type": "execute_result"
    }
   ],
   "source": [
    "cnf_matrix_DT_rus = confusion_matrix(y_test , y_test_pred_DT_rus)\n",
    "cnf_matrix_DT_rus"
   ]
  },
  {
   "cell_type": "markdown",
   "metadata": {},
   "source": [
    "# Using Over Sampling under Decision Tree"
   ]
  },
  {
   "cell_type": "code",
   "execution_count": 109,
   "metadata": {},
   "outputs": [
    {
     "name": "stdout",
     "output_type": "stream",
     "text": [
      "0.9996410751270947\n"
     ]
    },
    {
     "data": {
      "image/png": "[encoded data removed]",
      "text/plain": [
       "<Figure size 432x288 with 1 Axes>"
      ]
     },
     "metadata": {
      "needs_background": "light"
     },
     "output_type": "display_data"
    }
   ],
   "source": [
    "X_train, X_test, y_train, y_test = train_test_split(X_ros, y_ros, test_size=0.3, random_state=0)\n",
    "dte = DecisionTreeClassifier()\n",
    "dte.fit(X_train, y_train)\n",
    "\n",
    "y_test_pred_DT_ros = dte.predict(X_test)\n",
    "print(accuracy_score(y_test_pred_DT_ros , y_test))\n",
    "\n",
    "# y_pred_proba = dte.predict_proba(X_test)[::,1]\n",
    "fpr, tpr, _ = roc_curve(y_test,  y_test_pred_DT_ros)\n",
    "auc = roc_auc_score(y_test, y_test_pred_DT_ros)\n",
    "plt.plot(fpr,tpr,label=\"Decision Tree oversampling, auc=\"+str(auc))\n",
    "plt.legend(loc=4)\n",
    "plt.show()"
   ]
  },
  {
   "cell_type": "code",
   "execution_count": 110,
   "metadata": {},
   "outputs": [
    {
     "data": {
      "text/plain": [
       "array([[84669,    61],\n",
       "       [    0, 85222]], dtype=int64)"
      ]
     },
     "execution_count": 110,
     "metadata": {},
     "output_type": "execute_result"
    }
   ],
   "source": [
    "cnf_matrix_DT_ros = confusion_matrix(y_test , y_test_pred_DT_ros)\n",
    "cnf_matrix_DT_ros"
   ]
  },
  {
   "cell_type": "markdown",
   "metadata": {},
   "source": [
    "# Decision tree using SMOTE"
   ]
  },
  {
   "cell_type": "code",
   "execution_count": 111,
   "metadata": {},
   "outputs": [
    {
     "name": "stdout",
     "output_type": "stream",
     "text": [
      "0.9977464225192996\n"
     ]
    },
    {
     "data": {
      "image/png": "[encoded data removed]",
      "text/plain": [
       "<Figure size 432x288 with 1 Axes>"
      ]
     },
     "metadata": {
      "needs_background": "light"
     },
     "output_type": "display_data"
    }
   ],
   "source": [
    "X_train, X_test, y_train, y_test = train_test_split(X_smote, y_smote, test_size=0.3, random_state=0)\n",
    "dte = DecisionTreeClassifier()\n",
    "dte.fit(X_train, y_train)\n",
    "\n",
    "y_test_pred_DT_smote = dte.predict(X_test)\n",
    "print(accuracy_score(y_test_pred_DT_smote , y_test))\n",
    "\n",
    "# y_pred_proba = dte.predict_proba(X_test)[::,1]\n",
    "fpr, tpr, _ = roc_curve(y_test,  y_test_pred_DT_smote)\n",
    "auc = roc_auc_score(y_test, y_test_pred_DT_smote)\n",
    "plt.plot(fpr,tpr,label=\"Decision Tree using SMOTE, auc=\"+str(auc))\n",
    "plt.legend(loc=4)\n",
    "plt.show()"
   ]
  },
  {
   "cell_type": "code",
   "execution_count": 112,
   "metadata": {},
   "outputs": [
    {
     "data": {
      "text/plain": [
       "array([[84457,   273],\n",
       "       [  110, 85112]], dtype=int64)"
      ]
     },
     "execution_count": 112,
     "metadata": {},
     "output_type": "execute_result"
    }
   ],
   "source": [
    "cnf_matrix_DT_SMOTE = confusion_matrix(y_test , y_test_pred_DT_smote)\n",
    "cnf_matrix_DT_SMOTE"
   ]
  },
  {
   "cell_type": "markdown",
   "metadata": {},
   "source": [
    "# Random Forest Classifire"
   ]
  },
  {
   "cell_type": "code",
   "execution_count": 113,
   "metadata": {},
   "outputs": [
    {
     "name": "stdout",
     "output_type": "stream",
     "text": [
      "0.9995770577316196\n"
     ]
    },
    {
     "data": {
      "image/png": "[encoded data removed]",
      "text/plain": [
       "<Figure size 432x288 with 1 Axes>"
      ]
     },
     "metadata": {
      "needs_background": "light"
     },
     "output_type": "display_data"
    }
   ],
   "source": [
    "X_train, X_test, y_train, y_test = train_test_split(X, y, test_size=0.3, random_state=0)\n",
    "rfc = RandomForestClassifier()\n",
    "rfc.fit( X_train, y_train )\n",
    "\n",
    "y_test_pred_rfc = rfc.predict(X_test)\n",
    "\n",
    "print(accuracy_score(y_test_pred_rfc , y_test))\n",
    "\n",
    "# y_pred_proba = rfc.predict_proba(X_test)[::,1]\n",
    "fpr, tpr, _ = roc_curve(y_test,  y_test_pred_rfc)\n",
    "auc = roc_auc_score(y_test, y_test_pred_rfc)\n",
    "plt.plot(fpr,tpr,label=\"Random Forest, auc=\"+str(auc))\n",
    "plt.legend(loc=4)\n",
    "plt.show()"
   ]
  },
  {
   "cell_type": "code",
   "execution_count": 114,
   "metadata": {},
   "outputs": [
    {
     "data": {
      "text/plain": [
       "array([[84984,     5],\n",
       "       [   31,    98]], dtype=int64)"
      ]
     },
     "execution_count": 114,
     "metadata": {},
     "output_type": "execute_result"
    }
   ],
   "source": [
    "cnf_matrix_rfc = confusion_matrix(y_test , y_test_pred_rfc)\n",
    "cnf_matrix_rfc"
   ]
  },
  {
   "cell_type": "code",
   "execution_count": 115,
   "metadata": {},
   "outputs": [
    {
     "data": {
      "text/plain": [
       "0.999635358466153"
      ]
     },
     "execution_count": 115,
     "metadata": {},
     "output_type": "execute_result"
    }
   ],
   "source": [
    "84984/(84984+31)"
   ]
  },
  {
   "cell_type": "code",
   "execution_count": 116,
   "metadata": {},
   "outputs": [
    {
     "data": {
      "text/plain": [
       "0.9514563106796117"
      ]
     },
     "execution_count": 116,
     "metadata": {},
     "output_type": "execute_result"
    }
   ],
   "source": [
    "98/(98+5)"
   ]
  },
  {
   "cell_type": "markdown",
   "metadata": {},
   "source": [
    "### Rand forest using under sampling"
   ]
  },
  {
   "cell_type": "code",
   "execution_count": 121,
   "metadata": {},
   "outputs": [
    {
     "name": "stdout",
     "output_type": "stream",
     "text": [
      "0.9225352112676056\n"
     ]
    },
    {
     "data": {
      "image/png": "[encoded data removed]",
      "text/plain": [
       "<Figure size 432x288 with 1 Axes>"
      ]
     },
     "metadata": {
      "needs_background": "light"
     },
     "output_type": "display_data"
    }
   ],
   "source": [
    "X_train, X_test, y_train, y_test = train_test_split(X_rus, y_rus, test_size=0.3, random_state=0)\n",
    "rfc = RandomForestClassifier()\n",
    "rfc.fit( X_train, y_train )\n",
    "\n",
    "y_test_pred_rfc = rfc.predict(X_test)\n",
    "\n",
    "print(accuracy_score(y_test_pred_rfc , y_test))\n",
    "\n",
    "# y_pred_proba = rfc.predict_proba(X_test)[::,1]\n",
    "fpr, tpr, _ = roc_curve(y_test,  y_test_pred_rfc)\n",
    "auc = roc_auc_score(y_test, y_test_pred_rfc)\n",
    "plt.plot(fpr,tpr,label=\"Random Forest undersampling, auc=\"+str(auc))\n",
    "plt.legend(loc=4)\n",
    "plt.show()"
   ]
  },
  {
   "cell_type": "code",
   "execution_count": 122,
   "metadata": {},
   "outputs": [
    {
     "data": {
      "text/plain": [
       "array([[138,   8],\n",
       "       [ 14, 124]], dtype=int64)"
      ]
     },
     "execution_count": 122,
     "metadata": {},
     "output_type": "execute_result"
    }
   ],
   "source": [
    "cnf_matrix_rfc = confusion_matrix(y_test , y_test_pred_rfc)\n",
    "cnf_matrix_rfc"
   ]
  },
  {
   "cell_type": "markdown",
   "metadata": {},
   "source": [
    "###  Rand forest using over sampling"
   ]
  },
  {
   "cell_type": "code",
   "execution_count": 123,
   "metadata": {},
   "outputs": [
    {
     "name": "stdout",
     "output_type": "stream",
     "text": [
      "0.9999176237996611\n"
     ]
    },
    {
     "data": {
      "image/png": "[encoded data removed]",
      "text/plain": [
       "<Figure size 432x288 with 1 Axes>"
      ]
     },
     "metadata": {
      "needs_background": "light"
     },
     "output_type": "display_data"
    }
   ],
   "source": [
    "X_train, X_test, y_train, y_test = train_test_split(X_ros, y_ros, test_size=0.3, random_state=0)\n",
    "rfc = RandomForestClassifier()\n",
    "rfc.fit( X_train, y_train )\n",
    "\n",
    "y_test_pred_rfc = rfc.predict(X_test)\n",
    "\n",
    "print(accuracy_score(y_test_pred_rfc , y_test))\n",
    "\n",
    "# y_pred_proba = rfc.predict_proba(X_test)[::,1]\n",
    "fpr, tpr, _ = roc_curve(y_test,  y_test_pred_rfc)\n",
    "auc = roc_auc_score(y_test, y_test_pred_rfc)\n",
    "plt.plot(fpr,tpr,label=\"Random Forest oversampling, auc=\"+str(auc))\n",
    "plt.legend(loc=4)\n",
    "plt.show()"
   ]
  },
  {
   "cell_type": "code",
   "execution_count": 124,
   "metadata": {},
   "outputs": [
    {
     "data": {
      "text/plain": [
       "array([[84716,    14],\n",
       "       [    0, 85222]], dtype=int64)"
      ]
     },
     "execution_count": 124,
     "metadata": {},
     "output_type": "execute_result"
    }
   ],
   "source": [
    "cnf_matrix_rfc = confusion_matrix(y_test , y_test_pred_rfc)\n",
    "cnf_matrix_rfc"
   ]
  },
  {
   "cell_type": "markdown",
   "metadata": {},
   "source": [
    "### Random sampling using SMOTE"
   ]
  },
  {
   "cell_type": "code",
   "execution_count": 125,
   "metadata": {},
   "outputs": [
    {
     "name": "stdout",
     "output_type": "stream",
     "text": [
      "0.9998411316136321\n"
     ]
    },
    {
     "data": {
      "image/png": "[encoded data removed]",
      "text/plain": [
       "<Figure size 432x288 with 1 Axes>"
      ]
     },
     "metadata": {
      "needs_background": "light"
     },
     "output_type": "display_data"
    }
   ],
   "source": [
    "X_train, X_test, y_train, y_test = train_test_split(X_smote, y_smote, test_size=0.3, random_state=0)\n",
    "rfc = RandomForestClassifier()\n",
    "rfc.fit( X_train, y_train )\n",
    "\n",
    "y_test_pred_rfc = rfc.predict(X_test)\n",
    "\n",
    "print(accuracy_score(y_test_pred_rfc , y_test))\n",
    "\n",
    "# y_pred_proba = rfc.predict_proba(X_test)[::,1]\n",
    "fpr, tpr, _ = roc_curve(y_test,  y_test_pred_rfc)\n",
    "auc = roc_auc_score(y_test, y_test_pred_rfc)\n",
    "plt.plot(fpr,tpr,label=\"Random Forest SMOTE, auc=\"+str(auc))\n",
    "plt.legend(loc=4)\n",
    "plt.show()"
   ]
  },
  {
   "cell_type": "code",
   "execution_count": 126,
   "metadata": {},
   "outputs": [
    {
     "data": {
      "text/plain": [
       "array([[84703,    27],\n",
       "       [    0, 85222]], dtype=int64)"
      ]
     },
     "execution_count": 126,
     "metadata": {},
     "output_type": "execute_result"
    }
   ],
   "source": [
    "cnf_matrix_rfc = confusion_matrix(y_test , y_test_pred_rfc)\n",
    "cnf_matrix_rfc"
   ]
  },
  {
   "cell_type": "code",
   "execution_count": 134,
   "metadata": {},
   "outputs": [
    {
     "data": {
      "text/plain": [
       "0.9996832807422961"
      ]
     },
     "execution_count": 134,
     "metadata": {},
     "output_type": "execute_result"
    }
   ],
   "source": [
    "85222/(85222+27)"
   ]
  },
  {
   "cell_type": "markdown",
   "metadata": {},
   "source": [
    "# Implementing Grid Search"
   ]
  },
  {
   "cell_type": "markdown",
   "metadata": {},
   "source": [
    "### Grid Search for Logistic Regression"
   ]
  },
  {
   "cell_type": "code",
   "execution_count": null,
   "metadata": {},
   "outputs": [],
   "source": [
    "# from sklearn.model_selection import GridSearchCV\n",
    "\n",
    "# # Logistic Regression \n",
    "# log_reg_params = {\"penalty\": ['l1', 'l2'], 'C': [0.001, 0.01, 0.1, 1, 10, 100, 1000]}\n",
    "# grid_log_reg = GridSearchCV(LogisticRegression(), log_reg_params)\n",
    "# grid_log_reg.fit(X_train, y_train)\n",
    "\n",
    "# # We automatically get the logistic regression with the best parameters.\n",
    "# log_reg = grid_log_reg.best_estimator_"
   ]
  },
  {
   "cell_type": "markdown",
   "metadata": {},
   "source": [
    "### KNN Grid Search"
   ]
  },
  {
   "cell_type": "code",
   "execution_count": null,
   "metadata": {},
   "outputs": [],
   "source": [
    "# knears_params = {\"n_neighbors\": list(range(2,5,1)), 'algorithm': ['auto', 'ball_tree', 'kd_tree', 'brute']}\n",
    "\n",
    "# grid_knears = GridSearchCV(KNeighborsClassifier(), knears_params)\n",
    "# grid_knears.fit(X_train, y_train)\n",
    "# # KNears best estimator\n",
    "# knears_neighbors = grid_knears.best_estimator_"
   ]
  },
  {
   "cell_type": "markdown",
   "metadata": {},
   "source": [
    "### SVM Grid Search"
   ]
  },
  {
   "cell_type": "code",
   "execution_count": null,
   "metadata": {},
   "outputs": [],
   "source": [
    "# Support Vector Classifier\n",
    "# svc_params = {'C': [0.5, 0.7, 0.9, 1], 'kernel': ['rbf', 'poly', 'sigmoid', 'linear']}\n",
    "# grid_svc = GridSearchCV(SVC(), svc_params)\n",
    "# grid_svc.fit(X_train, y_train)\n",
    "# # SVC best estimator\n",
    "# svc = grid_svc.best_estimator_\n"
   ]
  },
  {
   "cell_type": "markdown",
   "metadata": {},
   "source": [
    "### Decision Tree Grid Search"
   ]
  },
  {
   "cell_type": "code",
   "execution_count": null,
   "metadata": {},
   "outputs": [],
   "source": [
    "# # DecisionTree Classifier\n",
    "# tree_params = {\"criterion\": [\"gini\", \"entropy\"], \"max_depth\": list(range(2,4,1)), \n",
    "#               \"min_samples_leaf\": list(range(5,7,1))}\n",
    "# grid_tree = GridSearchCV(DecisionTreeClassifier(), tree_params)\n",
    "# grid_tree.fit(X_train, y_train)\n",
    "\n",
    "# # tree best estimator\n",
    "# tree_clf = grid_tree.best_estimator_"
   ]
  },
  {
   "cell_type": "markdown",
   "metadata": {},
   "source": [
    "### Random forest Grid Search"
   ]
  },
  {
   "cell_type": "code",
   "execution_count": 100,
   "metadata": {},
   "outputs": [
    {
     "name": "stdout",
     "output_type": "stream",
     "text": [
      "Parameters currently in use:\n",
      "\n",
      "{'bootstrap': True,\n",
      " 'ccp_alpha': 0.0,\n",
      " 'criterion': 'mse',\n",
      " 'max_depth': None,\n",
      " 'max_features': 'auto',\n",
      " 'max_leaf_nodes': None,\n",
      " 'max_samples': None,\n",
      " 'min_impurity_decrease': 0.0,\n",
      " 'min_impurity_split': None,\n",
      " 'min_samples_leaf': 1,\n",
      " 'min_samples_split': 2,\n",
      " 'min_weight_fraction_leaf': 0.0,\n",
      " 'n_estimators': 100,\n",
      " 'n_jobs': None,\n",
      " 'oob_score': False,\n",
      " 'random_state': 42,\n",
      " 'verbose': 0,\n",
      " 'warm_start': False}\n"
     ]
    }
   ],
   "source": [
    "from sklearn.ensemble import RandomForestRegressor\n",
    "rfc = RandomForestRegressor(random_state = 42)\n",
    "from pprint import pprint\n",
    "# Look at parameters used by our current forest\n",
    "print('Parameters currently in use:\\n')\n",
    "pprint(rfc.get_params())"
   ]
  },
  {
   "cell_type": "markdown",
   "metadata": {},
   "source": [
    "The most important settings in random forest classifire are the number of trees in the forest (n_estimators) and the number of features considered for splitting at each leaf node (max_features).\n",
    "\n",
    "__We will try adjusting the following set of hyperparameters:__\n",
    "- n_estimators = number of trees in the foreset\n",
    "- max_features = max number of features considered for splitting a node\n",
    "- max_depth = max number of levels in each decision tree\n",
    "- min_samples_split = min number of data points placed in a node before the node is split\n",
    "- min_samples_leaf = min number of data points allowed in a leaf node\n",
    "- bootstrap = method for sampling data points (with or without replacement)"
   ]
  },
  {
   "cell_type": "code",
   "execution_count": null,
   "metadata": {},
   "outputs": [],
   "source": [
    "from sklearn.model_selection import RandomizedSearchCV\n",
    "# Number of trees in random forest\n",
    "n_estimators = [int(x) for x in np.linspace(start = 200, stop = 2000, num = 10)]\n",
    "\n",
    "# Number of features to consider at every split\n",
    "max_features = ['auto', 'sqrt']\n",
    "\n",
    "# Maximum number of levels in tree\n",
    "max_depth = [int(x) for x in np.linspace(10, 110, num = 11)]\n",
    "max_depth.append(None)\n",
    "\n",
    "# Minimum number of samples required to split a node\n",
    "min_samples_split = [2, 5, 10]\n",
    "\n",
    "# Minimum number of samples required at each leaf node\n",
    "min_samples_leaf = [1, 2, 4]\n",
    "\n",
    "# Method of selecting samples for training each tree\n",
    "bootstrap = [True, False]\n",
    "\n",
    "# Create the random grid\n",
    "random_grid = {'n_estimators': n_estimators,\n",
    "               'max_features': max_features,\n",
    "               'max_depth': max_depth,\n",
    "               'min_samples_split': min_samples_split,\n",
    "               'min_samples_leaf': min_samples_leaf,\n",
    "               'bootstrap': bootstrap}\n",
    "pprint(random_grid)"
   ]
  },
  {
   "cell_type": "code",
   "execution_count": null,
   "metadata": {},
   "outputs": [],
   "source": [
    "# # Use the random grid to search for best hyperparameters\n",
    "# # First create the base model to tune\n",
    "# rfc = RandomForestRegressor()\n",
    "# # Random search of parameters, using 3 fold cross validation, \n",
    "# # search across 100 different combinations, and use all available cores\n",
    "# rf_random = RandomizedSearchCV(estimator = rfc, param_distributions = random_grid, n_iter = 100, cv = 3, verbose=2, random_state=42, n_jobs = -1)\n",
    "# # Fit the random search model\n",
    "# rf_random.fit(X_train, y_train)"
   ]
  },
  {
   "cell_type": "code",
   "execution_count": 130,
   "metadata": {},
   "outputs": [],
   "source": [
    "rfc=RandomForestClassifier(random_state=42)\n",
    "param_grid = { \n",
    "    'n_estimators': [200, 500],\n",
    "    'max_features': ['auto', 'sqrt', 'log2'],\n",
    "    'max_depth' : [4,5,6,7,8],\n",
    "    'criterion' :['gini', 'entropy']\n",
    "}"
   ]
  },
  {
   "cell_type": "code",
   "execution_count": 131,
   "metadata": {},
   "outputs": [],
   "source": [
    "from sklearn.model_selection import cross_val_score\n",
    "from sklearn.model_selection import GridSearchCV\n",
    "from sklearn.ensemble import RandomForestClassifier\n",
    "from sklearn.metrics import accuracy_score"
   ]
  },
  {
   "cell_type": "code",
   "execution_count": 132,
   "metadata": {},
   "outputs": [
    {
     "ename": "KeyboardInterrupt",
     "evalue": "",
     "output_type": "error",
     "traceback": [
      "\u001b[1;31m---------------------------------------------------------------------------\u001b[0m",
      "\u001b[1;31mKeyboardInterrupt\u001b[0m                         Traceback (most recent call last)",
      "\u001b[1;32m<ipython-input-132-2e1641960929>\u001b[0m in \u001b[0;36m<module>\u001b[1;34m\u001b[0m\n\u001b[0;32m      3\u001b[0m \u001b[0mX_train\u001b[0m\u001b[1;33m,\u001b[0m \u001b[0mX_test\u001b[0m\u001b[1;33m,\u001b[0m \u001b[0my_train\u001b[0m\u001b[1;33m,\u001b[0m \u001b[0my_test\u001b[0m \u001b[1;33m=\u001b[0m \u001b[0mtrain_test_split\u001b[0m\u001b[1;33m(\u001b[0m\u001b[0mX_smote\u001b[0m\u001b[1;33m,\u001b[0m \u001b[0my_smote\u001b[0m\u001b[1;33m,\u001b[0m \u001b[0mtest_size\u001b[0m\u001b[1;33m=\u001b[0m\u001b[1;36m0.3\u001b[0m\u001b[1;33m,\u001b[0m \u001b[0mrandom_state\u001b[0m\u001b[1;33m=\u001b[0m\u001b[1;36m0\u001b[0m\u001b[1;33m)\u001b[0m\u001b[1;33m\u001b[0m\u001b[1;33m\u001b[0m\u001b[0m\n\u001b[0;32m      4\u001b[0m \u001b[1;33m\u001b[0m\u001b[0m\n\u001b[1;32m----> 5\u001b[1;33m \u001b[0mCV_rfc\u001b[0m\u001b[1;33m.\u001b[0m\u001b[0mfit\u001b[0m\u001b[1;33m(\u001b[0m \u001b[0mX_train\u001b[0m\u001b[1;33m,\u001b[0m \u001b[0my_train\u001b[0m \u001b[1;33m)\u001b[0m\u001b[1;33m\u001b[0m\u001b[1;33m\u001b[0m\u001b[0m\n\u001b[0m",
      "\u001b[1;32m~\\Anaconda3\\lib\\site-packages\\sklearn\\model_selection\\_search.py\u001b[0m in \u001b[0;36mfit\u001b[1;34m(self, X, y, groups, **fit_params)\u001b[0m\n\u001b[0;32m    710\u001b[0m                 \u001b[1;32mreturn\u001b[0m \u001b[0mresults\u001b[0m\u001b[1;33m\u001b[0m\u001b[1;33m\u001b[0m\u001b[0m\n\u001b[0;32m    711\u001b[0m \u001b[1;33m\u001b[0m\u001b[0m\n\u001b[1;32m--> 712\u001b[1;33m             \u001b[0mself\u001b[0m\u001b[1;33m.\u001b[0m\u001b[0m_run_search\u001b[0m\u001b[1;33m(\u001b[0m\u001b[0mevaluate_candidates\u001b[0m\u001b[1;33m)\u001b[0m\u001b[1;33m\u001b[0m\u001b[1;33m\u001b[0m\u001b[0m\n\u001b[0m\u001b[0;32m    713\u001b[0m \u001b[1;33m\u001b[0m\u001b[0m\n\u001b[0;32m    714\u001b[0m         \u001b[1;31m# For multi-metric evaluation, store the best_index_, best_params_ and\u001b[0m\u001b[1;33m\u001b[0m\u001b[1;33m\u001b[0m\u001b[1;33m\u001b[0m\u001b[0m\n",
      "\u001b[1;32m~\\Anaconda3\\lib\\site-packages\\sklearn\\model_selection\\_search.py\u001b[0m in \u001b[0;36m_run_search\u001b[1;34m(self, evaluate_candidates)\u001b[0m\n\u001b[0;32m   1151\u001b[0m     \u001b[1;32mdef\u001b[0m \u001b[0m_run_search\u001b[0m\u001b[1;33m(\u001b[0m\u001b[0mself\u001b[0m\u001b[1;33m,\u001b[0m \u001b[0mevaluate_candidates\u001b[0m\u001b[1;33m)\u001b[0m\u001b[1;33m:\u001b[0m\u001b[1;33m\u001b[0m\u001b[1;33m\u001b[0m\u001b[0m\n\u001b[0;32m   1152\u001b[0m         \u001b[1;34m\"\"\"Search all candidates in param_grid\"\"\"\u001b[0m\u001b[1;33m\u001b[0m\u001b[1;33m\u001b[0m\u001b[0m\n\u001b[1;32m-> 1153\u001b[1;33m         \u001b[0mevaluate_candidates\u001b[0m\u001b[1;33m(\u001b[0m\u001b[0mParameterGrid\u001b[0m\u001b[1;33m(\u001b[0m\u001b[0mself\u001b[0m\u001b[1;33m.\u001b[0m\u001b[0mparam_grid\u001b[0m\u001b[1;33m)\u001b[0m\u001b[1;33m)\u001b[0m\u001b[1;33m\u001b[0m\u001b[1;33m\u001b[0m\u001b[0m\n\u001b[0m\u001b[0;32m   1154\u001b[0m \u001b[1;33m\u001b[0m\u001b[0m\n\u001b[0;32m   1155\u001b[0m \u001b[1;33m\u001b[0m\u001b[0m\n",
      "\u001b[1;32m~\\Anaconda3\\lib\\site-packages\\sklearn\\model_selection\\_search.py\u001b[0m in \u001b[0;36mevaluate_candidates\u001b[1;34m(candidate_params)\u001b[0m\n\u001b[0;32m    689\u001b[0m                                \u001b[1;32mfor\u001b[0m \u001b[0mparameters\u001b[0m\u001b[1;33m,\u001b[0m \u001b[1;33m(\u001b[0m\u001b[0mtrain\u001b[0m\u001b[1;33m,\u001b[0m \u001b[0mtest\u001b[0m\u001b[1;33m)\u001b[0m\u001b[1;33m\u001b[0m\u001b[1;33m\u001b[0m\u001b[0m\n\u001b[0;32m    690\u001b[0m                                in product(candidate_params,\n\u001b[1;32m--> 691\u001b[1;33m                                           cv.split(X, y, groups)))\n\u001b[0m\u001b[0;32m    692\u001b[0m \u001b[1;33m\u001b[0m\u001b[0m\n\u001b[0;32m    693\u001b[0m                 \u001b[1;32mif\u001b[0m \u001b[0mlen\u001b[0m\u001b[1;33m(\u001b[0m\u001b[0mout\u001b[0m\u001b[1;33m)\u001b[0m \u001b[1;33m<\u001b[0m \u001b[1;36m1\u001b[0m\u001b[1;33m:\u001b[0m\u001b[1;33m\u001b[0m\u001b[1;33m\u001b[0m\u001b[0m\n",
      "\u001b[1;32m~\\Anaconda3\\lib\\site-packages\\joblib\\parallel.py\u001b[0m in \u001b[0;36m__call__\u001b[1;34m(self, iterable)\u001b[0m\n\u001b[0;32m    922\u001b[0m                 \u001b[0mself\u001b[0m\u001b[1;33m.\u001b[0m\u001b[0m_iterating\u001b[0m \u001b[1;33m=\u001b[0m \u001b[0mself\u001b[0m\u001b[1;33m.\u001b[0m\u001b[0m_original_iterator\u001b[0m \u001b[1;32mis\u001b[0m \u001b[1;32mnot\u001b[0m \u001b[1;32mNone\u001b[0m\u001b[1;33m\u001b[0m\u001b[1;33m\u001b[0m\u001b[0m\n\u001b[0;32m    923\u001b[0m \u001b[1;33m\u001b[0m\u001b[0m\n\u001b[1;32m--> 924\u001b[1;33m             \u001b[1;32mwhile\u001b[0m \u001b[0mself\u001b[0m\u001b[1;33m.\u001b[0m\u001b[0mdispatch_one_batch\u001b[0m\u001b[1;33m(\u001b[0m\u001b[0miterator\u001b[0m\u001b[1;33m)\u001b[0m\u001b[1;33m:\u001b[0m\u001b[1;33m\u001b[0m\u001b[1;33m\u001b[0m\u001b[0m\n\u001b[0m\u001b[0;32m    925\u001b[0m                 \u001b[1;32mpass\u001b[0m\u001b[1;33m\u001b[0m\u001b[1;33m\u001b[0m\u001b[0m\n\u001b[0;32m    926\u001b[0m \u001b[1;33m\u001b[0m\u001b[0m\n",
      "\u001b[1;32m~\\Anaconda3\\lib\\site-packages\\joblib\\parallel.py\u001b[0m in \u001b[0;36mdispatch_one_batch\u001b[1;34m(self, iterator)\u001b[0m\n\u001b[0;32m    757\u001b[0m                 \u001b[1;32mreturn\u001b[0m \u001b[1;32mFalse\u001b[0m\u001b[1;33m\u001b[0m\u001b[1;33m\u001b[0m\u001b[0m\n\u001b[0;32m    758\u001b[0m             \u001b[1;32melse\u001b[0m\u001b[1;33m:\u001b[0m\u001b[1;33m\u001b[0m\u001b[1;33m\u001b[0m\u001b[0m\n\u001b[1;32m--> 759\u001b[1;33m                 \u001b[0mself\u001b[0m\u001b[1;33m.\u001b[0m\u001b[0m_dispatch\u001b[0m\u001b[1;33m(\u001b[0m\u001b[0mtasks\u001b[0m\u001b[1;33m)\u001b[0m\u001b[1;33m\u001b[0m\u001b[1;33m\u001b[0m\u001b[0m\n\u001b[0m\u001b[0;32m    760\u001b[0m                 \u001b[1;32mreturn\u001b[0m \u001b[1;32mTrue\u001b[0m\u001b[1;33m\u001b[0m\u001b[1;33m\u001b[0m\u001b[0m\n\u001b[0;32m    761\u001b[0m \u001b[1;33m\u001b[0m\u001b[0m\n",
      "\u001b[1;32m~\\Anaconda3\\lib\\site-packages\\joblib\\parallel.py\u001b[0m in \u001b[0;36m_dispatch\u001b[1;34m(self, batch)\u001b[0m\n\u001b[0;32m    714\u001b[0m         \u001b[1;32mwith\u001b[0m \u001b[0mself\u001b[0m\u001b[1;33m.\u001b[0m\u001b[0m_lock\u001b[0m\u001b[1;33m:\u001b[0m\u001b[1;33m\u001b[0m\u001b[1;33m\u001b[0m\u001b[0m\n\u001b[0;32m    715\u001b[0m             \u001b[0mjob_idx\u001b[0m \u001b[1;33m=\u001b[0m \u001b[0mlen\u001b[0m\u001b[1;33m(\u001b[0m\u001b[0mself\u001b[0m\u001b[1;33m.\u001b[0m\u001b[0m_jobs\u001b[0m\u001b[1;33m)\u001b[0m\u001b[1;33m\u001b[0m\u001b[1;33m\u001b[0m\u001b[0m\n\u001b[1;32m--> 716\u001b[1;33m             \u001b[0mjob\u001b[0m \u001b[1;33m=\u001b[0m \u001b[0mself\u001b[0m\u001b[1;33m.\u001b[0m\u001b[0m_backend\u001b[0m\u001b[1;33m.\u001b[0m\u001b[0mapply_async\u001b[0m\u001b[1;33m(\u001b[0m\u001b[0mbatch\u001b[0m\u001b[1;33m,\u001b[0m \u001b[0mcallback\u001b[0m\u001b[1;33m=\u001b[0m\u001b[0mcb\u001b[0m\u001b[1;33m)\u001b[0m\u001b[1;33m\u001b[0m\u001b[1;33m\u001b[0m\u001b[0m\n\u001b[0m\u001b[0;32m    717\u001b[0m             \u001b[1;31m# A job can complete so quickly than its callback is\u001b[0m\u001b[1;33m\u001b[0m\u001b[1;33m\u001b[0m\u001b[1;33m\u001b[0m\u001b[0m\n\u001b[0;32m    718\u001b[0m             \u001b[1;31m# called before we get here, causing self._jobs to\u001b[0m\u001b[1;33m\u001b[0m\u001b[1;33m\u001b[0m\u001b[1;33m\u001b[0m\u001b[0m\n",
      "\u001b[1;32m~\\Anaconda3\\lib\\site-packages\\joblib\\_parallel_backends.py\u001b[0m in \u001b[0;36mapply_async\u001b[1;34m(self, func, callback)\u001b[0m\n\u001b[0;32m    180\u001b[0m     \u001b[1;32mdef\u001b[0m \u001b[0mapply_async\u001b[0m\u001b[1;33m(\u001b[0m\u001b[0mself\u001b[0m\u001b[1;33m,\u001b[0m \u001b[0mfunc\u001b[0m\u001b[1;33m,\u001b[0m \u001b[0mcallback\u001b[0m\u001b[1;33m=\u001b[0m\u001b[1;32mNone\u001b[0m\u001b[1;33m)\u001b[0m\u001b[1;33m:\u001b[0m\u001b[1;33m\u001b[0m\u001b[1;33m\u001b[0m\u001b[0m\n\u001b[0;32m    181\u001b[0m         \u001b[1;34m\"\"\"Schedule a func to be run\"\"\"\u001b[0m\u001b[1;33m\u001b[0m\u001b[1;33m\u001b[0m\u001b[0m\n\u001b[1;32m--> 182\u001b[1;33m         \u001b[0mresult\u001b[0m \u001b[1;33m=\u001b[0m \u001b[0mImmediateResult\u001b[0m\u001b[1;33m(\u001b[0m\u001b[0mfunc\u001b[0m\u001b[1;33m)\u001b[0m\u001b[1;33m\u001b[0m\u001b[1;33m\u001b[0m\u001b[0m\n\u001b[0m\u001b[0;32m    183\u001b[0m         \u001b[1;32mif\u001b[0m \u001b[0mcallback\u001b[0m\u001b[1;33m:\u001b[0m\u001b[1;33m\u001b[0m\u001b[1;33m\u001b[0m\u001b[0m\n\u001b[0;32m    184\u001b[0m             \u001b[0mcallback\u001b[0m\u001b[1;33m(\u001b[0m\u001b[0mresult\u001b[0m\u001b[1;33m)\u001b[0m\u001b[1;33m\u001b[0m\u001b[1;33m\u001b[0m\u001b[0m\n",
      "\u001b[1;32m~\\Anaconda3\\lib\\site-packages\\joblib\\_parallel_backends.py\u001b[0m in \u001b[0;36m__init__\u001b[1;34m(self, batch)\u001b[0m\n\u001b[0;32m    547\u001b[0m         \u001b[1;31m# Don't delay the application, to avoid keeping the input\u001b[0m\u001b[1;33m\u001b[0m\u001b[1;33m\u001b[0m\u001b[1;33m\u001b[0m\u001b[0m\n\u001b[0;32m    548\u001b[0m         \u001b[1;31m# arguments in memory\u001b[0m\u001b[1;33m\u001b[0m\u001b[1;33m\u001b[0m\u001b[1;33m\u001b[0m\u001b[0m\n\u001b[1;32m--> 549\u001b[1;33m         \u001b[0mself\u001b[0m\u001b[1;33m.\u001b[0m\u001b[0mresults\u001b[0m \u001b[1;33m=\u001b[0m \u001b[0mbatch\u001b[0m\u001b[1;33m(\u001b[0m\u001b[1;33m)\u001b[0m\u001b[1;33m\u001b[0m\u001b[1;33m\u001b[0m\u001b[0m\n\u001b[0m\u001b[0;32m    550\u001b[0m \u001b[1;33m\u001b[0m\u001b[0m\n\u001b[0;32m    551\u001b[0m     \u001b[1;32mdef\u001b[0m \u001b[0mget\u001b[0m\u001b[1;33m(\u001b[0m\u001b[0mself\u001b[0m\u001b[1;33m)\u001b[0m\u001b[1;33m:\u001b[0m\u001b[1;33m\u001b[0m\u001b[1;33m\u001b[0m\u001b[0m\n",
      "\u001b[1;32m~\\Anaconda3\\lib\\site-packages\\joblib\\parallel.py\u001b[0m in \u001b[0;36m__call__\u001b[1;34m(self)\u001b[0m\n\u001b[0;32m    223\u001b[0m         \u001b[1;32mwith\u001b[0m \u001b[0mparallel_backend\u001b[0m\u001b[1;33m(\u001b[0m\u001b[0mself\u001b[0m\u001b[1;33m.\u001b[0m\u001b[0m_backend\u001b[0m\u001b[1;33m,\u001b[0m \u001b[0mn_jobs\u001b[0m\u001b[1;33m=\u001b[0m\u001b[0mself\u001b[0m\u001b[1;33m.\u001b[0m\u001b[0m_n_jobs\u001b[0m\u001b[1;33m)\u001b[0m\u001b[1;33m:\u001b[0m\u001b[1;33m\u001b[0m\u001b[1;33m\u001b[0m\u001b[0m\n\u001b[0;32m    224\u001b[0m             return [func(*args, **kwargs)\n\u001b[1;32m--> 225\u001b[1;33m                     for func, args, kwargs in self.items]\n\u001b[0m\u001b[0;32m    226\u001b[0m \u001b[1;33m\u001b[0m\u001b[0m\n\u001b[0;32m    227\u001b[0m     \u001b[1;32mdef\u001b[0m \u001b[0m__len__\u001b[0m\u001b[1;33m(\u001b[0m\u001b[0mself\u001b[0m\u001b[1;33m)\u001b[0m\u001b[1;33m:\u001b[0m\u001b[1;33m\u001b[0m\u001b[1;33m\u001b[0m\u001b[0m\n",
      "\u001b[1;32m~\\Anaconda3\\lib\\site-packages\\joblib\\parallel.py\u001b[0m in \u001b[0;36m<listcomp>\u001b[1;34m(.0)\u001b[0m\n\u001b[0;32m    223\u001b[0m         \u001b[1;32mwith\u001b[0m \u001b[0mparallel_backend\u001b[0m\u001b[1;33m(\u001b[0m\u001b[0mself\u001b[0m\u001b[1;33m.\u001b[0m\u001b[0m_backend\u001b[0m\u001b[1;33m,\u001b[0m \u001b[0mn_jobs\u001b[0m\u001b[1;33m=\u001b[0m\u001b[0mself\u001b[0m\u001b[1;33m.\u001b[0m\u001b[0m_n_jobs\u001b[0m\u001b[1;33m)\u001b[0m\u001b[1;33m:\u001b[0m\u001b[1;33m\u001b[0m\u001b[1;33m\u001b[0m\u001b[0m\n\u001b[0;32m    224\u001b[0m             return [func(*args, **kwargs)\n\u001b[1;32m--> 225\u001b[1;33m                     for func, args, kwargs in self.items]\n\u001b[0m\u001b[0;32m    226\u001b[0m \u001b[1;33m\u001b[0m\u001b[0m\n\u001b[0;32m    227\u001b[0m     \u001b[1;32mdef\u001b[0m \u001b[0m__len__\u001b[0m\u001b[1;33m(\u001b[0m\u001b[0mself\u001b[0m\u001b[1;33m)\u001b[0m\u001b[1;33m:\u001b[0m\u001b[1;33m\u001b[0m\u001b[1;33m\u001b[0m\u001b[0m\n",
      "\u001b[1;32m~\\Anaconda3\\lib\\site-packages\\sklearn\\model_selection\\_validation.py\u001b[0m in \u001b[0;36m_fit_and_score\u001b[1;34m(estimator, X, y, scorer, train, test, verbose, parameters, fit_params, return_train_score, return_parameters, return_n_test_samples, return_times, return_estimator, error_score)\u001b[0m\n\u001b[0;32m    513\u001b[0m             \u001b[0mestimator\u001b[0m\u001b[1;33m.\u001b[0m\u001b[0mfit\u001b[0m\u001b[1;33m(\u001b[0m\u001b[0mX_train\u001b[0m\u001b[1;33m,\u001b[0m \u001b[1;33m**\u001b[0m\u001b[0mfit_params\u001b[0m\u001b[1;33m)\u001b[0m\u001b[1;33m\u001b[0m\u001b[1;33m\u001b[0m\u001b[0m\n\u001b[0;32m    514\u001b[0m         \u001b[1;32melse\u001b[0m\u001b[1;33m:\u001b[0m\u001b[1;33m\u001b[0m\u001b[1;33m\u001b[0m\u001b[0m\n\u001b[1;32m--> 515\u001b[1;33m             \u001b[0mestimator\u001b[0m\u001b[1;33m.\u001b[0m\u001b[0mfit\u001b[0m\u001b[1;33m(\u001b[0m\u001b[0mX_train\u001b[0m\u001b[1;33m,\u001b[0m \u001b[0my_train\u001b[0m\u001b[1;33m,\u001b[0m \u001b[1;33m**\u001b[0m\u001b[0mfit_params\u001b[0m\u001b[1;33m)\u001b[0m\u001b[1;33m\u001b[0m\u001b[1;33m\u001b[0m\u001b[0m\n\u001b[0m\u001b[0;32m    516\u001b[0m \u001b[1;33m\u001b[0m\u001b[0m\n\u001b[0;32m    517\u001b[0m     \u001b[1;32mexcept\u001b[0m \u001b[0mException\u001b[0m \u001b[1;32mas\u001b[0m \u001b[0me\u001b[0m\u001b[1;33m:\u001b[0m\u001b[1;33m\u001b[0m\u001b[1;33m\u001b[0m\u001b[0m\n",
      "\u001b[1;32m~\\Anaconda3\\lib\\site-packages\\sklearn\\ensemble\\_forest.py\u001b[0m in \u001b[0;36mfit\u001b[1;34m(self, X, y, sample_weight)\u001b[0m\n\u001b[0;32m    381\u001b[0m                     \u001b[0mverbose\u001b[0m\u001b[1;33m=\u001b[0m\u001b[0mself\u001b[0m\u001b[1;33m.\u001b[0m\u001b[0mverbose\u001b[0m\u001b[1;33m,\u001b[0m \u001b[0mclass_weight\u001b[0m\u001b[1;33m=\u001b[0m\u001b[0mself\u001b[0m\u001b[1;33m.\u001b[0m\u001b[0mclass_weight\u001b[0m\u001b[1;33m,\u001b[0m\u001b[1;33m\u001b[0m\u001b[1;33m\u001b[0m\u001b[0m\n\u001b[0;32m    382\u001b[0m                     n_samples_bootstrap=n_samples_bootstrap)\n\u001b[1;32m--> 383\u001b[1;33m                 for i, t in enumerate(trees))\n\u001b[0m\u001b[0;32m    384\u001b[0m \u001b[1;33m\u001b[0m\u001b[0m\n\u001b[0;32m    385\u001b[0m             \u001b[1;31m# Collect newly grown trees\u001b[0m\u001b[1;33m\u001b[0m\u001b[1;33m\u001b[0m\u001b[1;33m\u001b[0m\u001b[0m\n",
      "\u001b[1;32m~\\Anaconda3\\lib\\site-packages\\joblib\\parallel.py\u001b[0m in \u001b[0;36m__call__\u001b[1;34m(self, iterable)\u001b[0m\n\u001b[0;32m    922\u001b[0m                 \u001b[0mself\u001b[0m\u001b[1;33m.\u001b[0m\u001b[0m_iterating\u001b[0m \u001b[1;33m=\u001b[0m \u001b[0mself\u001b[0m\u001b[1;33m.\u001b[0m\u001b[0m_original_iterator\u001b[0m \u001b[1;32mis\u001b[0m \u001b[1;32mnot\u001b[0m \u001b[1;32mNone\u001b[0m\u001b[1;33m\u001b[0m\u001b[1;33m\u001b[0m\u001b[0m\n\u001b[0;32m    923\u001b[0m \u001b[1;33m\u001b[0m\u001b[0m\n\u001b[1;32m--> 924\u001b[1;33m             \u001b[1;32mwhile\u001b[0m \u001b[0mself\u001b[0m\u001b[1;33m.\u001b[0m\u001b[0mdispatch_one_batch\u001b[0m\u001b[1;33m(\u001b[0m\u001b[0miterator\u001b[0m\u001b[1;33m)\u001b[0m\u001b[1;33m:\u001b[0m\u001b[1;33m\u001b[0m\u001b[1;33m\u001b[0m\u001b[0m\n\u001b[0m\u001b[0;32m    925\u001b[0m                 \u001b[1;32mpass\u001b[0m\u001b[1;33m\u001b[0m\u001b[1;33m\u001b[0m\u001b[0m\n\u001b[0;32m    926\u001b[0m \u001b[1;33m\u001b[0m\u001b[0m\n",
      "\u001b[1;32m~\\Anaconda3\\lib\\site-packages\\joblib\\parallel.py\u001b[0m in \u001b[0;36mdispatch_one_batch\u001b[1;34m(self, iterator)\u001b[0m\n\u001b[0;32m    757\u001b[0m                 \u001b[1;32mreturn\u001b[0m \u001b[1;32mFalse\u001b[0m\u001b[1;33m\u001b[0m\u001b[1;33m\u001b[0m\u001b[0m\n\u001b[0;32m    758\u001b[0m             \u001b[1;32melse\u001b[0m\u001b[1;33m:\u001b[0m\u001b[1;33m\u001b[0m\u001b[1;33m\u001b[0m\u001b[0m\n\u001b[1;32m--> 759\u001b[1;33m                 \u001b[0mself\u001b[0m\u001b[1;33m.\u001b[0m\u001b[0m_dispatch\u001b[0m\u001b[1;33m(\u001b[0m\u001b[0mtasks\u001b[0m\u001b[1;33m)\u001b[0m\u001b[1;33m\u001b[0m\u001b[1;33m\u001b[0m\u001b[0m\n\u001b[0m\u001b[0;32m    760\u001b[0m                 \u001b[1;32mreturn\u001b[0m \u001b[1;32mTrue\u001b[0m\u001b[1;33m\u001b[0m\u001b[1;33m\u001b[0m\u001b[0m\n\u001b[0;32m    761\u001b[0m \u001b[1;33m\u001b[0m\u001b[0m\n",
      "\u001b[1;32m~\\Anaconda3\\lib\\site-packages\\joblib\\parallel.py\u001b[0m in \u001b[0;36m_dispatch\u001b[1;34m(self, batch)\u001b[0m\n\u001b[0;32m    714\u001b[0m         \u001b[1;32mwith\u001b[0m \u001b[0mself\u001b[0m\u001b[1;33m.\u001b[0m\u001b[0m_lock\u001b[0m\u001b[1;33m:\u001b[0m\u001b[1;33m\u001b[0m\u001b[1;33m\u001b[0m\u001b[0m\n\u001b[0;32m    715\u001b[0m             \u001b[0mjob_idx\u001b[0m \u001b[1;33m=\u001b[0m \u001b[0mlen\u001b[0m\u001b[1;33m(\u001b[0m\u001b[0mself\u001b[0m\u001b[1;33m.\u001b[0m\u001b[0m_jobs\u001b[0m\u001b[1;33m)\u001b[0m\u001b[1;33m\u001b[0m\u001b[1;33m\u001b[0m\u001b[0m\n\u001b[1;32m--> 716\u001b[1;33m             \u001b[0mjob\u001b[0m \u001b[1;33m=\u001b[0m \u001b[0mself\u001b[0m\u001b[1;33m.\u001b[0m\u001b[0m_backend\u001b[0m\u001b[1;33m.\u001b[0m\u001b[0mapply_async\u001b[0m\u001b[1;33m(\u001b[0m\u001b[0mbatch\u001b[0m\u001b[1;33m,\u001b[0m \u001b[0mcallback\u001b[0m\u001b[1;33m=\u001b[0m\u001b[0mcb\u001b[0m\u001b[1;33m)\u001b[0m\u001b[1;33m\u001b[0m\u001b[1;33m\u001b[0m\u001b[0m\n\u001b[0m\u001b[0;32m    717\u001b[0m             \u001b[1;31m# A job can complete so quickly than its callback is\u001b[0m\u001b[1;33m\u001b[0m\u001b[1;33m\u001b[0m\u001b[1;33m\u001b[0m\u001b[0m\n\u001b[0;32m    718\u001b[0m             \u001b[1;31m# called before we get here, causing self._jobs to\u001b[0m\u001b[1;33m\u001b[0m\u001b[1;33m\u001b[0m\u001b[1;33m\u001b[0m\u001b[0m\n",
      "\u001b[1;32m~\\Anaconda3\\lib\\site-packages\\joblib\\_parallel_backends.py\u001b[0m in \u001b[0;36mapply_async\u001b[1;34m(self, func, callback)\u001b[0m\n\u001b[0;32m    180\u001b[0m     \u001b[1;32mdef\u001b[0m \u001b[0mapply_async\u001b[0m\u001b[1;33m(\u001b[0m\u001b[0mself\u001b[0m\u001b[1;33m,\u001b[0m \u001b[0mfunc\u001b[0m\u001b[1;33m,\u001b[0m \u001b[0mcallback\u001b[0m\u001b[1;33m=\u001b[0m\u001b[1;32mNone\u001b[0m\u001b[1;33m)\u001b[0m\u001b[1;33m:\u001b[0m\u001b[1;33m\u001b[0m\u001b[1;33m\u001b[0m\u001b[0m\n\u001b[0;32m    181\u001b[0m         \u001b[1;34m\"\"\"Schedule a func to be run\"\"\"\u001b[0m\u001b[1;33m\u001b[0m\u001b[1;33m\u001b[0m\u001b[0m\n\u001b[1;32m--> 182\u001b[1;33m         \u001b[0mresult\u001b[0m \u001b[1;33m=\u001b[0m \u001b[0mImmediateResult\u001b[0m\u001b[1;33m(\u001b[0m\u001b[0mfunc\u001b[0m\u001b[1;33m)\u001b[0m\u001b[1;33m\u001b[0m\u001b[1;33m\u001b[0m\u001b[0m\n\u001b[0m\u001b[0;32m    183\u001b[0m         \u001b[1;32mif\u001b[0m \u001b[0mcallback\u001b[0m\u001b[1;33m:\u001b[0m\u001b[1;33m\u001b[0m\u001b[1;33m\u001b[0m\u001b[0m\n\u001b[0;32m    184\u001b[0m             \u001b[0mcallback\u001b[0m\u001b[1;33m(\u001b[0m\u001b[0mresult\u001b[0m\u001b[1;33m)\u001b[0m\u001b[1;33m\u001b[0m\u001b[1;33m\u001b[0m\u001b[0m\n",
      "\u001b[1;32m~\\Anaconda3\\lib\\site-packages\\joblib\\_parallel_backends.py\u001b[0m in \u001b[0;36m__init__\u001b[1;34m(self, batch)\u001b[0m\n\u001b[0;32m    547\u001b[0m         \u001b[1;31m# Don't delay the application, to avoid keeping the input\u001b[0m\u001b[1;33m\u001b[0m\u001b[1;33m\u001b[0m\u001b[1;33m\u001b[0m\u001b[0m\n\u001b[0;32m    548\u001b[0m         \u001b[1;31m# arguments in memory\u001b[0m\u001b[1;33m\u001b[0m\u001b[1;33m\u001b[0m\u001b[1;33m\u001b[0m\u001b[0m\n\u001b[1;32m--> 549\u001b[1;33m         \u001b[0mself\u001b[0m\u001b[1;33m.\u001b[0m\u001b[0mresults\u001b[0m \u001b[1;33m=\u001b[0m \u001b[0mbatch\u001b[0m\u001b[1;33m(\u001b[0m\u001b[1;33m)\u001b[0m\u001b[1;33m\u001b[0m\u001b[1;33m\u001b[0m\u001b[0m\n\u001b[0m\u001b[0;32m    550\u001b[0m \u001b[1;33m\u001b[0m\u001b[0m\n\u001b[0;32m    551\u001b[0m     \u001b[1;32mdef\u001b[0m \u001b[0mget\u001b[0m\u001b[1;33m(\u001b[0m\u001b[0mself\u001b[0m\u001b[1;33m)\u001b[0m\u001b[1;33m:\u001b[0m\u001b[1;33m\u001b[0m\u001b[1;33m\u001b[0m\u001b[0m\n",
      "\u001b[1;32m~\\Anaconda3\\lib\\site-packages\\joblib\\parallel.py\u001b[0m in \u001b[0;36m__call__\u001b[1;34m(self)\u001b[0m\n\u001b[0;32m    223\u001b[0m         \u001b[1;32mwith\u001b[0m \u001b[0mparallel_backend\u001b[0m\u001b[1;33m(\u001b[0m\u001b[0mself\u001b[0m\u001b[1;33m.\u001b[0m\u001b[0m_backend\u001b[0m\u001b[1;33m,\u001b[0m \u001b[0mn_jobs\u001b[0m\u001b[1;33m=\u001b[0m\u001b[0mself\u001b[0m\u001b[1;33m.\u001b[0m\u001b[0m_n_jobs\u001b[0m\u001b[1;33m)\u001b[0m\u001b[1;33m:\u001b[0m\u001b[1;33m\u001b[0m\u001b[1;33m\u001b[0m\u001b[0m\n\u001b[0;32m    224\u001b[0m             return [func(*args, **kwargs)\n\u001b[1;32m--> 225\u001b[1;33m                     for func, args, kwargs in self.items]\n\u001b[0m\u001b[0;32m    226\u001b[0m \u001b[1;33m\u001b[0m\u001b[0m\n\u001b[0;32m    227\u001b[0m     \u001b[1;32mdef\u001b[0m \u001b[0m__len__\u001b[0m\u001b[1;33m(\u001b[0m\u001b[0mself\u001b[0m\u001b[1;33m)\u001b[0m\u001b[1;33m:\u001b[0m\u001b[1;33m\u001b[0m\u001b[1;33m\u001b[0m\u001b[0m\n",
      "\u001b[1;32m~\\Anaconda3\\lib\\site-packages\\joblib\\parallel.py\u001b[0m in \u001b[0;36m<listcomp>\u001b[1;34m(.0)\u001b[0m\n\u001b[0;32m    223\u001b[0m         \u001b[1;32mwith\u001b[0m \u001b[0mparallel_backend\u001b[0m\u001b[1;33m(\u001b[0m\u001b[0mself\u001b[0m\u001b[1;33m.\u001b[0m\u001b[0m_backend\u001b[0m\u001b[1;33m,\u001b[0m \u001b[0mn_jobs\u001b[0m\u001b[1;33m=\u001b[0m\u001b[0mself\u001b[0m\u001b[1;33m.\u001b[0m\u001b[0m_n_jobs\u001b[0m\u001b[1;33m)\u001b[0m\u001b[1;33m:\u001b[0m\u001b[1;33m\u001b[0m\u001b[1;33m\u001b[0m\u001b[0m\n\u001b[0;32m    224\u001b[0m             return [func(*args, **kwargs)\n\u001b[1;32m--> 225\u001b[1;33m                     for func, args, kwargs in self.items]\n\u001b[0m\u001b[0;32m    226\u001b[0m \u001b[1;33m\u001b[0m\u001b[0m\n\u001b[0;32m    227\u001b[0m     \u001b[1;32mdef\u001b[0m \u001b[0m__len__\u001b[0m\u001b[1;33m(\u001b[0m\u001b[0mself\u001b[0m\u001b[1;33m)\u001b[0m\u001b[1;33m:\u001b[0m\u001b[1;33m\u001b[0m\u001b[1;33m\u001b[0m\u001b[0m\n",
      "\u001b[1;32m~\\Anaconda3\\lib\\site-packages\\sklearn\\ensemble\\_forest.py\u001b[0m in \u001b[0;36m_parallel_build_trees\u001b[1;34m(tree, forest, X, y, sample_weight, tree_idx, n_trees, verbose, class_weight, n_samples_bootstrap)\u001b[0m\n\u001b[0;32m    163\u001b[0m             \u001b[0mcurr_sample_weight\u001b[0m \u001b[1;33m*=\u001b[0m \u001b[0mcompute_sample_weight\u001b[0m\u001b[1;33m(\u001b[0m\u001b[1;34m'balanced'\u001b[0m\u001b[1;33m,\u001b[0m \u001b[0my\u001b[0m\u001b[1;33m,\u001b[0m \u001b[0mindices\u001b[0m\u001b[1;33m)\u001b[0m\u001b[1;33m\u001b[0m\u001b[1;33m\u001b[0m\u001b[0m\n\u001b[0;32m    164\u001b[0m \u001b[1;33m\u001b[0m\u001b[0m\n\u001b[1;32m--> 165\u001b[1;33m         \u001b[0mtree\u001b[0m\u001b[1;33m.\u001b[0m\u001b[0mfit\u001b[0m\u001b[1;33m(\u001b[0m\u001b[0mX\u001b[0m\u001b[1;33m,\u001b[0m \u001b[0my\u001b[0m\u001b[1;33m,\u001b[0m \u001b[0msample_weight\u001b[0m\u001b[1;33m=\u001b[0m\u001b[0mcurr_sample_weight\u001b[0m\u001b[1;33m,\u001b[0m \u001b[0mcheck_input\u001b[0m\u001b[1;33m=\u001b[0m\u001b[1;32mFalse\u001b[0m\u001b[1;33m)\u001b[0m\u001b[1;33m\u001b[0m\u001b[1;33m\u001b[0m\u001b[0m\n\u001b[0m\u001b[0;32m    166\u001b[0m     \u001b[1;32melse\u001b[0m\u001b[1;33m:\u001b[0m\u001b[1;33m\u001b[0m\u001b[1;33m\u001b[0m\u001b[0m\n\u001b[0;32m    167\u001b[0m         \u001b[0mtree\u001b[0m\u001b[1;33m.\u001b[0m\u001b[0mfit\u001b[0m\u001b[1;33m(\u001b[0m\u001b[0mX\u001b[0m\u001b[1;33m,\u001b[0m \u001b[0my\u001b[0m\u001b[1;33m,\u001b[0m \u001b[0msample_weight\u001b[0m\u001b[1;33m=\u001b[0m\u001b[0msample_weight\u001b[0m\u001b[1;33m,\u001b[0m \u001b[0mcheck_input\u001b[0m\u001b[1;33m=\u001b[0m\u001b[1;32mFalse\u001b[0m\u001b[1;33m)\u001b[0m\u001b[1;33m\u001b[0m\u001b[1;33m\u001b[0m\u001b[0m\n",
      "\u001b[1;32m~\\Anaconda3\\lib\\site-packages\\sklearn\\tree\\_classes.py\u001b[0m in \u001b[0;36mfit\u001b[1;34m(self, X, y, sample_weight, check_input, X_idx_sorted)\u001b[0m\n\u001b[0;32m    874\u001b[0m             \u001b[0msample_weight\u001b[0m\u001b[1;33m=\u001b[0m\u001b[0msample_weight\u001b[0m\u001b[1;33m,\u001b[0m\u001b[1;33m\u001b[0m\u001b[1;33m\u001b[0m\u001b[0m\n\u001b[0;32m    875\u001b[0m             \u001b[0mcheck_input\u001b[0m\u001b[1;33m=\u001b[0m\u001b[0mcheck_input\u001b[0m\u001b[1;33m,\u001b[0m\u001b[1;33m\u001b[0m\u001b[1;33m\u001b[0m\u001b[0m\n\u001b[1;32m--> 876\u001b[1;33m             X_idx_sorted=X_idx_sorted)\n\u001b[0m\u001b[0;32m    877\u001b[0m         \u001b[1;32mreturn\u001b[0m \u001b[0mself\u001b[0m\u001b[1;33m\u001b[0m\u001b[1;33m\u001b[0m\u001b[0m\n\u001b[0;32m    878\u001b[0m \u001b[1;33m\u001b[0m\u001b[0m\n",
      "\u001b[1;32m~\\Anaconda3\\lib\\site-packages\\sklearn\\tree\\_classes.py\u001b[0m in \u001b[0;36mfit\u001b[1;34m(self, X, y, sample_weight, check_input, X_idx_sorted)\u001b[0m\n\u001b[0;32m    365\u001b[0m                                            min_impurity_split)\n\u001b[0;32m    366\u001b[0m \u001b[1;33m\u001b[0m\u001b[0m\n\u001b[1;32m--> 367\u001b[1;33m         \u001b[0mbuilder\u001b[0m\u001b[1;33m.\u001b[0m\u001b[0mbuild\u001b[0m\u001b[1;33m(\u001b[0m\u001b[0mself\u001b[0m\u001b[1;33m.\u001b[0m\u001b[0mtree_\u001b[0m\u001b[1;33m,\u001b[0m \u001b[0mX\u001b[0m\u001b[1;33m,\u001b[0m \u001b[0my\u001b[0m\u001b[1;33m,\u001b[0m \u001b[0msample_weight\u001b[0m\u001b[1;33m,\u001b[0m \u001b[0mX_idx_sorted\u001b[0m\u001b[1;33m)\u001b[0m\u001b[1;33m\u001b[0m\u001b[1;33m\u001b[0m\u001b[0m\n\u001b[0m\u001b[0;32m    368\u001b[0m \u001b[1;33m\u001b[0m\u001b[0m\n\u001b[0;32m    369\u001b[0m         \u001b[1;32mif\u001b[0m \u001b[0mself\u001b[0m\u001b[1;33m.\u001b[0m\u001b[0mn_outputs_\u001b[0m \u001b[1;33m==\u001b[0m \u001b[1;36m1\u001b[0m \u001b[1;32mand\u001b[0m \u001b[0mis_classifier\u001b[0m\u001b[1;33m(\u001b[0m\u001b[0mself\u001b[0m\u001b[1;33m)\u001b[0m\u001b[1;33m:\u001b[0m\u001b[1;33m\u001b[0m\u001b[1;33m\u001b[0m\u001b[0m\n",
      "\u001b[1;31mKeyboardInterrupt\u001b[0m: "
     ]
    }
   ],
   "source": [
    "rfc = RandomForestClassifier()\n",
    "CV_rfc = GridSearchCV(estimator=rfc, param_grid=param_grid, cv= 5)\n",
    "X_train, X_test, y_train, y_test = train_test_split(X_smote, y_smote, test_size=0.3, random_state=0)\n",
    "CV_rfc.fit( X_train, y_train )"
   ]
  },
  {
   "cell_type": "code",
   "execution_count": 133,
   "metadata": {},
   "outputs": [
    {
     "ename": "AttributeError",
     "evalue": "'GridSearchCV' object has no attribute 'best_params_'",
     "output_type": "error",
     "traceback": [
      "\u001b[1;31m---------------------------------------------------------------------------\u001b[0m",
      "\u001b[1;31mAttributeError\u001b[0m                            Traceback (most recent call last)",
      "\u001b[1;32m<ipython-input-133-8fbbade54316>\u001b[0m in \u001b[0;36m<module>\u001b[1;34m\u001b[0m\n\u001b[1;32m----> 1\u001b[1;33m \u001b[0mCV_rfc\u001b[0m\u001b[1;33m.\u001b[0m\u001b[0mbest_params_\u001b[0m\u001b[1;33m\u001b[0m\u001b[1;33m\u001b[0m\u001b[0m\n\u001b[0m",
      "\u001b[1;31mAttributeError\u001b[0m: 'GridSearchCV' object has no attribute 'best_params_'"
     ]
    }
   ],
   "source": [
    "CV_rfc.best_params_"
   ]
  },
  {
   "cell_type": "code",
   "execution_count": 99,
   "metadata": {},
   "outputs": [
    {
     "data": {
      "text/plain": [
       "array([10., 20., 30., 40., 50.])"
      ]
     },
     "execution_count": 99,
     "metadata": {},
     "output_type": "execute_result"
    }
   ],
   "source": [
    "np.linspace(10, 50, num = 5)"
   ]
  },
  {
   "cell_type": "code",
   "execution_count": null,
   "metadata": {},
   "outputs": [],
   "source": [
    "from pprint import pprint\n",
    "# Look at parameters used by our current forest\n",
    "print('Parameters currently in use:\\n')\n",
    "pprint(rfc.get_params())\n",
    "pprint(CV_rfc.get_params())"
   ]
  },
  {
   "cell_type": "code",
   "execution_count": null,
   "metadata": {},
   "outputs": [],
   "source": [
    "rfc1=RandomForestClassifier(random_state=42)\n",
    "rfc1.fit( X_train, y_train )\n",
    "y_test_pred_rfc1 = rfc1.predict(X_test)\n",
    "print(accuracy_score(y_test_pred_rfc1 , y_test))\n",
    "# y_pred_proba = rfc.predict_proba(X_test)[::,1]\n",
    "fpr, tpr, _ = roc_curve(y_test,  y_test_pred_rfc1)\n",
    "auc = roc_auc_score(y_test, y_test_pred_rfc1)\n",
    "plt.plot(fpr,tpr,label=\"Random Forest SMOTE best para, auc=\"+str(auc))\n",
    "plt.legend(loc=4)\n",
    "plt.show()"
   ]
  },
  {
   "cell_type": "code",
   "execution_count": null,
   "metadata": {},
   "outputs": [],
   "source": [
    "cnf_matrix_rfc_grid = confusion_matrix(y_test , y_test_pred_rfc1)\n",
    "cnf_matrix_rfc_grid"
   ]
  },
  {
   "cell_type": "code",
   "execution_count": null,
   "metadata": {},
   "outputs": [],
   "source": []
  },
  {
   "cell_type": "code",
   "execution_count": null,
   "metadata": {},
   "outputs": [],
   "source": []
  },
  {
   "cell_type": "code",
   "execution_count": null,
   "metadata": {},
   "outputs": [],
   "source": []
  },
  {
   "cell_type": "code",
   "execution_count": null,
   "metadata": {},
   "outputs": [],
   "source": []
  },
  {
   "cell_type": "code",
   "execution_count": null,
   "metadata": {},
   "outputs": [],
   "source": []
  },
  {
   "cell_type": "code",
   "execution_count": null,
   "metadata": {},
   "outputs": [],
   "source": []
  },
  {
   "cell_type": "code",
   "execution_count": null,
   "metadata": {},
   "outputs": [],
   "source": []
  },
  {
   "cell_type": "code",
   "execution_count": null,
   "metadata": {},
   "outputs": [],
   "source": []
  },
  {
   "cell_type": "code",
   "execution_count": null,
   "metadata": {},
   "outputs": [],
   "source": []
  },
  {
   "cell_type": "code",
   "execution_count": null,
   "metadata": {},
   "outputs": [],
   "source": []
  },
  {
   "cell_type": "code",
   "execution_count": null,
   "metadata": {},
   "outputs": [],
   "source": []
  },
  {
   "cell_type": "code",
   "execution_count": null,
   "metadata": {},
   "outputs": [],
   "source": []
  },
  {
   "cell_type": "code",
   "execution_count": null,
   "metadata": {},
   "outputs": [],
   "source": []
  },
  {
   "cell_type": "code",
   "execution_count": null,
   "metadata": {},
   "outputs": [],
   "source": []
  },
  {
   "cell_type": "code",
   "execution_count": null,
   "metadata": {},
   "outputs": [],
   "source": []
  },
  {
   "cell_type": "code",
   "execution_count": null,
   "metadata": {},
   "outputs": [],
   "source": []
  },
  {
   "cell_type": "code",
   "execution_count": null,
   "metadata": {},
   "outputs": [],
   "source": []
  },
  {
   "cell_type": "code",
   "execution_count": null,
   "metadata": {},
   "outputs": [],
   "source": []
  },
  {
   "cell_type": "code",
   "execution_count": null,
   "metadata": {},
   "outputs": [],
   "source": []
  },
  {
   "cell_type": "code",
   "execution_count": null,
   "metadata": {},
   "outputs": [],
   "source": []
  },
  {
   "cell_type": "code",
   "execution_count": null,
   "metadata": {},
   "outputs": [],
   "source": []
  },
  {
   "cell_type": "code",
   "execution_count": null,
   "metadata": {},
   "outputs": [],
   "source": []
  },
  {
   "cell_type": "code",
   "execution_count": null,
   "metadata": {},
   "outputs": [],
   "source": []
  },
  {
   "cell_type": "code",
   "execution_count": null,
   "metadata": {},
   "outputs": [],
   "source": []
  },
  {
   "cell_type": "code",
   "execution_count": null,
   "metadata": {},
   "outputs": [],
   "source": []
  }
 ],
 "metadata": {
  "kernelspec": {
   "display_name": "Python 3",
   "language": "python",
   "name": "python3"
  },
  "language_info": {
   "codemirror_mode": {
    "name": "ipython",
    "version": 3
   },
   "file_extension": ".py",
   "mimetype": "text/x-python",
   "name": "python",
   "nbconvert_exporter": "python",
   "pygments_lexer": "ipython3",
   "version": "3.6.5"
  }
 },
 "nbformat": 4,
 "nbformat_minor": 2
}
